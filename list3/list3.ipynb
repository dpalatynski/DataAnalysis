{
 "cells": [
  {
   "cell_type": "code",
   "execution_count": 1,
   "metadata": {},
   "outputs": [],
   "source": [
    "import pandas as pd\n",
    "import matplotlib.pyplot as plt\n",
    "\n",
    "import datetime\n",
    "\n",
    "from googleapiclient.discovery import build\n",
    "from IPython.display import Image, HTML, IFrame"
   ]
  },
  {
   "cell_type": "code",
   "execution_count": 3,
   "metadata": {},
   "outputs": [],
   "source": [
    "MINDYOURDECISIONS = ['UCHnj59g7jezwTy5GeL8EA_g', 'MindYourDecisions']\n",
    "BLACKPENREDPEN = ['UC_SvYP0k05UKiJ_2ndB02IA', 'blackpenredpen']\n",
    "CHANNELS = [MINDYOURDECISIONS, BLACKPENREDPEN]"
   ]
  },
  {
   "cell_type": "code",
   "execution_count": 4,
   "metadata": {},
   "outputs": [],
   "source": [
    "youtube = build('youtube','v3',developerKey=YT_API_KEY)"
   ]
  },
  {
   "cell_type": "code",
   "execution_count": 5,
   "metadata": {},
   "outputs": [],
   "source": [
    "def get_thumbnail(channel_id):\n",
    "    snippets = youtube.search().list(part=\"snippet\", type=\"channel\", q=channel_id).execute()\n",
    "    \n",
    "    return snippets['items'][0]['snippet']['thumbnails']['high']['url']"
   ]
  },
  {
   "cell_type": "code",
   "execution_count": 6,
   "metadata": {},
   "outputs": [],
   "source": [
    "def basic_stats(channel_id):\n",
    "    stats = youtube.channels().list(part=\"statistics\", id=channel_id[0]).execute()\n",
    "\n",
    "    df = pd.DataFrame({channel_id[1]: stats['items'][0]['statistics']})\n",
    "    df = df.rename({'subscriberCount': 'Subscribers', 'videoCount': 'Videos', 'viewCount': 'Views'}, axis='rows')\n",
    "    df = df.drop('hiddenSubscriberCount')\n",
    "    \n",
    "    return df"
   ]
  },
  {
   "cell_type": "code",
   "execution_count": 7,
   "metadata": {},
   "outputs": [],
   "source": [
    "def basic_stats_combined(channels):\n",
    "    df = pd.DataFrame()\n",
    "    for channel in channels:\n",
    "        stats = youtube.channels().list(part=\"statistics\", id=channel[0]).execute()\n",
    "\n",
    "        df[channel[1]] = stats['items'][0]['statistics'].values()\n",
    "    df = df.rename({1: 'Subscribers', 3: 'Videos', 0: 'Views'}, axis='rows')\n",
    "    df = df.drop(2)\n",
    "    \n",
    "    df = df.apply(pd.to_numeric)\n",
    "    \n",
    "    return df"
   ]
  },
  {
   "cell_type": "code",
   "execution_count": 8,
   "metadata": {},
   "outputs": [],
   "source": [
    "df = basic_stats_combined(CHANNELS)"
   ]
  },
  {
   "cell_type": "markdown",
   "metadata": {},
   "source": [
    "<h1 style=font-size:50px> Characterization </h1>"
   ]
  },
  {
   "cell_type": "markdown",
   "metadata": {},
   "source": [
    "<h1> blackpen<font color='red'>redpen</font></h1>\n",
    "\n",
    "This channel is about math for fun! Most of the topics will be calculus-based. Sometimes we will also investigate some weird equations and complex numbers! Blackpenredpen is a YouTube star and professor at Pierce College in Los Angeles, who runs a channel where he posts videos of himself solving mathematical problems, with a focus on calculus and solving integrals. He is known for having a number of characteristic catchphrases, such as \"I don't like to be on the bottom; I like to be on top\", when moving the imaginary unit number from the bottom to the top of a quotient expression.\n",
    "The name of the channel comes from the colors he prefers for whiteboard markers in many of his videos, and as time went on and he progressed to more complex problems and other colored markers began to be necessitated, it became something of a running joke.\n"
   ]
  },
  {
   "cell_type": "code",
   "execution_count": 9,
   "metadata": {},
   "outputs": [
    {
     "data": {
      "text/html": [
       "<img src=\"https://yt3.ggpht.com/3bNEp9NtXp2kR2yJ3sgzh1V6Twm04_hC0wiOqrCiCSqxSySzt0180h9Of7GU9o9tmxr6eSNAbQ=s800-c-k-c0xffffffff-no-rj-mo\" width=\"400\" height=\"400\"/>"
      ],
      "text/plain": [
       "<IPython.core.display.Image object>"
      ]
     },
     "execution_count": 9,
     "metadata": {},
     "output_type": "execute_result"
    }
   ],
   "source": [
    "Image(url= get_thumbnail(BLACKPENREDPEN[0]), width=400, height=400)"
   ]
  },
  {
   "cell_type": "code",
   "execution_count": 10,
   "metadata": {},
   "outputs": [
    {
     "data": {
      "text/html": [
       "<div>\n",
       "<style scoped>\n",
       "    .dataframe tbody tr th:only-of-type {\n",
       "        vertical-align: middle;\n",
       "    }\n",
       "\n",
       "    .dataframe tbody tr th {\n",
       "        vertical-align: top;\n",
       "    }\n",
       "\n",
       "    .dataframe thead th {\n",
       "        text-align: right;\n",
       "    }\n",
       "</style>\n",
       "<table border=\"1\" class=\"dataframe\">\n",
       "  <thead>\n",
       "    <tr style=\"text-align: right;\">\n",
       "      <th></th>\n",
       "      <th>blackpenredpen</th>\n",
       "    </tr>\n",
       "  </thead>\n",
       "  <tbody>\n",
       "    <tr>\n",
       "      <th>Subscribers</th>\n",
       "      <td>807000</td>\n",
       "    </tr>\n",
       "    <tr>\n",
       "      <th>Videos</th>\n",
       "      <td>2388</td>\n",
       "    </tr>\n",
       "    <tr>\n",
       "      <th>Views</th>\n",
       "      <td>124673967</td>\n",
       "    </tr>\n",
       "  </tbody>\n",
       "</table>\n",
       "</div>"
      ],
      "text/plain": [
       "            blackpenredpen\n",
       "Subscribers         807000\n",
       "Videos                2388\n",
       "Views            124673967"
      ]
     },
     "execution_count": 10,
     "metadata": {},
     "output_type": "execute_result"
    }
   ],
   "source": [
    "basic_stats(BLACKPENREDPEN)"
   ]
  },
  {
   "cell_type": "markdown",
   "metadata": {},
   "source": [
    "<h1> MindYourDecisions </h1>"
   ]
  },
  {
   "cell_type": "markdown",
   "metadata": {},
   "source": [
    "He run the MindYourDecisions channel on YouTube, which has over 1 million subscribers and 200 million views. He is also the author of The Joy of Game Theory: An Introduction to Strategic Thinking, and several other books which are available on Amazon. By way of history, He started the Mind Your Decisions blog back in 2007 to share a bit of math, personal finance, personal thoughts, and game theory. It's been quite a journey! He studied Economics and Mathematics at Stanford University."
   ]
  },
  {
   "cell_type": "code",
   "execution_count": 11,
   "metadata": {},
   "outputs": [
    {
     "data": {
      "text/html": [
       "<img src=\"https://yt3.ggpht.com/ytc/AKedOLT_p7D8DpqINAWe7qAgmPDPy82zRpnjwaAPhae7=s800-c-k-c0xffffffff-no-rj-mo\" width=\"400\" height=\"400\"/>"
      ],
      "text/plain": [
       "<IPython.core.display.Image object>"
      ]
     },
     "execution_count": 11,
     "metadata": {},
     "output_type": "execute_result"
    }
   ],
   "source": [
    "Image(url= get_thumbnail(MINDYOURDECISIONS[0]), width=400, height=400)"
   ]
  },
  {
   "cell_type": "code",
   "execution_count": 12,
   "metadata": {},
   "outputs": [
    {
     "data": {
      "text/html": [
       "<div>\n",
       "<style scoped>\n",
       "    .dataframe tbody tr th:only-of-type {\n",
       "        vertical-align: middle;\n",
       "    }\n",
       "\n",
       "    .dataframe tbody tr th {\n",
       "        vertical-align: top;\n",
       "    }\n",
       "\n",
       "    .dataframe thead th {\n",
       "        text-align: right;\n",
       "    }\n",
       "</style>\n",
       "<table border=\"1\" class=\"dataframe\">\n",
       "  <thead>\n",
       "    <tr style=\"text-align: right;\">\n",
       "      <th></th>\n",
       "      <th>MindYourDecisions</th>\n",
       "    </tr>\n",
       "  </thead>\n",
       "  <tbody>\n",
       "    <tr>\n",
       "      <th>Subscribers</th>\n",
       "      <td>2520000</td>\n",
       "    </tr>\n",
       "    <tr>\n",
       "      <th>Videos</th>\n",
       "      <td>651</td>\n",
       "    </tr>\n",
       "    <tr>\n",
       "      <th>Views</th>\n",
       "      <td>355468696</td>\n",
       "    </tr>\n",
       "  </tbody>\n",
       "</table>\n",
       "</div>"
      ],
      "text/plain": [
       "            MindYourDecisions\n",
       "Subscribers           2520000\n",
       "Videos                    651\n",
       "Views               355468696"
      ]
     },
     "execution_count": 12,
     "metadata": {},
     "output_type": "execute_result"
    }
   ],
   "source": [
    "basic_stats(MINDYOURDECISIONS)"
   ]
  },
  {
   "cell_type": "markdown",
   "metadata": {},
   "source": [
    "# Comparision"
   ]
  },
  {
   "cell_type": "markdown",
   "metadata": {},
   "source": [
    "-> bar ploty do tych tabelek"
   ]
  },
  {
   "cell_type": "code",
   "execution_count": 13,
   "metadata": {},
   "outputs": [
    {
     "data": {
      "text/html": [
       "<div>\n",
       "<style scoped>\n",
       "    .dataframe tbody tr th:only-of-type {\n",
       "        vertical-align: middle;\n",
       "    }\n",
       "\n",
       "    .dataframe tbody tr th {\n",
       "        vertical-align: top;\n",
       "    }\n",
       "\n",
       "    .dataframe thead th {\n",
       "        text-align: right;\n",
       "    }\n",
       "</style>\n",
       "<table border=\"1\" class=\"dataframe\">\n",
       "  <thead>\n",
       "    <tr style=\"text-align: right;\">\n",
       "      <th></th>\n",
       "      <th>MindYourDecisions</th>\n",
       "      <th>blackpenredpen</th>\n",
       "    </tr>\n",
       "  </thead>\n",
       "  <tbody>\n",
       "    <tr>\n",
       "      <th>Views</th>\n",
       "      <td>355468696</td>\n",
       "      <td>124673967</td>\n",
       "    </tr>\n",
       "    <tr>\n",
       "      <th>Subscribers</th>\n",
       "      <td>2520000</td>\n",
       "      <td>807000</td>\n",
       "    </tr>\n",
       "    <tr>\n",
       "      <th>Videos</th>\n",
       "      <td>651</td>\n",
       "      <td>2388</td>\n",
       "    </tr>\n",
       "  </tbody>\n",
       "</table>\n",
       "</div>"
      ],
      "text/plain": [
       "             MindYourDecisions  blackpenredpen\n",
       "Views                355468696       124673967\n",
       "Subscribers            2520000          807000\n",
       "Videos                     651            2388"
      ]
     },
     "execution_count": 13,
     "metadata": {},
     "output_type": "execute_result"
    }
   ],
   "source": [
    "df = basic_stats_combined(CHANNELS)\n",
    "df"
   ]
  },
  {
   "cell_type": "markdown",
   "metadata": {},
   "source": [
    "# Create dataframes with videos"
   ]
  },
  {
   "cell_type": "code",
   "execution_count": 14,
   "metadata": {},
   "outputs": [],
   "source": [
    "def collect_all_videos(channel_id):\n",
    "    content = youtube.channels().list(id=channel_id, part='contentDetails').execute()\n",
    "    UploadId = content['items'][0]['contentDetails']['relatedPlaylists']['uploads']\n",
    "    \n",
    "    all_videos = []\n",
    "    nextPage_token=None\n",
    "    \n",
    "    while True:\n",
    "        res = youtube.playlistItems().list(playlistId=UploadId, maxResults=50, part='snippet', pageToken=nextPage_token).execute()\n",
    "        all_videos += res[\"items\"]\n",
    "        nextPage_token = res.get(\"nextPageToken\")\n",
    "        if nextPage_token is None:\n",
    "            break\n",
    "        \n",
    "    return all_videos"
   ]
  },
  {
   "cell_type": "code",
   "execution_count": 15,
   "metadata": {},
   "outputs": [],
   "source": [
    "def collect_all_video_info(all_videos):\n",
    "    video_ids = list(map(lambda x:x[\"snippet\"][\"resourceId\"][\"videoId\"], all_videos))\n",
    "    \n",
    "    information = []\n",
    "    for i in range(0, len(video_ids), 40):\n",
    "        res = youtube.videos().list(id=\",\".join(video_ids[i:i+40]),part=\"statistics\").execute()\n",
    "        information += res[\"items\"]\n",
    "        \n",
    "    return information"
   ]
  },
  {
   "cell_type": "code",
   "execution_count": 16,
   "metadata": {},
   "outputs": [],
   "source": [
    "def create_dataframe(all_videos, information):\n",
    "    title, liked, disliked, views, url, comment, videoid, published, description = [], [], [], [], [], [], [], [], []\n",
    "    \n",
    "    for i in range(len(all_videos)):\n",
    "        title.append((all_videos[i])[\"snippet\"][\"title\"])\n",
    "        published.append((all_videos[i])[\"snippet\"][\"publishedAt\"])\n",
    "        description.append((all_videos[i])[\"snippet\"][\"description\"])\n",
    "        liked.append((information[i])[\"statistics\"][\"likeCount\"])\n",
    "        disliked.append((information[i])[\"statistics\"][\"dislikeCount\"])\n",
    "        views.append((information[i])[\"statistics\"][\"viewCount\"])\n",
    "        videoid.append((all_videos[i])[\"snippet\"][\"resourceId\"][\"videoId\"])\n",
    "        if \"commentCount\" in information[i][\"statistics\"]:\n",
    "            comment.append((information[i])[\"statistics\"][\"commentCount\"])\n",
    "        else:\n",
    "            comment.append(0)\n",
    "        \n",
    "    data={\"title\": title,\n",
    "          \"liked\": liked,\n",
    "          \"disliked\": disliked,\n",
    "          \"views\": views,\n",
    "          \"comment\": comment,\n",
    "          \"videoid\": videoid,\n",
    "          \"published\": published,\n",
    "          \"video_description\": description}\n",
    "    \n",
    "    df = pd.DataFrame(data)\n",
    "    \n",
    "    df['liked']=df['liked'].astype('int')\n",
    "    df['disliked']=df['disliked'].astype('int')\n",
    "    df['comment']=df['comment'].astype('int')\n",
    "    df['views'] = df['views'].astype('int')\n",
    "    df['published'] = df['published'].astype('datetime64[ns]')\n",
    "    \n",
    "    return df"
   ]
  },
  {
   "cell_type": "code",
   "execution_count": 17,
   "metadata": {},
   "outputs": [],
   "source": [
    "def get_dataframe(channel_id):\n",
    "    all_videos = collect_all_videos(channel_id)\n",
    "    information = collect_all_video_info(all_videos)    \n",
    "    df = create_dataframe(all_videos, information)\n",
    "    \n",
    "    return df"
   ]
  },
  {
   "cell_type": "markdown",
   "metadata": {},
   "source": [
    "# Creating dataframe with uploaded videos for blackpen<font color='red'>redpen</font>"
   ]
  },
  {
   "cell_type": "code",
   "execution_count": 18,
   "metadata": {},
   "outputs": [],
   "source": [
    "df_blackpenredpen = get_dataframe(BLACKPENREDPEN[0])"
   ]
  },
  {
   "cell_type": "code",
   "execution_count": 19,
   "metadata": {},
   "outputs": [
    {
     "data": {
      "text/html": [
       "<div>\n",
       "<style scoped>\n",
       "    .dataframe tbody tr th:only-of-type {\n",
       "        vertical-align: middle;\n",
       "    }\n",
       "\n",
       "    .dataframe tbody tr th {\n",
       "        vertical-align: top;\n",
       "    }\n",
       "\n",
       "    .dataframe thead th {\n",
       "        text-align: right;\n",
       "    }\n",
       "</style>\n",
       "<table border=\"1\" class=\"dataframe\">\n",
       "  <thead>\n",
       "    <tr style=\"text-align: right;\">\n",
       "      <th></th>\n",
       "      <th>title</th>\n",
       "      <th>liked</th>\n",
       "      <th>disliked</th>\n",
       "      <th>views</th>\n",
       "      <th>comment</th>\n",
       "      <th>videoid</th>\n",
       "      <th>published</th>\n",
       "      <th>video_description</th>\n",
       "    </tr>\n",
       "  </thead>\n",
       "  <tbody>\n",
       "    <tr>\n",
       "      <th>0</th>\n",
       "      <td>An exponential equation inspired by x! = 3</td>\n",
       "      <td>1225</td>\n",
       "      <td>12</td>\n",
       "      <td>30399</td>\n",
       "      <td>86</td>\n",
       "      <td>hztqL8104d0</td>\n",
       "      <td>2021-11-12 15:01:28</td>\n",
       "      <td>An \"integral equation\" inspired by x factorial...</td>\n",
       "    </tr>\n",
       "    <tr>\n",
       "      <th>1</th>\n",
       "      <td>Precalculus teacher vs WolframAlpha student</td>\n",
       "      <td>6954</td>\n",
       "      <td>79</td>\n",
       "      <td>159490</td>\n",
       "      <td>598</td>\n",
       "      <td>s3w9ecPelqc</td>\n",
       "      <td>2021-11-04 12:49:24</td>\n",
       "      <td>The domain of a function is a big part of prec...</td>\n",
       "    </tr>\n",
       "    <tr>\n",
       "      <th>2</th>\n",
       "      <td>when calculus teachers don't think the derivat...</td>\n",
       "      <td>2593</td>\n",
       "      <td>37</td>\n",
       "      <td>96861</td>\n",
       "      <td>208</td>\n",
       "      <td>81TUEBG5rI0</td>\n",
       "      <td>2021-11-02 09:06:35</td>\n",
       "      <td>When calculus teachers don't think the derivat...</td>\n",
       "    </tr>\n",
       "    <tr>\n",
       "      <th>3</th>\n",
       "      <td>my all-in-one calculus question</td>\n",
       "      <td>6228</td>\n",
       "      <td>66</td>\n",
       "      <td>163624</td>\n",
       "      <td>340</td>\n",
       "      <td>X0zYYFgQ5z0</td>\n",
       "      <td>2021-10-21 09:45:53</td>\n",
       "      <td>Want to learn more about calculus limits, deri...</td>\n",
       "    </tr>\n",
       "    <tr>\n",
       "      <th>4</th>\n",
       "      <td>1+0+0+...=?</td>\n",
       "      <td>3214</td>\n",
       "      <td>68</td>\n",
       "      <td>94905</td>\n",
       "      <td>208</td>\n",
       "      <td>GM_wkJOBz9A</td>\n",
       "      <td>2021-10-14 07:55:58</td>\n",
       "      <td>Learn evaluating limits and indeterminate form...</td>\n",
       "    </tr>\n",
       "    <tr>\n",
       "      <th>...</th>\n",
       "      <td>...</td>\n",
       "      <td>...</td>\n",
       "      <td>...</td>\n",
       "      <td>...</td>\n",
       "      <td>...</td>\n",
       "      <td>...</td>\n",
       "      <td>...</td>\n",
       "      <td>...</td>\n",
       "    </tr>\n",
       "    <tr>\n",
       "      <th>2383</th>\n",
       "      <td>[ACCUPLACER] Arithmetic (Q1.) Official Practic...</td>\n",
       "      <td>512</td>\n",
       "      <td>10</td>\n",
       "      <td>91859</td>\n",
       "      <td>11</td>\n",
       "      <td>QpX-A_IUyhs</td>\n",
       "      <td>2013-01-18 00:52:46</td>\n",
       "      <td>ACCUPLACER (by College Board) is a standardize...</td>\n",
       "    </tr>\n",
       "    <tr>\n",
       "      <th>2384</th>\n",
       "      <td>[ACCUPLACER] Arithmetic (Q2.) Official Practic...</td>\n",
       "      <td>403</td>\n",
       "      <td>13</td>\n",
       "      <td>57686</td>\n",
       "      <td>15</td>\n",
       "      <td>OVvuw7jz6TU</td>\n",
       "      <td>2013-01-18 00:37:18</td>\n",
       "      <td>ACCUPLACER (by College Board) is a standardize...</td>\n",
       "    </tr>\n",
       "    <tr>\n",
       "      <th>2385</th>\n",
       "      <td>[ACCUPLACER] Arithmetic (Q3.) Official Practic...</td>\n",
       "      <td>368</td>\n",
       "      <td>14</td>\n",
       "      <td>49393</td>\n",
       "      <td>19</td>\n",
       "      <td>qViF-7zL5RQ</td>\n",
       "      <td>2013-01-18 00:20:11</td>\n",
       "      <td>ACCUPLACER (by College Board) is a standardize...</td>\n",
       "    </tr>\n",
       "    <tr>\n",
       "      <th>2386</th>\n",
       "      <td>[ACCUPLACER] Arithmetic (Q5.) Official Practic...</td>\n",
       "      <td>309</td>\n",
       "      <td>5</td>\n",
       "      <td>42707</td>\n",
       "      <td>20</td>\n",
       "      <td>Dd3biOP8okg</td>\n",
       "      <td>2013-01-17 23:54:13</td>\n",
       "      <td>ACCUPLACER (by College Board) is a standardize...</td>\n",
       "    </tr>\n",
       "    <tr>\n",
       "      <th>2387</th>\n",
       "      <td>[ACCUPLACER] Arithmetic (Q6.) Official Practic...</td>\n",
       "      <td>477</td>\n",
       "      <td>11</td>\n",
       "      <td>44522</td>\n",
       "      <td>82</td>\n",
       "      <td>hJoWOcmsYj4</td>\n",
       "      <td>2013-01-17 23:35:42</td>\n",
       "      <td>ACCUPLACER (by College Board) is a standardize...</td>\n",
       "    </tr>\n",
       "  </tbody>\n",
       "</table>\n",
       "<p>2388 rows × 8 columns</p>\n",
       "</div>"
      ],
      "text/plain": [
       "                                                  title  liked  disliked  \\\n",
       "0            An exponential equation inspired by x! = 3   1225        12   \n",
       "1           Precalculus teacher vs WolframAlpha student   6954        79   \n",
       "2     when calculus teachers don't think the derivat...   2593        37   \n",
       "3                       my all-in-one calculus question   6228        66   \n",
       "4                                           1+0+0+...=?   3214        68   \n",
       "...                                                 ...    ...       ...   \n",
       "2383  [ACCUPLACER] Arithmetic (Q1.) Official Practic...    512        10   \n",
       "2384  [ACCUPLACER] Arithmetic (Q2.) Official Practic...    403        13   \n",
       "2385  [ACCUPLACER] Arithmetic (Q3.) Official Practic...    368        14   \n",
       "2386  [ACCUPLACER] Arithmetic (Q5.) Official Practic...    309         5   \n",
       "2387  [ACCUPLACER] Arithmetic (Q6.) Official Practic...    477        11   \n",
       "\n",
       "       views  comment      videoid           published  \\\n",
       "0      30399       86  hztqL8104d0 2021-11-12 15:01:28   \n",
       "1     159490      598  s3w9ecPelqc 2021-11-04 12:49:24   \n",
       "2      96861      208  81TUEBG5rI0 2021-11-02 09:06:35   \n",
       "3     163624      340  X0zYYFgQ5z0 2021-10-21 09:45:53   \n",
       "4      94905      208  GM_wkJOBz9A 2021-10-14 07:55:58   \n",
       "...      ...      ...          ...                 ...   \n",
       "2383   91859       11  QpX-A_IUyhs 2013-01-18 00:52:46   \n",
       "2384   57686       15  OVvuw7jz6TU 2013-01-18 00:37:18   \n",
       "2385   49393       19  qViF-7zL5RQ 2013-01-18 00:20:11   \n",
       "2386   42707       20  Dd3biOP8okg 2013-01-17 23:54:13   \n",
       "2387   44522       82  hJoWOcmsYj4 2013-01-17 23:35:42   \n",
       "\n",
       "                                      video_description  \n",
       "0     An \"integral equation\" inspired by x factorial...  \n",
       "1     The domain of a function is a big part of prec...  \n",
       "2     When calculus teachers don't think the derivat...  \n",
       "3     Want to learn more about calculus limits, deri...  \n",
       "4     Learn evaluating limits and indeterminate form...  \n",
       "...                                                 ...  \n",
       "2383  ACCUPLACER (by College Board) is a standardize...  \n",
       "2384  ACCUPLACER (by College Board) is a standardize...  \n",
       "2385  ACCUPLACER (by College Board) is a standardize...  \n",
       "2386  ACCUPLACER (by College Board) is a standardize...  \n",
       "2387  ACCUPLACER (by College Board) is a standardize...  \n",
       "\n",
       "[2388 rows x 8 columns]"
      ]
     },
     "execution_count": 19,
     "metadata": {},
     "output_type": "execute_result"
    }
   ],
   "source": [
    "df_blackpenredpen"
   ]
  },
  {
   "cell_type": "markdown",
   "metadata": {},
   "source": [
    "# Creating dataframe with uploaded videos for MindYourDecisions"
   ]
  },
  {
   "cell_type": "code",
   "execution_count": 20,
   "metadata": {},
   "outputs": [],
   "source": [
    "df_mindyourdecisions = get_dataframe(MINDYOURDECISIONS[0])"
   ]
  },
  {
   "cell_type": "code",
   "execution_count": 21,
   "metadata": {},
   "outputs": [
    {
     "data": {
      "text/html": [
       "<div>\n",
       "<style scoped>\n",
       "    .dataframe tbody tr th:only-of-type {\n",
       "        vertical-align: middle;\n",
       "    }\n",
       "\n",
       "    .dataframe tbody tr th {\n",
       "        vertical-align: top;\n",
       "    }\n",
       "\n",
       "    .dataframe thead th {\n",
       "        text-align: right;\n",
       "    }\n",
       "</style>\n",
       "<table border=\"1\" class=\"dataframe\">\n",
       "  <thead>\n",
       "    <tr style=\"text-align: right;\">\n",
       "      <th></th>\n",
       "      <th>title</th>\n",
       "      <th>liked</th>\n",
       "      <th>disliked</th>\n",
       "      <th>views</th>\n",
       "      <th>comment</th>\n",
       "      <th>videoid</th>\n",
       "      <th>published</th>\n",
       "      <th>video_description</th>\n",
       "    </tr>\n",
       "  </thead>\n",
       "  <tbody>\n",
       "    <tr>\n",
       "      <th>0</th>\n",
       "      <td>A nice chord problem from Bangladesh!</td>\n",
       "      <td>4309</td>\n",
       "      <td>49</td>\n",
       "      <td>80912</td>\n",
       "      <td>559</td>\n",
       "      <td>a9u1pjsfJDs</td>\n",
       "      <td>2021-09-23 07:23:40</td>\n",
       "      <td>This problem is adapted from the 2021 Banglade...</td>\n",
       "    </tr>\n",
       "    <tr>\n",
       "      <th>1</th>\n",
       "      <td>Can you solve this tricky sum from Indonesia?</td>\n",
       "      <td>5824</td>\n",
       "      <td>76</td>\n",
       "      <td>118563</td>\n",
       "      <td>448</td>\n",
       "      <td>VO4QElbHv-0</td>\n",
       "      <td>2021-09-15 00:46:52</td>\n",
       "      <td>This one stumped me at first. Can you figure i...</td>\n",
       "    </tr>\n",
       "    <tr>\n",
       "      <th>2</th>\n",
       "      <td>Legendary time Albert Einstein gave homework help</td>\n",
       "      <td>6468</td>\n",
       "      <td>116</td>\n",
       "      <td>158217</td>\n",
       "      <td>400</td>\n",
       "      <td>bwHnXQ0cygg</td>\n",
       "      <td>2021-09-08 00:56:18</td>\n",
       "      <td>Imagine being stuck on a math problem and then...</td>\n",
       "    </tr>\n",
       "    <tr>\n",
       "      <th>3</th>\n",
       "      <td>Test so hard that students cried - Helen and I...</td>\n",
       "      <td>4434</td>\n",
       "      <td>187</td>\n",
       "      <td>164812</td>\n",
       "      <td>624</td>\n",
       "      <td>aqPnuvrm4go</td>\n",
       "      <td>2021-10-12 00:18:33</td>\n",
       "      <td>This is a tricky question from Singapore's PSL...</td>\n",
       "    </tr>\n",
       "    <tr>\n",
       "      <th>4</th>\n",
       "      <td>A beautiful formula - 'Cause I'm real</td>\n",
       "      <td>3664</td>\n",
       "      <td>228</td>\n",
       "      <td>116100</td>\n",
       "      <td>199</td>\n",
       "      <td>chUlt9CX1oE</td>\n",
       "      <td>2021-10-08 08:30:18</td>\n",
       "      <td>The imaginary number i is equal to the square ...</td>\n",
       "    </tr>\n",
       "    <tr>\n",
       "      <th>...</th>\n",
       "      <td>...</td>\n",
       "      <td>...</td>\n",
       "      <td>...</td>\n",
       "      <td>...</td>\n",
       "      <td>...</td>\n",
       "      <td>...</td>\n",
       "      <td>...</td>\n",
       "      <td>...</td>\n",
       "    </tr>\n",
       "    <tr>\n",
       "      <th>646</th>\n",
       "      <td>How Game Theory Solved a Religious Mystery</td>\n",
       "      <td>1852</td>\n",
       "      <td>618</td>\n",
       "      <td>199616</td>\n",
       "      <td>525</td>\n",
       "      <td>f4dA4BTv7KQ</td>\n",
       "      <td>2014-02-07 01:57:02</td>\n",
       "      <td>A man dies leaving insufficient funds for debt...</td>\n",
       "    </tr>\n",
       "    <tr>\n",
       "      <th>647</th>\n",
       "      <td>How to Win at Sports Betting Guaranteed</td>\n",
       "      <td>879</td>\n",
       "      <td>436</td>\n",
       "      <td>229001</td>\n",
       "      <td>165</td>\n",
       "      <td>4GSV6-5Rt-I</td>\n",
       "      <td>2014-01-24 21:39:52</td>\n",
       "      <td>This video is only to highlight math, I don't ...</td>\n",
       "    </tr>\n",
       "    <tr>\n",
       "      <th>648</th>\n",
       "      <td>Math Puzzle: Area of a Triangle</td>\n",
       "      <td>3001</td>\n",
       "      <td>94</td>\n",
       "      <td>161330</td>\n",
       "      <td>304</td>\n",
       "      <td>lWIBk2DZszQ</td>\n",
       "      <td>2013-12-23 00:29:38</td>\n",
       "      <td>A right triangle has a hypotenuse of 3, and on...</td>\n",
       "    </tr>\n",
       "    <tr>\n",
       "      <th>649</th>\n",
       "      <td>Proving pi is irrational (using high school le...</td>\n",
       "      <td>2208</td>\n",
       "      <td>256</td>\n",
       "      <td>218723</td>\n",
       "      <td>332</td>\n",
       "      <td>PgKmstECld0</td>\n",
       "      <td>2013-11-08 05:21:52</td>\n",
       "      <td>I did make one big typo/mistake in the video: ...</td>\n",
       "    </tr>\n",
       "    <tr>\n",
       "      <th>650</th>\n",
       "      <td>Dark Knight Game Theory: The Robbery Scene And...</td>\n",
       "      <td>2625</td>\n",
       "      <td>1000</td>\n",
       "      <td>549715</td>\n",
       "      <td>136</td>\n",
       "      <td>ZKvEFZbmp7M</td>\n",
       "      <td>2013-10-23 17:46:22</td>\n",
       "      <td>The opening scene of The Dark Knight is fairly...</td>\n",
       "    </tr>\n",
       "  </tbody>\n",
       "</table>\n",
       "<p>651 rows × 8 columns</p>\n",
       "</div>"
      ],
      "text/plain": [
       "                                                 title  liked  disliked  \\\n",
       "0                A nice chord problem from Bangladesh!   4309        49   \n",
       "1        Can you solve this tricky sum from Indonesia?   5824        76   \n",
       "2    Legendary time Albert Einstein gave homework help   6468       116   \n",
       "3    Test so hard that students cried - Helen and I...   4434       187   \n",
       "4                A beautiful formula - 'Cause I'm real   3664       228   \n",
       "..                                                 ...    ...       ...   \n",
       "646         How Game Theory Solved a Religious Mystery   1852       618   \n",
       "647            How to Win at Sports Betting Guaranteed    879       436   \n",
       "648                    Math Puzzle: Area of a Triangle   3001        94   \n",
       "649  Proving pi is irrational (using high school le...   2208       256   \n",
       "650  Dark Knight Game Theory: The Robbery Scene And...   2625      1000   \n",
       "\n",
       "      views  comment      videoid           published  \\\n",
       "0     80912      559  a9u1pjsfJDs 2021-09-23 07:23:40   \n",
       "1    118563      448  VO4QElbHv-0 2021-09-15 00:46:52   \n",
       "2    158217      400  bwHnXQ0cygg 2021-09-08 00:56:18   \n",
       "3    164812      624  aqPnuvrm4go 2021-10-12 00:18:33   \n",
       "4    116100      199  chUlt9CX1oE 2021-10-08 08:30:18   \n",
       "..      ...      ...          ...                 ...   \n",
       "646  199616      525  f4dA4BTv7KQ 2014-02-07 01:57:02   \n",
       "647  229001      165  4GSV6-5Rt-I 2014-01-24 21:39:52   \n",
       "648  161330      304  lWIBk2DZszQ 2013-12-23 00:29:38   \n",
       "649  218723      332  PgKmstECld0 2013-11-08 05:21:52   \n",
       "650  549715      136  ZKvEFZbmp7M 2013-10-23 17:46:22   \n",
       "\n",
       "                                     video_description  \n",
       "0    This problem is adapted from the 2021 Banglade...  \n",
       "1    This one stumped me at first. Can you figure i...  \n",
       "2    Imagine being stuck on a math problem and then...  \n",
       "3    This is a tricky question from Singapore's PSL...  \n",
       "4    The imaginary number i is equal to the square ...  \n",
       "..                                                 ...  \n",
       "646  A man dies leaving insufficient funds for debt...  \n",
       "647  This video is only to highlight math, I don't ...  \n",
       "648  A right triangle has a hypotenuse of 3, and on...  \n",
       "649  I did make one big typo/mistake in the video: ...  \n",
       "650  The opening scene of The Dark Knight is fairly...  \n",
       "\n",
       "[651 rows x 8 columns]"
      ]
     },
     "execution_count": 21,
     "metadata": {},
     "output_type": "execute_result"
    }
   ],
   "source": [
    "df_mindyourdecisions"
   ]
  },
  {
   "cell_type": "markdown",
   "metadata": {},
   "source": [
    "## When first video was published?"
   ]
  },
  {
   "cell_type": "code",
   "execution_count": 22,
   "metadata": {},
   "outputs": [
    {
     "data": {
      "text/plain": [
       "650   2013-10-23 17:46:22\n",
       "Name: published, dtype: datetime64[ns]"
      ]
     },
     "execution_count": 22,
     "metadata": {},
     "output_type": "execute_result"
    }
   ],
   "source": [
    "df_mindyourdecisions.sort_values(by=['published']).head(n=1)['published']"
   ]
  },
  {
   "cell_type": "code",
   "execution_count": 23,
   "metadata": {},
   "outputs": [
    {
     "data": {
      "text/plain": [
       "2387   2013-01-17 23:35:42\n",
       "Name: published, dtype: datetime64[ns]"
      ]
     },
     "execution_count": 23,
     "metadata": {},
     "output_type": "execute_result"
    }
   ],
   "source": [
    "df_blackpenredpen.sort_values(by=['published']).head(n=1)['published']"
   ]
  },
  {
   "cell_type": "markdown",
   "metadata": {},
   "source": [
    "## Videos with the most views"
   ]
  },
  {
   "cell_type": "code",
   "execution_count": 24,
   "metadata": {},
   "outputs": [],
   "source": [
    "ind = df_blackpenredpen.sort_values(by=['views'])['views'].index[-1]\n",
    "vid = df_blackpenredpen.loc[ind]['videoid']"
   ]
  },
  {
   "cell_type": "code",
   "execution_count": 25,
   "metadata": {},
   "outputs": [
    {
     "data": {
      "text/plain": [
       "6555258"
      ]
     },
     "execution_count": 25,
     "metadata": {},
     "output_type": "execute_result"
    }
   ],
   "source": [
    "df_blackpenredpen.sort_values(by=['views'])['views'].iloc[-1]"
   ]
  },
  {
   "cell_type": "code",
   "execution_count": 26,
   "metadata": {},
   "outputs": [
    {
     "name": "stderr",
     "output_type": "stream",
     "text": [
      "c:\\users\\dariu\\appdata\\local\\programs\\python\\python37\\lib\\site-packages\\IPython\\core\\display.py:717: UserWarning: Consider using IPython.display.IFrame instead\n",
      "  warnings.warn(\"Consider using IPython.display.IFrame instead\")\n"
     ]
    },
    {
     "data": {
      "text/html": [
       "<iframe width=\"560\" height=\"315\" src=\"https://www.youtube.com/embed/naGkELTaSuQ?rel=0&amp;controls=0&amp;showinfo=0\" frameborder=\"0\" allowfullscreen></iframe>"
      ],
      "text/plain": [
       "<IPython.core.display.HTML object>"
      ]
     },
     "execution_count": 26,
     "metadata": {},
     "output_type": "execute_result"
    }
   ],
   "source": [
    "HTML('<iframe width=\"560\" height=\"315\" src=\"https://www.youtube.com/embed/%s?rel=0&amp;controls=0&amp;showinfo=0\" frameborder=\"0\" allowfullscreen></iframe>' % vid)"
   ]
  },
  {
   "cell_type": "code",
   "execution_count": 27,
   "metadata": {},
   "outputs": [],
   "source": [
    "ind = df_mindyourdecisions.sort_values(by=['views'])['views'].index[-1]\n",
    "vid = df_mindyourdecisions.loc[ind]['videoid']"
   ]
  },
  {
   "cell_type": "code",
   "execution_count": 28,
   "metadata": {},
   "outputs": [
    {
     "data": {
      "text/plain": [
       "17729743"
      ]
     },
     "execution_count": 28,
     "metadata": {},
     "output_type": "execute_result"
    }
   ],
   "source": [
    "df_mindyourdecisions.sort_values(by=['views'])['views'].iloc[-1]"
   ]
  },
  {
   "cell_type": "code",
   "execution_count": 29,
   "metadata": {},
   "outputs": [
    {
     "data": {
      "text/html": [
       "<iframe width=\"560\" height=\"315\" src=\"https://www.youtube.com/embed/URcUvFIUIhQ?rel=0&amp;controls=0&amp;showinfo=0\" frameborder=\"0\" allowfullscreen></iframe>"
      ],
      "text/plain": [
       "<IPython.core.display.HTML object>"
      ]
     },
     "execution_count": 29,
     "metadata": {},
     "output_type": "execute_result"
    }
   ],
   "source": [
    "HTML('<iframe width=\"560\" height=\"315\" src=\"https://www.youtube.com/embed/%s?rel=0&amp;controls=0&amp;showinfo=0\" frameborder=\"0\" allowfullscreen></iframe>' % vid)"
   ]
  },
  {
   "cell_type": "markdown",
   "metadata": {},
   "source": [
    "## Number of videos in time"
   ]
  },
  {
   "cell_type": "code",
   "execution_count": 30,
   "metadata": {},
   "outputs": [
    {
     "data": {
      "text/plain": [
       "[<matplotlib.lines.Line2D at 0x256c4361ec8>]"
      ]
     },
     "execution_count": 30,
     "metadata": {},
     "output_type": "execute_result"
    },
    {
     "data": {
      "image/png": "[encoded data removed]",
      "text/plain": [
       "<Figure size 1152x648 with 1 Axes>"
      ]
     },
     "metadata": {
      "needs_background": "light"
     },
     "output_type": "display_data"
    }
   ],
   "source": [
    "plt.figure(figsize=(16, 9))\n",
    "plt.plot(df_mindyourdecisions.sort_values(by=['published'])['published'], range(0, 651), '.')\n",
    "plt.plot(df_blackpenredpen.sort_values(by=['published'])['published'], range(0, 2388), '.')"
   ]
  },
  {
   "cell_type": "markdown",
   "metadata": {},
   "source": [
    "## Distribution of views in videos"
   ]
  },
  {
   "cell_type": "markdown",
   "metadata": {},
   "source": [
    "### MindYourDecisions"
   ]
  },
  {
   "cell_type": "code",
   "execution_count": 31,
   "metadata": {},
   "outputs": [
    {
     "data": {
      "text/plain": [
       "Text(0.5, 1.0, 'c')"
      ]
     },
     "execution_count": 31,
     "metadata": {},
     "output_type": "execute_result"
    },
    {
     "data": {
      "image/png": "[encoded data removed]",
      "text/plain": [
       "<Figure size 1152x648 with 1 Axes>"
      ]
     },
     "metadata": {
      "needs_background": "light"
     },
     "output_type": "display_data"
    }
   ],
   "source": [
    "plt.figure(figsize=(16, 9))\n",
    "plt.ticklabel_format(style='plain')\n",
    "plt.hist(df_mindyourdecisions.sort_values(by=['views'])['views'][:-10], bins=100)\n",
    "plt.title('c')"
   ]
  },
  {
   "cell_type": "markdown",
   "metadata": {},
   "source": [
    "### blackpenredpen"
   ]
  },
  {
   "cell_type": "code",
   "execution_count": 32,
   "metadata": {},
   "outputs": [
    {
     "data": {
      "text/plain": [
       "Text(0.5, 1.0, 'c')"
      ]
     },
     "execution_count": 32,
     "metadata": {},
     "output_type": "execute_result"
    },
    {
     "data": {
      "image/png": "[encoded data removed]",
      "text/plain": [
       "<Figure size 1152x648 with 1 Axes>"
      ]
     },
     "metadata": {
      "needs_background": "light"
     },
     "output_type": "display_data"
    }
   ],
   "source": [
    "plt.figure(figsize=(16, 9))\n",
    "plt.ticklabel_format(style='plain')\n",
    "plt.hist(df_blackpenredpen.sort_values(by=['views'])['views'][:-10], bins=100)\n",
    "plt.title('c')"
   ]
  },
  {
   "cell_type": "markdown",
   "metadata": {},
   "source": [
    "## Distribution of ratio of likes/dislikes in videos"
   ]
  },
  {
   "cell_type": "markdown",
   "metadata": {},
   "source": [
    "ratio = dislikes/sum(likes+dislikes)"
   ]
  },
  {
   "cell_type": "code",
   "execution_count": 33,
   "metadata": {},
   "outputs": [],
   "source": [
    "df_blackpenredpen['likedratio'] = df_blackpenredpen['liked']/(df_blackpenredpen['liked']+df_blackpenredpen['disliked'])\n",
    "df_blackpenredpen['dislikedratio'] = 1 - df_blackpenredpen['likedratio']"
   ]
  },
  {
   "cell_type": "code",
   "execution_count": 34,
   "metadata": {},
   "outputs": [
    {
     "data": {
      "text/plain": [
       "Text(0.5, 1.0, 'c')"
      ]
     },
     "execution_count": 34,
     "metadata": {},
     "output_type": "execute_result"
    },
    {
     "data": {
      "image/png": "[encoded data removed]",
      "text/plain": [
       "<Figure size 1152x648 with 1 Axes>"
      ]
     },
     "metadata": {
      "needs_background": "light"
     },
     "output_type": "display_data"
    }
   ],
   "source": [
    "plt.figure(figsize=(16, 9))\n",
    "plt.hist(df_blackpenredpen['dislikedratio'], bins=100)\n",
    "plt.hist(df_blackpenredpen['likedratio'], bins=100)\n",
    "plt.title('c')"
   ]
  },
  {
   "cell_type": "code",
   "execution_count": 35,
   "metadata": {},
   "outputs": [],
   "source": [
    "df_mindyourdecisions['likedratio'] = df_blackpenredpen['liked']/(df_blackpenredpen['liked']+df_blackpenredpen['disliked'])\n",
    "df_mindyourdecisions['dislikedratio'] = 1 - df_blackpenredpen['likedratio']"
   ]
  },
  {
   "cell_type": "code",
   "execution_count": 36,
   "metadata": {},
   "outputs": [
    {
     "data": {
      "text/plain": [
       "Text(0.5, 1.0, 'c')"
      ]
     },
     "execution_count": 36,
     "metadata": {},
     "output_type": "execute_result"
    },
    {
     "data": {
      "image/png": "[encoded data removed]",
      "text/plain": [
       "<Figure size 1152x648 with 1 Axes>"
      ]
     },
     "metadata": {
      "needs_background": "light"
     },
     "output_type": "display_data"
    }
   ],
   "source": [
    "plt.figure(figsize=(16, 9))\n",
    "plt.hist(df_mindyourdecisions['dislikedratio'], bins=100)\n",
    "plt.hist(df_mindyourdecisions['likedratio'], bins=100)\n",
    "plt.title('c')"
   ]
  },
  {
   "cell_type": "markdown",
   "metadata": {},
   "source": [
    "## Number of views vs number of likes"
   ]
  },
  {
   "cell_type": "code",
   "execution_count": 37,
   "metadata": {},
   "outputs": [
    {
     "data": {
      "text/plain": [
       "[<matplotlib.lines.Line2D at 0x256c6bd29c8>]"
      ]
     },
     "execution_count": 37,
     "metadata": {},
     "output_type": "execute_result"
    },
    {
     "data": {
      "image/png": "[encoded data removed]",
      "text/plain": [
       "<Figure size 1152x648 with 1 Axes>"
      ]
     },
     "metadata": {
      "needs_background": "light"
     },
     "output_type": "display_data"
    }
   ],
   "source": [
    "plt.figure(figsize=(16,9))\n",
    "plt.plot(df_blackpenredpen['views'], df_blackpenredpen['liked'],'.')\n",
    "plt.plot(df_blackpenredpen['views'], df_blackpenredpen['disliked'],'.')"
   ]
  },
  {
   "cell_type": "code",
   "execution_count": 38,
   "metadata": {},
   "outputs": [
    {
     "data": {
      "text/plain": [
       "(0.0, 5000.0)"
      ]
     },
     "execution_count": 38,
     "metadata": {},
     "output_type": "execute_result"
    },
    {
     "data": {
      "image/png": "[encoded data removed]",
      "text/plain": [
       "<Figure size 1152x648 with 1 Axes>"
      ]
     },
     "metadata": {
      "needs_background": "light"
     },
     "output_type": "display_data"
    }
   ],
   "source": [
    "plt.figure(figsize=(16,9))\n",
    "plt.plot(df_blackpenredpen['views'], df_blackpenredpen['liked'],'.')\n",
    "plt.plot(df_blackpenredpen['views'], df_blackpenredpen['disliked'],'.')\n",
    "plt.xlim([0, 200000])\n",
    "plt.ylim([0, 5000])"
   ]
  },
  {
   "cell_type": "code",
   "execution_count": 39,
   "metadata": {},
   "outputs": [
    {
     "data": {
      "text/plain": [
       "(0.0, 5000.0)"
      ]
     },
     "execution_count": 39,
     "metadata": {},
     "output_type": "execute_result"
    },
    {
     "data": {
      "image/png": "[encoded data removed]",
      "text/plain": [
       "<Figure size 1152x648 with 1 Axes>"
      ]
     },
     "metadata": {
      "needs_background": "light"
     },
     "output_type": "display_data"
    }
   ],
   "source": [
    "plt.figure(figsize=(16,9))\n",
    "plt.plot(df_mindyourdecisions['views'], df_mindyourdecisions['liked'],'.')\n",
    "plt.plot(df_mindyourdecisions['views'], df_mindyourdecisions['disliked'],'.')\n",
    "plt.xlim([0, 200000])\n",
    "plt.ylim([0, 5000])"
   ]
  },
  {
   "cell_type": "markdown",
   "metadata": {},
   "source": [
    "## Number of views vs number of comments - regression "
   ]
  },
  {
   "cell_type": "code",
   "execution_count": 40,
   "metadata": {},
   "outputs": [
    {
     "data": {
      "text/plain": [
       "(0.0, 2000.0)"
      ]
     },
     "execution_count": 40,
     "metadata": {},
     "output_type": "execute_result"
    },
    {
     "data": {
      "image/png": "[encoded data removed]",
      "text/plain": [
       "<Figure size 1152x648 with 1 Axes>"
      ]
     },
     "metadata": {
      "needs_background": "light"
     },
     "output_type": "display_data"
    }
   ],
   "source": [
    "plt.figure(figsize=(16,9))\n",
    "plt.plot(df_blackpenredpen['views'], df_blackpenredpen['comment'],'.')\n",
    "plt.xlim([0, 200000])\n",
    "plt.ylim([0, 2000])"
   ]
  },
  {
   "cell_type": "markdown",
   "metadata": {},
   "source": [
    "## more dislikes ==?== more comments?"
   ]
  },
  {
   "cell_type": "code",
   "execution_count": 41,
   "metadata": {},
   "outputs": [
    {
     "data": {
      "text/plain": [
       "(0.0, 2000.0)"
      ]
     },
     "execution_count": 41,
     "metadata": {},
     "output_type": "execute_result"
    },
    {
     "data": {
      "image/png": "[encoded data removed]",
      "text/plain": [
       "<Figure size 1152x648 with 1 Axes>"
      ]
     },
     "metadata": {
      "needs_background": "light"
     },
     "output_type": "display_data"
    }
   ],
   "source": [
    "plt.figure(figsize=(16,9))\n",
    "plt.plot(df_blackpenredpen['comment'], df_blackpenredpen['liked'],'.')\n",
    "plt.plot(df_blackpenredpen['comment'], df_blackpenredpen['disliked'],'.')\n",
    "plt.xlim([0, 2000])\n",
    "plt.ylim([0, 2000])"
   ]
  },
  {
   "cell_type": "code",
   "execution_count": null,
   "metadata": {},
   "outputs": [],
   "source": []
  },
  {
   "cell_type": "code",
   "execution_count": 42,
   "metadata": {},
   "outputs": [
    {
     "data": {
      "text/plain": [
       "Text(0.5, 1.0, 'Viewers who react on videos')"
      ]
     },
     "execution_count": 42,
     "metadata": {},
     "output_type": "execute_result"
    },
    {
     "data": {
      "image/png": "[encoded data removed]",
      "text/plain": [
       "<Figure size 432x288 with 1 Axes>"
      ]
     },
     "metadata": {},
     "output_type": "display_data"
    }
   ],
   "source": [
    "pie_vars = ['Reacters','Neutral']\n",
    "pie_values = [df_blackpenredpen['liked'].sum()+df_blackpenredpen['disliked'].sum(),df_blackpenredpen['views'].sum()-(df_blackpenredpen['liked'].sum()+df_blackpenredpen['disliked'].sum())]\n",
    "plt.pie(pie_values, labels=pie_vars, autopct='%1.2f%%');\n",
    "plt.title('Viewers who react on videos')"
   ]
  },
  {
   "cell_type": "code",
   "execution_count": 43,
   "metadata": {},
   "outputs": [
    {
     "data": {
      "text/plain": [
       "Text(0.5, 1.0, 'Viewers who react on videos')"
      ]
     },
     "execution_count": 43,
     "metadata": {},
     "output_type": "execute_result"
    },
    {
     "data": {
      "image/png": "[encoded data removed]",
      "text/plain": [
       "<Figure size 432x288 with 1 Axes>"
      ]
     },
     "metadata": {},
     "output_type": "display_data"
    }
   ],
   "source": [
    "pie_vars = ['Reacters', 'Neutral']\n",
    "pie_values = [df_mindyourdecisions['liked'].sum()+df_mindyourdecisions['disliked'].sum(),df_mindyourdecisions['views'].sum()-(df_mindyourdecisions['liked'].sum()+df_mindyourdecisions['disliked'].sum())]\n",
    "plt.pie(pie_values, labels=pie_vars, autopct='%1.2f%%');\n",
    "plt.title('Viewers who react on videos')"
   ]
  },
  {
   "cell_type": "code",
   "execution_count": 44,
   "metadata": {},
   "outputs": [
    {
     "data": {
      "text/plain": [
       "Text(0.5, 1.0, 'Type of reacters')"
      ]
     },
     "execution_count": 44,
     "metadata": {},
     "output_type": "execute_result"
    },
    {
     "data": {
      "image/png": "[encoded data removed]",
      "text/plain": [
       "<Figure size 432x288 with 1 Axes>"
      ]
     },
     "metadata": {},
     "output_type": "display_data"
    }
   ],
   "source": [
    "pie_vars = ['Likers', 'Dislikers', 'Commenters'];\n",
    "pie_values = [df_blackpenredpen['liked'].sum(),df_blackpenredpen['disliked'].sum(),df_blackpenredpen['comment'].sum()]\n",
    "plt.pie(pie_values,labels=pie_vars,autopct='%1.2f%%');\n",
    "plt.title('Type of reacters')"
   ]
  },
  {
   "cell_type": "code",
   "execution_count": 45,
   "metadata": {},
   "outputs": [
    {
     "data": {
      "text/plain": [
       "Text(0.5, 1.0, 'Type of reacters')"
      ]
     },
     "execution_count": 45,
     "metadata": {},
     "output_type": "execute_result"
    },
    {
     "data": {
      "image/png": "[encoded data removed]",
      "text/plain": [
       "<Figure size 432x288 with 1 Axes>"
      ]
     },
     "metadata": {},
     "output_type": "display_data"
    }
   ],
   "source": [
    "pie_vars = ['Likers', 'Dislikers', 'Commenters'];\n",
    "pie_values = [df_mindyourdecisions['liked'].sum(),df_mindyourdecisions['disliked'].sum(),df_mindyourdecisions['comment'].sum()]\n",
    "plt.pie(pie_values,labels=pie_vars,autopct='%1.2f%%');\n",
    "plt.title('Type of reacters')"
   ]
  },
  {
   "cell_type": "code",
   "execution_count": null,
   "metadata": {},
   "outputs": [],
   "source": []
  },
  {
   "cell_type": "code",
   "execution_count": 46,
   "metadata": {},
   "outputs": [],
   "source": [
    "df=df_blackpenredpen.groupby(df_blackpenredpen['published'].dt.year).sum()"
   ]
  },
  {
   "cell_type": "code",
   "execution_count": 47,
   "metadata": {},
   "outputs": [
    {
     "data": {
      "text/html": [
       "<div>\n",
       "<style scoped>\n",
       "    .dataframe tbody tr th:only-of-type {\n",
       "        vertical-align: middle;\n",
       "    }\n",
       "\n",
       "    .dataframe tbody tr th {\n",
       "        vertical-align: top;\n",
       "    }\n",
       "\n",
       "    .dataframe thead th {\n",
       "        text-align: right;\n",
       "    }\n",
       "</style>\n",
       "<table border=\"1\" class=\"dataframe\">\n",
       "  <thead>\n",
       "    <tr style=\"text-align: right;\">\n",
       "      <th></th>\n",
       "      <th>liked</th>\n",
       "      <th>disliked</th>\n",
       "      <th>views</th>\n",
       "      <th>comment</th>\n",
       "      <th>likedratio</th>\n",
       "      <th>dislikedratio</th>\n",
       "    </tr>\n",
       "    <tr>\n",
       "      <th>published</th>\n",
       "      <th></th>\n",
       "      <th></th>\n",
       "      <th></th>\n",
       "      <th></th>\n",
       "      <th></th>\n",
       "      <th></th>\n",
       "    </tr>\n",
       "  </thead>\n",
       "  <tbody>\n",
       "    <tr>\n",
       "      <th>2013</th>\n",
       "      <td>15008</td>\n",
       "      <td>453</td>\n",
       "      <td>2068412</td>\n",
       "      <td>1387</td>\n",
       "      <td>241.248180</td>\n",
       "      <td>3.751820</td>\n",
       "    </tr>\n",
       "    <tr>\n",
       "      <th>2014</th>\n",
       "      <td>23914</td>\n",
       "      <td>1055</td>\n",
       "      <td>2696935</td>\n",
       "      <td>1360</td>\n",
       "      <td>233.700881</td>\n",
       "      <td>3.299119</td>\n",
       "    </tr>\n",
       "    <tr>\n",
       "      <th>2015</th>\n",
       "      <td>137766</td>\n",
       "      <td>4434</td>\n",
       "      <td>10999657</td>\n",
       "      <td>7680</td>\n",
       "      <td>428.771427</td>\n",
       "      <td>8.228573</td>\n",
       "    </tr>\n",
       "    <tr>\n",
       "      <th>2016</th>\n",
       "      <td>192946</td>\n",
       "      <td>4296</td>\n",
       "      <td>9911385</td>\n",
       "      <td>12613</td>\n",
       "      <td>329.799394</td>\n",
       "      <td>7.200606</td>\n",
       "    </tr>\n",
       "    <tr>\n",
       "      <th>2017</th>\n",
       "      <td>784136</td>\n",
       "      <td>32210</td>\n",
       "      <td>37907621</td>\n",
       "      <td>71037</td>\n",
       "      <td>417.367649</td>\n",
       "      <td>10.632351</td>\n",
       "    </tr>\n",
       "    <tr>\n",
       "      <th>2018</th>\n",
       "      <td>664994</td>\n",
       "      <td>13161</td>\n",
       "      <td>23452231</td>\n",
       "      <td>62683</td>\n",
       "      <td>339.563874</td>\n",
       "      <td>6.436126</td>\n",
       "    </tr>\n",
       "    <tr>\n",
       "      <th>2019</th>\n",
       "      <td>773570</td>\n",
       "      <td>13883</td>\n",
       "      <td>24833167</td>\n",
       "      <td>66878</td>\n",
       "      <td>209.246613</td>\n",
       "      <td>3.753387</td>\n",
       "    </tr>\n",
       "    <tr>\n",
       "      <th>2020</th>\n",
       "      <td>229532</td>\n",
       "      <td>3767</td>\n",
       "      <td>6986162</td>\n",
       "      <td>24039</td>\n",
       "      <td>79.843663</td>\n",
       "      <td>1.156337</td>\n",
       "    </tr>\n",
       "    <tr>\n",
       "      <th>2021</th>\n",
       "      <td>209571</td>\n",
       "      <td>3077</td>\n",
       "      <td>5909380</td>\n",
       "      <td>18798</td>\n",
       "      <td>60.239563</td>\n",
       "      <td>0.760437</td>\n",
       "    </tr>\n",
       "  </tbody>\n",
       "</table>\n",
       "</div>"
      ],
      "text/plain": [
       "            liked  disliked     views  comment  likedratio  dislikedratio\n",
       "published                                                                \n",
       "2013        15008       453   2068412     1387  241.248180       3.751820\n",
       "2014        23914      1055   2696935     1360  233.700881       3.299119\n",
       "2015       137766      4434  10999657     7680  428.771427       8.228573\n",
       "2016       192946      4296   9911385    12613  329.799394       7.200606\n",
       "2017       784136     32210  37907621    71037  417.367649      10.632351\n",
       "2018       664994     13161  23452231    62683  339.563874       6.436126\n",
       "2019       773570     13883  24833167    66878  209.246613       3.753387\n",
       "2020       229532      3767   6986162    24039   79.843663       1.156337\n",
       "2021       209571      3077   5909380    18798   60.239563       0.760437"
      ]
     },
     "execution_count": 47,
     "metadata": {},
     "output_type": "execute_result"
    }
   ],
   "source": [
    "df.head(n=10)"
   ]
  },
  {
   "cell_type": "code",
   "execution_count": null,
   "metadata": {},
   "outputs": [],
   "source": []
  },
  {
   "cell_type": "code",
   "execution_count": 48,
   "metadata": {},
   "outputs": [],
   "source": [
    "df=df_blackpenredpen.groupby(df_blackpenredpen['published'].dt.year).count()\n",
    "df1=df_mindyourdecisions.groupby(df_mindyourdecisions['published'].dt.year).count()"
   ]
  },
  {
   "cell_type": "code",
   "execution_count": 49,
   "metadata": {},
   "outputs": [
    {
     "data": {
      "text/plain": [
       "<matplotlib.legend.Legend at 0x256c81852c8>"
      ]
     },
     "execution_count": 49,
     "metadata": {},
     "output_type": "execute_result"
    },
    {
     "data": {
      "image/png": "[encoded data removed]",
      "text/plain": [
       "<Figure size 1152x648 with 1 Axes>"
      ]
     },
     "metadata": {
      "needs_background": "light"
     },
     "output_type": "display_data"
    }
   ],
   "source": [
    "plt.figure(figsize=(16, 9))\n",
    "plt.bar(range(2013,2022), df['published'], align='edge', width=-0.3, label='count1')\n",
    "plt.bar(range(2013,2022), df1['published'], align='edge', width=0.3, label='count2')\n",
    "plt.legend()"
   ]
  },
  {
   "cell_type": "code",
   "execution_count": 50,
   "metadata": {},
   "outputs": [],
   "source": [
    "df=df_blackpenredpen.groupby(df_blackpenredpen['published'].dt.year).sum()\n",
    "df1=df_mindyourdecisions.groupby(df_mindyourdecisions['published'].dt.year).sum()"
   ]
  },
  {
   "cell_type": "code",
   "execution_count": 51,
   "metadata": {},
   "outputs": [
    {
     "data": {
      "text/plain": [
       "<matplotlib.legend.Legend at 0x256c82305c8>"
      ]
     },
     "execution_count": 51,
     "metadata": {},
     "output_type": "execute_result"
    },
    {
     "data": {
      "image/png": "[encoded data removed]",
      "text/plain": [
       "<Figure size 1152x648 with 1 Axes>"
      ]
     },
     "metadata": {
      "needs_background": "light"
     },
     "output_type": "display_data"
    }
   ],
   "source": [
    "plt.figure(figsize=(16, 9))\n",
    "plt.bar(range(2013,2022), df['views'], align='edge', width=-0.3, label='count1')\n",
    "plt.bar(range(2013,2022), df1['views'], align='edge', width=0.3, label='count2')\n",
    "plt.legend()"
   ]
  },
  {
   "cell_type": "code",
   "execution_count": 52,
   "metadata": {},
   "outputs": [
    {
     "data": {
      "text/plain": [
       "<matplotlib.legend.Legend at 0x256c84e5948>"
      ]
     },
     "execution_count": 52,
     "metadata": {},
     "output_type": "execute_result"
    },
    {
     "data": {
      "image/png": "[encoded data removed]",
      "text/plain": [
       "<Figure size 1152x648 with 1 Axes>"
      ]
     },
     "metadata": {
      "needs_background": "light"
     },
     "output_type": "display_data"
    }
   ],
   "source": [
    "plt.figure(figsize=(16, 9))\n",
    "plt.bar(range(2013,2022), df['liked'], align='edge', width=-0.3, label='count1')\n",
    "plt.bar(range(2013,2022), df1['liked'], align='edge', width=0.3, label='count2')\n",
    "plt.legend()"
   ]
  },
  {
   "cell_type": "markdown",
   "metadata": {},
   "source": [
    "## Comments of my favourite video of blackpenredpen"
   ]
  },
  {
   "cell_type": "code",
   "execution_count": 60,
   "metadata": {},
   "outputs": [],
   "source": [
    "vid = 'dgm4-3-Iv3s'"
   ]
  },
  {
   "cell_type": "code",
   "execution_count": 61,
   "metadata": {},
   "outputs": [
    {
     "data": {
      "text/html": [
       "<div>\n",
       "<style scoped>\n",
       "    .dataframe tbody tr th:only-of-type {\n",
       "        vertical-align: middle;\n",
       "    }\n",
       "\n",
       "    .dataframe tbody tr th {\n",
       "        vertical-align: top;\n",
       "    }\n",
       "\n",
       "    .dataframe thead th {\n",
       "        text-align: right;\n",
       "    }\n",
       "</style>\n",
       "<table border=\"1\" class=\"dataframe\">\n",
       "  <thead>\n",
       "    <tr style=\"text-align: right;\">\n",
       "      <th></th>\n",
       "      <th>title</th>\n",
       "      <th>liked</th>\n",
       "      <th>disliked</th>\n",
       "      <th>views</th>\n",
       "      <th>comment</th>\n",
       "      <th>videoid</th>\n",
       "      <th>published</th>\n",
       "      <th>video_description</th>\n",
       "      <th>likedratio</th>\n",
       "      <th>dislikedratio</th>\n",
       "    </tr>\n",
       "  </thead>\n",
       "  <tbody>\n",
       "    <tr>\n",
       "      <th>280</th>\n",
       "      <td>100 INTEGRALS (in ONE take)</td>\n",
       "      <td>174481</td>\n",
       "      <td>3618</td>\n",
       "      <td>5980544</td>\n",
       "      <td>10392</td>\n",
       "      <td>dgm4-3-Iv3s</td>\n",
       "      <td>2019-03-02 09:47:55</td>\n",
       "      <td>100 integrals for calculus 1, calculus 2, and ...</td>\n",
       "      <td>0.979685</td>\n",
       "      <td>0.020315</td>\n",
       "    </tr>\n",
       "  </tbody>\n",
       "</table>\n",
       "</div>"
      ],
      "text/plain": [
       "                           title   liked  disliked    views  comment  \\\n",
       "280  100 INTEGRALS (in ONE take)  174481      3618  5980544    10392   \n",
       "\n",
       "         videoid           published  \\\n",
       "280  dgm4-3-Iv3s 2019-03-02 09:47:55   \n",
       "\n",
       "                                     video_description  likedratio  \\\n",
       "280  100 integrals for calculus 1, calculus 2, and ...    0.979685   \n",
       "\n",
       "     dislikedratio  \n",
       "280       0.020315  "
      ]
     },
     "execution_count": 61,
     "metadata": {},
     "output_type": "execute_result"
    }
   ],
   "source": [
    "df_blackpenredpen[df_blackpenredpen['videoid'] == vid]"
   ]
  },
  {
   "cell_type": "code",
   "execution_count": 69,
   "metadata": {
    "scrolled": true
   },
   "outputs": [
    {
     "name": "stdout",
     "output_type": "stream",
     "text": [
      "100 integrals for calculus 1, calculus 2, and AP Calculus students. Integration techniques included: integration by parts, DI method, reverse power rule, u-substitution, trigonometric substitution, integration by substitution, integration by partial fraction decomposition, trigonometric integrals, and more. #calculus #微積分\n",
      "\n",
      "😃 Update with Lars (stage 3 cancer survivor): https://youtu.be/LB1xWStHFPc  \n",
      "😃 Try the problems first: https://bit.ly/100integrals\n",
      "😃 Solutions by Jackw11111: https://bit.ly/100integralsol\n",
      "😃 Calculus Finisher t-shirt: https://bit.ly/calcfinisher\n",
      "\n",
      "Ultimate Integral Starter (learn all integral techniques): https://youtu.be/XOUwIdufY9Y\n",
      "Check out my other \"100-everything\" playlist: https://bit.ly/100everything\n",
      "\n",
      "Q1 to Q25, myself Hello: 0:00\n",
      "1, Integral of tan^5(x)*sec^3(x), 2:19\n",
      "2, Integral of cos(2x)/(sin(x)+cos(x)), 5:58\n",
      "3, Integral of (x^2+1)/(x^4-x^2+1), 8:00\n",
      "4, Integral of (x+e^x)^2, 12:00\n",
      "5, Integral of csc^3(x)*sec(x), 14:00\n",
      "6, Integral of cos(x)/(sin^2(x)-5sin(x)-6), 20:00\n",
      "7, Integral of 1/sqrt(e^x), 23:38\n",
      "8, Integral of e^x*sqrt(e^x-1)/(e^x+3), 25:51\n",
      "9, Integral of 1/(x+sqrt(x)), 32:04\n",
      "10, Integral of abs(x-3) from -1 to 5, 34:39\n",
      "11, Integral of sin(x)/sec^2019(x), 37:19\n",
      "12, Integral of x*sin^-1(x)/sqrt(1-x^2), 39:00\n",
      "13, Integral of 2sin(x)/sin(2x), 43:06\n",
      "14, Integral of cos^2(2x), 45:36\n",
      "15, Integral of 1/(x^3+1), 47:55\n",
      "16, Integral of x*sin^2(x), 1:01:07\n",
      "17, Integral of (x+1/x)^2, 1:04:45\n",
      "18, Integral of 3/(x^2+4x+29), 1:06:00\n",
      "19, Integral of cot^5(x), 1:08:08\n",
      "20, Integral of tan(x)/(x^4-x^2+1) from -1 to 1, 1:12:06\n",
      "21, Integral of sin^3(x)*cos^2(x), 1:13:43\n",
      "22, Integral of 1/(x^2*sqrt(x^2+1)), 1:16:16\n",
      "23, Integral of  sin(x)*sec(x)*tan(x), 1:20:15\n",
      "24, Integral of sec^3(x), 1:21:30\n",
      "25, Integral of 1/(x*sqrt(9x^2-1)), 1:25:30\n",
      "\n",
      "Thanks to GaMeR 123\n",
      "26. 1:29:48 integral of cos(sqrt x)\n",
      "27. 1:31:35 integral of cosec x\n",
      "28. 1:34:09 integral of sqrt(x^2+4x+13)\n",
      "29. 1:43:26 integral of e^2x*cosx\n",
      "30. 1:46:43 integral of (x-3)^9 from 3 to 5\n",
      "31. 1:49:32 integral of (x-x^(3/2))^-1/2\n",
      "32. 1:52:37 integral of (x-x^2)^-1/2\n",
      "33. 1:56:03 integral of e^(2lnx)\n",
      "34. 1:56:57 integral of lnx/sqrt x\n",
      "35. 2:00:32 integral of 1/e^x+e^-x\n",
      "36. 2:01:57 integral of log(x) base 2\n",
      "37. 2:05:15 integral of x^3*sin2x\n",
      "38. 2:08:32 integral of x^2[1+x^3]^1/3\n",
      "39. 2:12:30\n",
      "40. 2:19:38 integral of sqrt(x^2-1) from 1 to 2\n",
      "41. 2:27:29 integral of sinh(x)\n",
      "42. 2:28:50 integral of (sinhx)^2\n",
      "43. 2:32:53 integral of (sinhx)^3\n",
      "44. 2:35:03 integral of 1/sqrt(x^2 + 1)\n",
      "45. 2:36:34 integral of ln(x + sqrt(x^2 + 1)\n",
      "46. 2:39:23 integral of tanh(x) \n",
      "47. 2:40:59 integral of sech(x)\n",
      "48. 2:48:37 integral of tanh inverse of x\n",
      "49. 2:43:15 integral of sqrt(tanhx)\n",
      "50. 2:51:20 integral of [x] from 0 to 5\n",
      "51. 2:53:40 integral of (secx)^6\n",
      "\n",
      "BIG thanks to Angel Mendez-Rivera\n",
      "52, Integral of 1/(5x-2)^4, 2:55:51\n",
      "53, Integral of ln(1+x^2), 2:57:18\n",
      "54, Integral of 1/(x^4+x), 3:00:42\n",
      "55, Integral of (1-tan(x))/(1 + tan(x)), 3:03:09\n",
      "56, Integral of x·sec(x)·tan(x), 3:05:08\n",
      "57, Integral of arcsec(x), 3:06:45\n",
      "58, Integral of (1-cos(x))/(1+cos(x)), 3:11:20\n",
      "59, Integral of (x^2)sqrt(x+4), 3:14:46\n",
      "60, Integral of sqrt(4-x^2) from -1 to 1, 3:18:38\n",
      "61, Integral of sqrt(x^2+4x), 3:25:10\n",
      "62, Integral of (x^2)e^(x^3), 3:36:48\n",
      "63, Integral of (x^3)e^(x^2), 3:37:27\n",
      "64, Integral of tan(x)ln(cos(x)), 3:39:55\n",
      "65, Integral of 1/(x^3-4x^2), 3:42:11\n",
      "66, Integral of sin(x)cos(2x), 3:50:00\n",
      "67, Integral of 2^ln(x), 3:58:06\n",
      "68, Integral of sqrt(1+cos(2x)), 4:01:21\n",
      "69, Integral of 1/(1+tan(x)), 4:02:40\n",
      "70, Integral of sqrt(1- ln(x)^2)/x from 1/e to e, 4:07:13\n",
      "71-72, Integral of 1/(cbrt(x)+1) & Integral of 1/cbrt(x + 1), 4:10:30\n",
      "73, Integral of (sin(x)+cos(x))^2, 4:14:10\n",
      "74, Integral of 2xln(1-x), 4:16:00\n",
      "75, Integral of 1/(x(1+sin(ln(x))^2)), 4:19:34\n",
      "76, Integral of sqrt((1-x)/(1+x)), 4:25:48\n",
      "77, Integral of x^(x/ln(x)), 4:27:52\n",
      "78, Integral of arcsin(sqrt(x)), 4:29:12\n",
      "79, Integral of arctan(x), 4:39:16\n",
      "80, Integral of f(x) from 0 to 5, f(x) is a piecewise function, 4:41:32\n",
      "81, Integral of sin(1/x)/x^3, 4:44:11\n",
      "82, Integral of (x-1)/(x^4-1), 4:47:18\n",
      "83, Integral of sqrt(1+(x-1/(4x))^2), 4:52:49\n",
      "84, Integral of e^tan(x)/(1-sin(x)^2), 4:55:17\n",
      "85, Integral of arctan(x)/x^2, 4:56:12\n",
      "86, Integral of arctan(x)/(1+x^2), 5:00:28\n",
      "87, Integral of ln(x)^2, 5:02:32\n",
      "88, Integral of sqrt(x^2+4)/x^2, 5:06:39\n",
      "89, Integral of sqrt(x + 4)/x, 5:13:46\n",
      "90, Integral of sin(x)^3/(cos(x)^3 + sin(x)^3), 5:18:03\n",
      "91, Integral of x/(1 + x^4), 5:19:13\n",
      "92, Integral of e^sqrt(x), 5:20:07\n",
      "93, Integral of 1/csc(x)^3, 5:21:37\n",
      "94, Integral of arcsin/sqrt(1-x^2), 5:24:16\n",
      "95, Integral of sqrt(1+sin(2x)), 5:24:58\n",
      "96, Integral of x^(1/4), 5:26:22\n",
      "97, Integral of 1/(1+e^x), 5:27:47\n",
      "98, Integral of sqrt(1+e^x), 5:29:13\n",
      "99, Integral of sqrt(tan(x))/sin(2x), 5:34:43\n",
      "100, Integral of 1/(1+sin(x)), 5:39:16\n",
      "101, Integral of sin(x)/x + ln(x)cos(x), 5:45:39\n",
      "\n",
      "Mistakes\n",
      "33:39 should be a du,  NOT dx\n",
      "1:52:05 -2 times 2 equals -4,  NOT -1\n",
      "3:32:30 2*(1/2)*(1/2) = 1/2, NOT 1\n",
      "5:16:56 MUST use absolute value since sqrt(x+4)-2 could be neg\n"
     ]
    }
   ],
   "source": [
    "print(df_blackpenredpen[df_blackpenredpen['videoid'] == vid]['video_description'].values[0])"
   ]
  },
  {
   "cell_type": "code",
   "execution_count": 62,
   "metadata": {
    "scrolled": false
   },
   "outputs": [
    {
     "name": "stderr",
     "output_type": "stream",
     "text": [
      "c:\\users\\dariu\\appdata\\local\\programs\\python\\python37\\lib\\site-packages\\IPython\\core\\display.py:717: UserWarning: Consider using IPython.display.IFrame instead\n",
      "  warnings.warn(\"Consider using IPython.display.IFrame instead\")\n"
     ]
    },
    {
     "data": {
      "text/html": [
       "<iframe width=\"560\" height=\"315\" src=\"https://www.youtube.com/embed/dgm4-3-Iv3s?rel=0&amp;controls=0&amp;showinfo=0\" frameborder=\"0\" allowfullscreen></iframe>"
      ],
      "text/plain": [
       "<IPython.core.display.HTML object>"
      ]
     },
     "execution_count": 62,
     "metadata": {},
     "output_type": "execute_result"
    }
   ],
   "source": [
    "HTML('<iframe width=\"560\" height=\"315\" src=\"https://www.youtube.com/embed/%s?rel=0&amp;controls=0&amp;showinfo=0\" frameborder=\"0\" allowfullscreen></iframe>' % vid)"
   ]
  }
 ],
 "metadata": {
  "kernelspec": {
   "display_name": "Python 3",
   "language": "python",
   "name": "python3"
  },
  "language_info": {
   "codemirror_mode": {
    "name": "ipython",
    "version": 3
   },
   "file_extension": ".py",
   "mimetype": "text/x-python",
   "name": "python",
   "nbconvert_exporter": "python",
   "pygments_lexer": "ipython3",
   "version": "3.7.4"
  }
 },
 "nbformat": 4,
 "nbformat_minor": 4
}
