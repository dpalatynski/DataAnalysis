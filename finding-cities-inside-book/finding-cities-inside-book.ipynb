{
 "cells": [
  {
   "cell_type": "code",
   "execution_count": 1,
   "metadata": {},
   "outputs": [],
   "source": [
    "import requests\n",
    "from bs4 import BeautifulSoup\n",
    "from urllib.request import urlopen\n",
    "\n",
    "import nltk\n",
    "from nltk.corpus import stopwords\n",
    "from nltk.corpus import wordnet as wn\n",
    "from nltk.stem import WordNetLemmatizer\n",
    "from nltk.tokenize import RegexpTokenizer\n",
    "from nltk.stem import PorterStemmer \n",
    "from nameparser import HumanName\n",
    "import spacy\n",
    "\n",
    "from geotext import GeoText\n",
    "import geonamescache\n",
    "\n",
    "import pandas as pd\n",
    "import matplotlib.pyplot as plt\n",
    "import numpy as np\n",
    "\n",
    "import folium\n",
    "import polyline\n",
    "\n",
    "from collections import Counter\n",
    "import regex\n",
    "\n",
    "from IPython.core.display import display, HTML"
   ]
  },
  {
   "cell_type": "code",
   "execution_count": 2,
   "metadata": {},
   "outputs": [
    {
     "data": {
      "text/html": [
       "<style>.container { width:90% !important; }</style>"
      ],
      "text/plain": [
       "<IPython.core.display.HTML object>"
      ]
     },
     "metadata": {},
     "output_type": "display_data"
    }
   ],
   "source": [
    "display(HTML(\"<style>.container { width:90% !important; }</style>\"))"
   ]
  },
  {
   "cell_type": "code",
   "execution_count": 3,
   "metadata": {},
   "outputs": [
    {
     "name": "stderr",
     "output_type": "stream",
     "text": [
      "[nltk_data] Downloading package punkt to\n",
      "[nltk_data]     C:\\Users\\dariu\\AppData\\Roaming\\nltk_data...\n",
      "[nltk_data]   Package punkt is already up-to-date!\n"
     ]
    }
   ],
   "source": [
    "eng_stopwords = stopwords.words(\"english\")\n",
    "gc = geonamescache.GeonamesCache()\n",
    "nltk.download('punkt')\n",
    "nlp = spacy.load(\"en_core_web_sm\")\n",
    "eng_stopwords = stopwords.words(\"english\")\n",
    "Tokenizer = RegexpTokenizer(r\"[A-Za-z0-9-]+\")"
   ]
  },
  {
   "cell_type": "markdown",
   "metadata": {},
   "source": [
    "# Around the world in 80 days"
   ]
  },
  {
   "cell_type": "code",
   "execution_count": 4,
   "metadata": {},
   "outputs": [],
   "source": [
    "url = 'https://www.gutenberg.org/files/103/103-0.txt'"
   ]
  },
  {
   "cell_type": "markdown",
   "metadata": {},
   "source": [
    "# Scrapping website to get text divided into chapters"
   ]
  },
  {
   "cell_type": "code",
   "execution_count": 5,
   "metadata": {},
   "outputs": [],
   "source": [
    "def get_request(url):\n",
    "    \"\"\"\n",
    "    Gets html text from url\n",
    "    \n",
    "    Input:\n",
    "        url: string - website url\n",
    "    \n",
    "    Output:\n",
    "        soup: bs4.BeautifulSoup - bs4 object with html text\n",
    "    \"\"\"\n",
    "    request = urlopen(url)\n",
    "    soup = BeautifulSoup(request.read(), 'lxml')\n",
    "    \n",
    "    return soup"
   ]
  },
  {
   "cell_type": "code",
   "execution_count": 6,
   "metadata": {},
   "outputs": [],
   "source": [
    "def divide_text_for_chapters(soup):\n",
    "    \"\"\"\n",
    "    Finds all chapters of a book\n",
    "    \n",
    "    Input:\n",
    "        soup: bs4.BeautifulSoup - bs4 object with html text\n",
    "        \n",
    "    Output:\n",
    "        chapters: list - list of all chapters from a book Around the World in 80 days\n",
    "    \"\"\"\n",
    "    chapters = soup.text.split('CHAPTER')[38:]\n",
    "    chapters[-1] = chapters[-1].split('***')[0]\n",
    "    \n",
    "    for i, chapter in enumerate(chapters):\n",
    "        chapters[i] = chapter.replace('\\r', '').replace('\\n', ' ').split('   ', 1)[1].replace('No. ', '')\n",
    "        \n",
    "    return chapters"
   ]
  },
  {
   "cell_type": "code",
   "execution_count": 7,
   "metadata": {},
   "outputs": [],
   "source": [
    "chapters = divide_text_for_chapters(get_request(url))"
   ]
  },
  {
   "cell_type": "markdown",
   "metadata": {},
   "source": [
    "## Number of chapters in \"Around the world in 80 days\""
   ]
  },
  {
   "cell_type": "code",
   "execution_count": 8,
   "metadata": {},
   "outputs": [
    {
     "data": {
      "text/plain": [
       "37"
      ]
     },
     "execution_count": 8,
     "metadata": {},
     "output_type": "execute_result"
    }
   ],
   "source": [
    "len(chapters)"
   ]
  },
  {
   "cell_type": "markdown",
   "metadata": {},
   "source": [
    "## Extracting words from chapters"
   ]
  },
  {
   "cell_type": "code",
   "execution_count": 9,
   "metadata": {},
   "outputs": [],
   "source": [
    "def analyzy_syntax_spacy(text):\n",
    "    \"\"\"\n",
    "    Finds words, which are classified as Geopolitical Entity and Locations by spacy library\n",
    "    \n",
    "    Input:\n",
    "        text: str - sentence in which entities are searched\n",
    "        \n",
    "    Output:\n",
    "        results: list - list of words classified as GPE or LOC\n",
    "    \"\"\"\n",
    "    results = []\n",
    "    doc = nlp(text)\n",
    "    for entity in doc.ents:\n",
    "        if entity.label_ == 'GPE' or entity.label_ == 'LOC':\n",
    "            results.append(entity.text)\n",
    "    \n",
    "    if results == []:\n",
    "        return None\n",
    "    \n",
    "    return results"
   ]
  },
  {
   "cell_type": "code",
   "execution_count": 10,
   "metadata": {},
   "outputs": [],
   "source": [
    "def create_cities(lista, names):\n",
    "    \"\"\"\n",
    "    Finds cities using GeoText library\n",
    "    \n",
    "    Input:\n",
    "        text: str - sentence in which cities are looking for\n",
    "        names: list - list of scrapped names by nltk library to exclude misclassifications\n",
    "        \n",
    "    Output:\n",
    "        results: list - list of words classified as a city\n",
    "    \"\"\"\n",
    "    res = GeoText(lista).cities \n",
    "    if len(res) > 0:\n",
    "        res = [notname for notname in res if notname not in names]\n",
    "        if len(res) == 0:\n",
    "            return None\n",
    "        else:\n",
    "            return res\n",
    "    else:\n",
    "        return None"
   ]
  },
  {
   "cell_type": "code",
   "execution_count": 11,
   "metadata": {},
   "outputs": [],
   "source": [
    "def get_human_names(text):\n",
    "    \"\"\"\n",
    "    Fidns all names and surnames in a book using nltk library\n",
    "    \n",
    "    Input:\n",
    "        text: str - a single chapter of a book \"Around the world in 80 days\"\n",
    "        \n",
    "    Output:\n",
    "        person_list: list - list of words classified as a city    \n",
    "    \"\"\"\n",
    "    tokens = nltk.tokenize.word_tokenize(text)\n",
    "    pos = nltk.pos_tag(tokens)\n",
    "    sentt = nltk.ne_chunk(pos, binary = False)\n",
    "    person_list = []\n",
    "    person = []\n",
    "    name = \"\"\n",
    "    for subtree in sentt.subtrees(filter=lambda t: t.label() == 'PERSON'):\n",
    "        for leaf in subtree.leaves():\n",
    "            person.append(leaf[0])\n",
    "        if len(person) > 1:\n",
    "            for part in person:\n",
    "                name += part + ' '\n",
    "            if name[:-1] not in person_list:\n",
    "                person_list.append(name[:-1])\n",
    "            name = ''\n",
    "        person = []\n",
    "\n",
    "    return person_list"
   ]
  },
  {
   "cell_type": "code",
   "execution_count": 12,
   "metadata": {},
   "outputs": [],
   "source": [
    "def filter_human_names(chapters):\n",
    "    \"\"\"\n",
    "    Creates lists of all names and surnames in a book using nltk library\n",
    "    \n",
    "    Input:\n",
    "        chapters: list - list of all chapters from a book Around the World in 80 days\n",
    "        \n",
    "    Output:\n",
    "        people_list: list - list of all people present in a book\n",
    "    \"\"\"\n",
    "    list_of_names = []\n",
    "    for chapter in chapters:\n",
    "        names = get_human_names(chapter)\n",
    "        for name in names: \n",
    "            list_of_names.extend([HumanName(name).last, HumanName(name).first])\n",
    "             \n",
    "    people_list = Counter(list_of_names).most_common()\n",
    "    people_list = [i[0] for i in people_list if i[1] > 2]\n",
    "    \n",
    "    return people_list"
   ]
  },
  {
   "cell_type": "markdown",
   "metadata": {},
   "source": [
    "### Finds all human names to be excluded later"
   ]
  },
  {
   "cell_type": "code",
   "execution_count": 13,
   "metadata": {},
   "outputs": [],
   "source": [
    "people_list = filter_human_names(chapters)"
   ]
  },
  {
   "cell_type": "markdown",
   "metadata": {},
   "source": [
    "## Creating dataframe"
   ]
  },
  {
   "cell_type": "code",
   "execution_count": 14,
   "metadata": {},
   "outputs": [],
   "source": [
    "def create_dataframe(chapters):\n",
    "    \"\"\"\n",
    "    Creates dataframe, where every row is represented by a single sentence. There are information about number of chapter for every sentence and order of sentences inside one chapter.\n",
    "    Additionaly, there are names of cities, which were found using two different functions analyzy_syntax_spacy and create_cities.\n",
    "    \n",
    "    Input:\n",
    "        chapters: list - list of all chapters from a book Around the World in 80 days\n",
    "        \n",
    "    Output:\n",
    "        df: pandas.DataFrame - a dataframe with all sentences in a book\n",
    "    \"\"\"\n",
    "    \n",
    "    df = pd.DataFrame({'Chapter': [], 'Sentence index': [], 'Sentence': []})\n",
    "    for i, chapter in enumerate(chapters):\n",
    "        a_list = nltk.tokenize.sent_tokenize(chapter)\n",
    "        df = df.append(pd.DataFrame({'Chapter': [i+1]*len(a_list), 'Sentence index': range(1, len(a_list)+1), 'Sentence': a_list}), ignore_index=True)\n",
    "\n",
    "    df['Chapter'] = df['Chapter'].astype(int)\n",
    "    df['Sentence index'] = df['Sentence index'].astype(int)    \n",
    "    \n",
    "    \n",
    "    df['Cities1'] = df.apply(lambda row: create_cities(row.Sentence, people_list), axis=1)\n",
    "    df['Cities2'] = df.apply(lambda row: analyzy_syntax_spacy(row.Sentence), axis=1)\n",
    "    \n",
    "    return df"
   ]
  },
  {
   "cell_type": "code",
   "execution_count": 15,
   "metadata": {},
   "outputs": [],
   "source": [
    "df = create_dataframe(chapters)"
   ]
  },
  {
   "cell_type": "code",
   "execution_count": 16,
   "metadata": {},
   "outputs": [
    {
     "data": {
      "text/html": [
       "<div>\n",
       "<style scoped>\n",
       "    .dataframe tbody tr th:only-of-type {\n",
       "        vertical-align: middle;\n",
       "    }\n",
       "\n",
       "    .dataframe tbody tr th {\n",
       "        vertical-align: top;\n",
       "    }\n",
       "\n",
       "    .dataframe thead th {\n",
       "        text-align: right;\n",
       "    }\n",
       "</style>\n",
       "<table border=\"1\" class=\"dataframe\">\n",
       "  <thead>\n",
       "    <tr style=\"text-align: right;\">\n",
       "      <th></th>\n",
       "      <th>Chapter</th>\n",
       "      <th>Sentence index</th>\n",
       "      <th>Sentence</th>\n",
       "      <th>Cities1</th>\n",
       "      <th>Cities2</th>\n",
       "    </tr>\n",
       "  </thead>\n",
       "  <tbody>\n",
       "    <tr>\n",
       "      <th>0</th>\n",
       "      <td>1</td>\n",
       "      <td>1</td>\n",
       "      <td>Mr. Phileas Fogg lived, in 1872, at 7, Saville...</td>\n",
       "      <td>None</td>\n",
       "      <td>None</td>\n",
       "    </tr>\n",
       "    <tr>\n",
       "      <th>1</th>\n",
       "      <td>1</td>\n",
       "      <td>2</td>\n",
       "      <td>He was one of the most noticeable members of t...</td>\n",
       "      <td>None</td>\n",
       "      <td>None</td>\n",
       "    </tr>\n",
       "    <tr>\n",
       "      <th>2</th>\n",
       "      <td>1</td>\n",
       "      <td>3</td>\n",
       "      <td>People said that he resembled Byron—at least t...</td>\n",
       "      <td>None</td>\n",
       "      <td>None</td>\n",
       "    </tr>\n",
       "    <tr>\n",
       "      <th>3</th>\n",
       "      <td>1</td>\n",
       "      <td>4</td>\n",
       "      <td>Certainly an Englishman, it was more doubtful ...</td>\n",
       "      <td>None</td>\n",
       "      <td>None</td>\n",
       "    </tr>\n",
       "    <tr>\n",
       "      <th>4</th>\n",
       "      <td>1</td>\n",
       "      <td>5</td>\n",
       "      <td>He was never seen on ’Change, nor at the Bank,...</td>\n",
       "      <td>[Temple, Lincoln]</td>\n",
       "      <td>[London]</td>\n",
       "    </tr>\n",
       "    <tr>\n",
       "      <th>...</th>\n",
       "      <td>...</td>\n",
       "      <td>...</td>\n",
       "      <td>...</td>\n",
       "      <td>...</td>\n",
       "      <td>...</td>\n",
       "    </tr>\n",
       "    <tr>\n",
       "      <th>2799</th>\n",
       "      <td>37</td>\n",
       "      <td>48</td>\n",
       "      <td>What had he really gained by all this trouble?</td>\n",
       "      <td>None</td>\n",
       "      <td>None</td>\n",
       "    </tr>\n",
       "    <tr>\n",
       "      <th>2800</th>\n",
       "      <td>37</td>\n",
       "      <td>49</td>\n",
       "      <td>What had he brought back from this long and we...</td>\n",
       "      <td>None</td>\n",
       "      <td>None</td>\n",
       "    </tr>\n",
       "    <tr>\n",
       "      <th>2801</th>\n",
       "      <td>37</td>\n",
       "      <td>50</td>\n",
       "      <td>Nothing, say you?</td>\n",
       "      <td>None</td>\n",
       "      <td>None</td>\n",
       "    </tr>\n",
       "    <tr>\n",
       "      <th>2802</th>\n",
       "      <td>37</td>\n",
       "      <td>51</td>\n",
       "      <td>Perhaps so; nothing but a charming woman, who,...</td>\n",
       "      <td>None</td>\n",
       "      <td>None</td>\n",
       "    </tr>\n",
       "    <tr>\n",
       "      <th>2803</th>\n",
       "      <td>37</td>\n",
       "      <td>52</td>\n",
       "      <td>Truly, would you not for less than that make t...</td>\n",
       "      <td>None</td>\n",
       "      <td>None</td>\n",
       "    </tr>\n",
       "  </tbody>\n",
       "</table>\n",
       "<p>2804 rows × 5 columns</p>\n",
       "</div>"
      ],
      "text/plain": [
       "      Chapter  Sentence index  \\\n",
       "0           1               1   \n",
       "1           1               2   \n",
       "2           1               3   \n",
       "3           1               4   \n",
       "4           1               5   \n",
       "...       ...             ...   \n",
       "2799       37              48   \n",
       "2800       37              49   \n",
       "2801       37              50   \n",
       "2802       37              51   \n",
       "2803       37              52   \n",
       "\n",
       "                                               Sentence            Cities1  \\\n",
       "0     Mr. Phileas Fogg lived, in 1872, at 7, Saville...               None   \n",
       "1     He was one of the most noticeable members of t...               None   \n",
       "2     People said that he resembled Byron—at least t...               None   \n",
       "3     Certainly an Englishman, it was more doubtful ...               None   \n",
       "4     He was never seen on ’Change, nor at the Bank,...  [Temple, Lincoln]   \n",
       "...                                                 ...                ...   \n",
       "2799     What had he really gained by all this trouble?               None   \n",
       "2800  What had he brought back from this long and we...               None   \n",
       "2801                                  Nothing, say you?               None   \n",
       "2802  Perhaps so; nothing but a charming woman, who,...               None   \n",
       "2803  Truly, would you not for less than that make t...               None   \n",
       "\n",
       "       Cities2  \n",
       "0         None  \n",
       "1         None  \n",
       "2         None  \n",
       "3         None  \n",
       "4     [London]  \n",
       "...        ...  \n",
       "2799      None  \n",
       "2800      None  \n",
       "2801      None  \n",
       "2802      None  \n",
       "2803      None  \n",
       "\n",
       "[2804 rows x 5 columns]"
      ]
     },
     "execution_count": 16,
     "metadata": {},
     "output_type": "execute_result"
    }
   ],
   "source": [
    "df"
   ]
  },
  {
   "cell_type": "markdown",
   "metadata": {},
   "source": [
    "## Dropping rows where Cities1 and Cities2 are null at the same time"
   ]
  },
  {
   "cell_type": "code",
   "execution_count": 17,
   "metadata": {},
   "outputs": [],
   "source": [
    "def drop_nulls(df):\n",
    "    return df[~df['Cities1'].isnull() | ~df['Cities2'].isnull()]"
   ]
  },
  {
   "cell_type": "code",
   "execution_count": 18,
   "metadata": {
    "scrolled": false
   },
   "outputs": [],
   "source": [
    "df = drop_nulls(df)"
   ]
  },
  {
   "cell_type": "code",
   "execution_count": 19,
   "metadata": {},
   "outputs": [
    {
     "data": {
      "text/html": [
       "<div>\n",
       "<style scoped>\n",
       "    .dataframe tbody tr th:only-of-type {\n",
       "        vertical-align: middle;\n",
       "    }\n",
       "\n",
       "    .dataframe tbody tr th {\n",
       "        vertical-align: top;\n",
       "    }\n",
       "\n",
       "    .dataframe thead th {\n",
       "        text-align: right;\n",
       "    }\n",
       "</style>\n",
       "<table border=\"1\" class=\"dataframe\">\n",
       "  <thead>\n",
       "    <tr style=\"text-align: right;\">\n",
       "      <th></th>\n",
       "      <th>Chapter</th>\n",
       "      <th>Sentence index</th>\n",
       "      <th>Sentence</th>\n",
       "      <th>Cities1</th>\n",
       "      <th>Cities2</th>\n",
       "    </tr>\n",
       "  </thead>\n",
       "  <tbody>\n",
       "    <tr>\n",
       "      <th>4</th>\n",
       "      <td>1</td>\n",
       "      <td>5</td>\n",
       "      <td>He was never seen on ’Change, nor at the Bank,...</td>\n",
       "      <td>[Temple, Lincoln]</td>\n",
       "      <td>[London]</td>\n",
       "    </tr>\n",
       "    <tr>\n",
       "      <th>23</th>\n",
       "      <td>1</td>\n",
       "      <td>24</td>\n",
       "      <td>It was at least certain that Phileas Fogg had ...</td>\n",
       "      <td>[London]</td>\n",
       "      <td>[London]</td>\n",
       "    </tr>\n",
       "    <tr>\n",
       "      <th>30</th>\n",
       "      <td>1</td>\n",
       "      <td>31</td>\n",
       "      <td>He lived alone in his house in Saville Row, wh...</td>\n",
       "      <td>None</td>\n",
       "      <td>[Saville Row]</td>\n",
       "    </tr>\n",
       "    <tr>\n",
       "      <th>34</th>\n",
       "      <td>1</td>\n",
       "      <td>35</td>\n",
       "      <td>He passed ten hours out of the twenty-four in ...</td>\n",
       "      <td>None</td>\n",
       "      <td>[Saville Row]</td>\n",
       "    </tr>\n",
       "    <tr>\n",
       "      <th>38</th>\n",
       "      <td>1</td>\n",
       "      <td>39</td>\n",
       "      <td>The mansion in Saville Row, though not sumptuo...</td>\n",
       "      <td>None</td>\n",
       "      <td>[Saville Row]</td>\n",
       "    </tr>\n",
       "    <tr>\n",
       "      <th>...</th>\n",
       "      <td>...</td>\n",
       "      <td>...</td>\n",
       "      <td>...</td>\n",
       "      <td>...</td>\n",
       "      <td>...</td>\n",
       "    </tr>\n",
       "    <tr>\n",
       "      <th>2777</th>\n",
       "      <td>37</td>\n",
       "      <td>26</td>\n",
       "      <td>In other words, while Phileas Fogg, going east...</td>\n",
       "      <td>[London]</td>\n",
       "      <td>[London]</td>\n",
       "    </tr>\n",
       "    <tr>\n",
       "      <th>2779</th>\n",
       "      <td>37</td>\n",
       "      <td>28</td>\n",
       "      <td>And Passepartout’s famous family watch, which ...</td>\n",
       "      <td>[London]</td>\n",
       "      <td>[London]</td>\n",
       "    </tr>\n",
       "    <tr>\n",
       "      <th>2787</th>\n",
       "      <td>37</td>\n",
       "      <td>36</td>\n",
       "      <td>If you had not suggested our marriage, my serv...</td>\n",
       "      <td>[Wilson]</td>\n",
       "      <td>None</td>\n",
       "    </tr>\n",
       "    <tr>\n",
       "      <th>2793</th>\n",
       "      <td>37</td>\n",
       "      <td>42</td>\n",
       "      <td>Why, I’ve just this instant found out—”  “What...</td>\n",
       "      <td>None</td>\n",
       "      <td>[India]</td>\n",
       "    </tr>\n",
       "    <tr>\n",
       "      <th>2794</th>\n",
       "      <td>37</td>\n",
       "      <td>43</td>\n",
       "      <td>But if I had not crossed India, I should not h...</td>\n",
       "      <td>None</td>\n",
       "      <td>[India]</td>\n",
       "    </tr>\n",
       "  </tbody>\n",
       "</table>\n",
       "<p>581 rows × 5 columns</p>\n",
       "</div>"
      ],
      "text/plain": [
       "      Chapter  Sentence index  \\\n",
       "4           1               5   \n",
       "23          1              24   \n",
       "30          1              31   \n",
       "34          1              35   \n",
       "38          1              39   \n",
       "...       ...             ...   \n",
       "2777       37              26   \n",
       "2779       37              28   \n",
       "2787       37              36   \n",
       "2793       37              42   \n",
       "2794       37              43   \n",
       "\n",
       "                                               Sentence            Cities1  \\\n",
       "4     He was never seen on ’Change, nor at the Bank,...  [Temple, Lincoln]   \n",
       "23    It was at least certain that Phileas Fogg had ...           [London]   \n",
       "30    He lived alone in his house in Saville Row, wh...               None   \n",
       "34    He passed ten hours out of the twenty-four in ...               None   \n",
       "38    The mansion in Saville Row, though not sumptuo...               None   \n",
       "...                                                 ...                ...   \n",
       "2777  In other words, while Phileas Fogg, going east...           [London]   \n",
       "2779  And Passepartout’s famous family watch, which ...           [London]   \n",
       "2787  If you had not suggested our marriage, my serv...           [Wilson]   \n",
       "2793  Why, I’ve just this instant found out—”  “What...               None   \n",
       "2794  But if I had not crossed India, I should not h...               None   \n",
       "\n",
       "            Cities2  \n",
       "4          [London]  \n",
       "23         [London]  \n",
       "30    [Saville Row]  \n",
       "34    [Saville Row]  \n",
       "38    [Saville Row]  \n",
       "...             ...  \n",
       "2777       [London]  \n",
       "2779       [London]  \n",
       "2787           None  \n",
       "2793        [India]  \n",
       "2794        [India]  \n",
       "\n",
       "[581 rows x 5 columns]"
      ]
     },
     "execution_count": 19,
     "metadata": {},
     "output_type": "execute_result"
    }
   ],
   "source": [
    "df"
   ]
  },
  {
   "cell_type": "markdown",
   "metadata": {},
   "source": [
    "## Exploding every cities from one row to seperate entries"
   ]
  },
  {
   "cell_type": "code",
   "execution_count": 20,
   "metadata": {},
   "outputs": [],
   "source": [
    "def explode_rows(df):\n",
    "    df = df.explode('Cities1')\n",
    "    df = df.explode('Cities2')\n",
    "    df = df.reset_index()\n",
    "    \n",
    "    return df"
   ]
  },
  {
   "cell_type": "code",
   "execution_count": 21,
   "metadata": {},
   "outputs": [],
   "source": [
    "df = explode_rows(df)"
   ]
  },
  {
   "cell_type": "code",
   "execution_count": 22,
   "metadata": {},
   "outputs": [
    {
     "data": {
      "text/html": [
       "<div>\n",
       "<style scoped>\n",
       "    .dataframe tbody tr th:only-of-type {\n",
       "        vertical-align: middle;\n",
       "    }\n",
       "\n",
       "    .dataframe tbody tr th {\n",
       "        vertical-align: top;\n",
       "    }\n",
       "\n",
       "    .dataframe thead th {\n",
       "        text-align: right;\n",
       "    }\n",
       "</style>\n",
       "<table border=\"1\" class=\"dataframe\">\n",
       "  <thead>\n",
       "    <tr style=\"text-align: right;\">\n",
       "      <th></th>\n",
       "      <th>index</th>\n",
       "      <th>Chapter</th>\n",
       "      <th>Sentence index</th>\n",
       "      <th>Sentence</th>\n",
       "      <th>Cities1</th>\n",
       "      <th>Cities2</th>\n",
       "    </tr>\n",
       "  </thead>\n",
       "  <tbody>\n",
       "    <tr>\n",
       "      <th>0</th>\n",
       "      <td>4</td>\n",
       "      <td>1</td>\n",
       "      <td>5</td>\n",
       "      <td>He was never seen on ’Change, nor at the Bank,...</td>\n",
       "      <td>Temple</td>\n",
       "      <td>London</td>\n",
       "    </tr>\n",
       "    <tr>\n",
       "      <th>1</th>\n",
       "      <td>4</td>\n",
       "      <td>1</td>\n",
       "      <td>5</td>\n",
       "      <td>He was never seen on ’Change, nor at the Bank,...</td>\n",
       "      <td>Lincoln</td>\n",
       "      <td>London</td>\n",
       "    </tr>\n",
       "    <tr>\n",
       "      <th>2</th>\n",
       "      <td>23</td>\n",
       "      <td>1</td>\n",
       "      <td>24</td>\n",
       "      <td>It was at least certain that Phileas Fogg had ...</td>\n",
       "      <td>London</td>\n",
       "      <td>London</td>\n",
       "    </tr>\n",
       "    <tr>\n",
       "      <th>3</th>\n",
       "      <td>30</td>\n",
       "      <td>1</td>\n",
       "      <td>31</td>\n",
       "      <td>He lived alone in his house in Saville Row, wh...</td>\n",
       "      <td>None</td>\n",
       "      <td>Saville Row</td>\n",
       "    </tr>\n",
       "    <tr>\n",
       "      <th>4</th>\n",
       "      <td>34</td>\n",
       "      <td>1</td>\n",
       "      <td>35</td>\n",
       "      <td>He passed ten hours out of the twenty-four in ...</td>\n",
       "      <td>None</td>\n",
       "      <td>Saville Row</td>\n",
       "    </tr>\n",
       "    <tr>\n",
       "      <th>...</th>\n",
       "      <td>...</td>\n",
       "      <td>...</td>\n",
       "      <td>...</td>\n",
       "      <td>...</td>\n",
       "      <td>...</td>\n",
       "      <td>...</td>\n",
       "    </tr>\n",
       "    <tr>\n",
       "      <th>1444</th>\n",
       "      <td>2777</td>\n",
       "      <td>37</td>\n",
       "      <td>26</td>\n",
       "      <td>In other words, while Phileas Fogg, going east...</td>\n",
       "      <td>London</td>\n",
       "      <td>London</td>\n",
       "    </tr>\n",
       "    <tr>\n",
       "      <th>1445</th>\n",
       "      <td>2779</td>\n",
       "      <td>37</td>\n",
       "      <td>28</td>\n",
       "      <td>And Passepartout’s famous family watch, which ...</td>\n",
       "      <td>London</td>\n",
       "      <td>London</td>\n",
       "    </tr>\n",
       "    <tr>\n",
       "      <th>1446</th>\n",
       "      <td>2787</td>\n",
       "      <td>37</td>\n",
       "      <td>36</td>\n",
       "      <td>If you had not suggested our marriage, my serv...</td>\n",
       "      <td>Wilson</td>\n",
       "      <td>None</td>\n",
       "    </tr>\n",
       "    <tr>\n",
       "      <th>1447</th>\n",
       "      <td>2793</td>\n",
       "      <td>37</td>\n",
       "      <td>42</td>\n",
       "      <td>Why, I’ve just this instant found out—”  “What...</td>\n",
       "      <td>None</td>\n",
       "      <td>India</td>\n",
       "    </tr>\n",
       "    <tr>\n",
       "      <th>1448</th>\n",
       "      <td>2794</td>\n",
       "      <td>37</td>\n",
       "      <td>43</td>\n",
       "      <td>But if I had not crossed India, I should not h...</td>\n",
       "      <td>None</td>\n",
       "      <td>India</td>\n",
       "    </tr>\n",
       "  </tbody>\n",
       "</table>\n",
       "<p>1449 rows × 6 columns</p>\n",
       "</div>"
      ],
      "text/plain": [
       "      index  Chapter  Sentence index  \\\n",
       "0         4        1               5   \n",
       "1         4        1               5   \n",
       "2        23        1              24   \n",
       "3        30        1              31   \n",
       "4        34        1              35   \n",
       "...     ...      ...             ...   \n",
       "1444   2777       37              26   \n",
       "1445   2779       37              28   \n",
       "1446   2787       37              36   \n",
       "1447   2793       37              42   \n",
       "1448   2794       37              43   \n",
       "\n",
       "                                               Sentence  Cities1      Cities2  \n",
       "0     He was never seen on ’Change, nor at the Bank,...   Temple       London  \n",
       "1     He was never seen on ’Change, nor at the Bank,...  Lincoln       London  \n",
       "2     It was at least certain that Phileas Fogg had ...   London       London  \n",
       "3     He lived alone in his house in Saville Row, wh...     None  Saville Row  \n",
       "4     He passed ten hours out of the twenty-four in ...     None  Saville Row  \n",
       "...                                                 ...      ...          ...  \n",
       "1444  In other words, while Phileas Fogg, going east...   London       London  \n",
       "1445  And Passepartout’s famous family watch, which ...   London       London  \n",
       "1446  If you had not suggested our marriage, my serv...   Wilson         None  \n",
       "1447  Why, I’ve just this instant found out—”  “What...     None        India  \n",
       "1448  But if I had not crossed India, I should not h...     None        India  \n",
       "\n",
       "[1449 rows x 6 columns]"
      ]
     },
     "execution_count": 22,
     "metadata": {},
     "output_type": "execute_result"
    }
   ],
   "source": [
    "df"
   ]
  },
  {
   "cell_type": "markdown",
   "metadata": {},
   "source": [
    "## Using GeonamesCache() let's check if values from Cities1 and Cities2 are real cities"
   ]
  },
  {
   "cell_type": "code",
   "execution_count": 23,
   "metadata": {},
   "outputs": [],
   "source": [
    "def validate_city(city):\n",
    "    return gc.search_cities(city, case_sensitive=False)"
   ]
  },
  {
   "cell_type": "code",
   "execution_count": 24,
   "metadata": {},
   "outputs": [],
   "source": [
    "def find_real_cities(df):\n",
    "    real_cities = []\n",
    "    weirdos = []\n",
    "    for city in list(set(df['Cities1']).union(set(df['Cities2']))):\n",
    "        if city != None:           \n",
    "            res = validate_city(city)\n",
    "        if len(res) == 0:\n",
    "            weirdos.append(city)\n",
    "        else:\n",
    "            real_cities.append((res[0]['latitude'], res[0]['longitude']))\n",
    "            \n",
    "    return real_cities, weirdos"
   ]
  },
  {
   "cell_type": "code",
   "execution_count": 25,
   "metadata": {},
   "outputs": [],
   "source": [
    "real_cities, weirdos = find_real_cities(df)"
   ]
  },
  {
   "cell_type": "markdown",
   "metadata": {},
   "source": [
    "## Deleting non-cities objects from dataframe"
   ]
  },
  {
   "cell_type": "code",
   "execution_count": 26,
   "metadata": {},
   "outputs": [],
   "source": [
    "for i in range(len(df)):\n",
    "    if df['Cities1'].iloc[i] in weirdos:\n",
    "        df.at[i, 'Cities1'] = None\n",
    "    if df['Cities2'].iloc[i] in weirdos:\n",
    "        df.at[i, 'Cities2'] = None\n",
    "        \n",
    "df = df[~df['Cities1'].isnull() | ~df['Cities2'].isnull()]"
   ]
  },
  {
   "cell_type": "code",
   "execution_count": 27,
   "metadata": {},
   "outputs": [
    {
     "data": {
      "text/html": [
       "<div>\n",
       "<style scoped>\n",
       "    .dataframe tbody tr th:only-of-type {\n",
       "        vertical-align: middle;\n",
       "    }\n",
       "\n",
       "    .dataframe tbody tr th {\n",
       "        vertical-align: top;\n",
       "    }\n",
       "\n",
       "    .dataframe thead th {\n",
       "        text-align: right;\n",
       "    }\n",
       "</style>\n",
       "<table border=\"1\" class=\"dataframe\">\n",
       "  <thead>\n",
       "    <tr style=\"text-align: right;\">\n",
       "      <th></th>\n",
       "      <th>index</th>\n",
       "      <th>Chapter</th>\n",
       "      <th>Sentence index</th>\n",
       "      <th>Sentence</th>\n",
       "      <th>Cities1</th>\n",
       "      <th>Cities2</th>\n",
       "    </tr>\n",
       "  </thead>\n",
       "  <tbody>\n",
       "    <tr>\n",
       "      <th>0</th>\n",
       "      <td>4</td>\n",
       "      <td>1</td>\n",
       "      <td>5</td>\n",
       "      <td>He was never seen on ’Change, nor at the Bank,...</td>\n",
       "      <td>Temple</td>\n",
       "      <td>London</td>\n",
       "    </tr>\n",
       "    <tr>\n",
       "      <th>1</th>\n",
       "      <td>4</td>\n",
       "      <td>1</td>\n",
       "      <td>5</td>\n",
       "      <td>He was never seen on ’Change, nor at the Bank,...</td>\n",
       "      <td>Lincoln</td>\n",
       "      <td>London</td>\n",
       "    </tr>\n",
       "    <tr>\n",
       "      <th>2</th>\n",
       "      <td>23</td>\n",
       "      <td>1</td>\n",
       "      <td>24</td>\n",
       "      <td>It was at least certain that Phileas Fogg had ...</td>\n",
       "      <td>London</td>\n",
       "      <td>London</td>\n",
       "    </tr>\n",
       "    <tr>\n",
       "      <th>6</th>\n",
       "      <td>49</td>\n",
       "      <td>1</td>\n",
       "      <td>50</td>\n",
       "      <td>Then I got to be a professor of gymnastics, so...</td>\n",
       "      <td>Paris</td>\n",
       "      <td>Paris</td>\n",
       "    </tr>\n",
       "    <tr>\n",
       "      <th>12</th>\n",
       "      <td>62</td>\n",
       "      <td>2</td>\n",
       "      <td>1</td>\n",
       "      <td>“Faith,” muttered Passepartout, somewhat flurr...</td>\n",
       "      <td>London</td>\n",
       "      <td>London</td>\n",
       "    </tr>\n",
       "    <tr>\n",
       "      <th>...</th>\n",
       "      <td>...</td>\n",
       "      <td>...</td>\n",
       "      <td>...</td>\n",
       "      <td>...</td>\n",
       "      <td>...</td>\n",
       "      <td>...</td>\n",
       "    </tr>\n",
       "    <tr>\n",
       "      <th>1444</th>\n",
       "      <td>2777</td>\n",
       "      <td>37</td>\n",
       "      <td>26</td>\n",
       "      <td>In other words, while Phileas Fogg, going east...</td>\n",
       "      <td>London</td>\n",
       "      <td>London</td>\n",
       "    </tr>\n",
       "    <tr>\n",
       "      <th>1445</th>\n",
       "      <td>2779</td>\n",
       "      <td>37</td>\n",
       "      <td>28</td>\n",
       "      <td>And Passepartout’s famous family watch, which ...</td>\n",
       "      <td>London</td>\n",
       "      <td>London</td>\n",
       "    </tr>\n",
       "    <tr>\n",
       "      <th>1446</th>\n",
       "      <td>2787</td>\n",
       "      <td>37</td>\n",
       "      <td>36</td>\n",
       "      <td>If you had not suggested our marriage, my serv...</td>\n",
       "      <td>Wilson</td>\n",
       "      <td>None</td>\n",
       "    </tr>\n",
       "    <tr>\n",
       "      <th>1447</th>\n",
       "      <td>2793</td>\n",
       "      <td>37</td>\n",
       "      <td>42</td>\n",
       "      <td>Why, I’ve just this instant found out—”  “What...</td>\n",
       "      <td>None</td>\n",
       "      <td>India</td>\n",
       "    </tr>\n",
       "    <tr>\n",
       "      <th>1448</th>\n",
       "      <td>2794</td>\n",
       "      <td>37</td>\n",
       "      <td>43</td>\n",
       "      <td>But if I had not crossed India, I should not h...</td>\n",
       "      <td>None</td>\n",
       "      <td>India</td>\n",
       "    </tr>\n",
       "  </tbody>\n",
       "</table>\n",
       "<p>1184 rows × 6 columns</p>\n",
       "</div>"
      ],
      "text/plain": [
       "      index  Chapter  Sentence index  \\\n",
       "0         4        1               5   \n",
       "1         4        1               5   \n",
       "2        23        1              24   \n",
       "6        49        1              50   \n",
       "12       62        2               1   \n",
       "...     ...      ...             ...   \n",
       "1444   2777       37              26   \n",
       "1445   2779       37              28   \n",
       "1446   2787       37              36   \n",
       "1447   2793       37              42   \n",
       "1448   2794       37              43   \n",
       "\n",
       "                                               Sentence  Cities1 Cities2  \n",
       "0     He was never seen on ’Change, nor at the Bank,...   Temple  London  \n",
       "1     He was never seen on ’Change, nor at the Bank,...  Lincoln  London  \n",
       "2     It was at least certain that Phileas Fogg had ...   London  London  \n",
       "6     Then I got to be a professor of gymnastics, so...    Paris   Paris  \n",
       "12    “Faith,” muttered Passepartout, somewhat flurr...   London  London  \n",
       "...                                                 ...      ...     ...  \n",
       "1444  In other words, while Phileas Fogg, going east...   London  London  \n",
       "1445  And Passepartout’s famous family watch, which ...   London  London  \n",
       "1446  If you had not suggested our marriage, my serv...   Wilson    None  \n",
       "1447  Why, I’ve just this instant found out—”  “What...     None   India  \n",
       "1448  But if I had not crossed India, I should not h...     None   India  \n",
       "\n",
       "[1184 rows x 6 columns]"
      ]
     },
     "execution_count": 27,
     "metadata": {},
     "output_type": "execute_result"
    }
   ],
   "source": [
    "df"
   ]
  },
  {
   "cell_type": "markdown",
   "metadata": {},
   "source": [
    "## Function to create a map"
   ]
  },
  {
   "cell_type": "code",
   "execution_count": 28,
   "metadata": {},
   "outputs": [],
   "source": [
    "def get_map(cities, polylines=False):\n",
    "    m = folium.Map(location=[0, 0], zoom_start=2)\n",
    "\n",
    "    if polylines:\n",
    "        folium.PolyLine(\n",
    "            cities,\n",
    "            weight=8,\n",
    "            color='blue',\n",
    "            opacity=0.6\n",
    "        ).add_to(m)\n",
    "\n",
    "    for i in range(len(cities)):\n",
    "        folium.Marker(\n",
    "            location=[cities[i][0], cities[i][1]],\n",
    "            icon=folium.Icon(color=\"orange\",icon=\"fas fa-bolt\", prefix='fa')\n",
    "        ).add_to(m)\n",
    "\n",
    "    return m"
   ]
  },
  {
   "cell_type": "markdown",
   "metadata": {},
   "source": [
    "## Let's take a look for a map with cities, which we obtain"
   ]
  },
  {
   "cell_type": "code",
   "execution_count": 29,
   "metadata": {
    "scrolled": false
   },
   "outputs": [
    {
     "data": {
      "text/html": [
       "<div style=\"width:100%;\"><div style=\"position:relative;width:100%;height:0;padding-bottom:60%;\"><span style=\"color:#565656\">Make this Notebook Trusted to load map: File -> Trust Notebook</span><iframe src=\"about:blank\" style=\"position:absolute;width:100%;height:100%;left:0;top:0;border:none !important;\" data-html=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 onload=\"this.contentDocument.open();this.contentDocument.write(atob(this.getAttribute('data-html')));this.contentDocument.close();\" allowfullscreen webkitallowfullscreen mozallowfullscreen></iframe></div></div>"
      ],
      "text/plain": [
       "<folium.folium.Map at 0x2abf47539c8>"
      ]
     },
     "execution_count": 29,
     "metadata": {},
     "output_type": "execute_result"
    }
   ],
   "source": [
    "get_map(real_cities)"
   ]
  },
  {
   "cell_type": "markdown",
   "metadata": {},
   "source": [
    "## Let's take a look at specific words in sentences in which cities appeared"
   ]
  },
  {
   "cell_type": "code",
   "execution_count": 30,
   "metadata": {},
   "outputs": [],
   "source": [
    "def cleaning_comments(comments):\n",
    "    cleaned_comments = []\n",
    "    ps = PorterStemmer()\n",
    "    wl=WordNetLemmatizer()\n",
    "    for comment in comments:\n",
    "        comment = comment.lower()\n",
    "        comment = Tokenizer.tokenize(comment)\n",
    "        comment = [word for word in comment if word not in eng_stopwords]\n",
    "        comment = [word for word in comment if len(word)>2] \n",
    "        comment = [word for word in comment if not word.isnumeric()]\n",
    "        comment = [wl.lemmatize(i) for i in comment]\n",
    "        comment = [ps.stem(i) for i in comment]\n",
    "\n",
    "        cleaned_comments.append(comment)\n",
    "\n",
    "    cleaned_comments_combined = [word for sublist in cleaned_comments for word in sublist]\n",
    "    \n",
    "    return cleaned_comments_combined"
   ]
  },
  {
   "cell_type": "markdown",
   "metadata": {},
   "source": [
    "## Creating new column with lemmatized and stemmed words"
   ]
  },
  {
   "cell_type": "code",
   "execution_count": 31,
   "metadata": {},
   "outputs": [
    {
     "name": "stderr",
     "output_type": "stream",
     "text": [
      "c:\\users\\dariu\\appdata\\local\\programs\\python\\python37\\lib\\site-packages\\ipykernel_launcher.py:1: SettingWithCopyWarning: \n",
      "A value is trying to be set on a copy of a slice from a DataFrame.\n",
      "Try using .loc[row_indexer,col_indexer] = value instead\n",
      "\n",
      "See the caveats in the documentation: https://pandas.pydata.org/pandas-docs/stable/user_guide/indexing.html#returning-a-view-versus-a-copy\n",
      "  \"\"\"Entry point for launching an IPython kernel.\n"
     ]
    }
   ],
   "source": [
    "df['Cleaning'] = df.apply(lambda row: cleaning_comments([row.Sentence]), axis=1)"
   ]
  },
  {
   "cell_type": "code",
   "execution_count": 32,
   "metadata": {},
   "outputs": [
    {
     "data": {
      "text/html": [
       "<div>\n",
       "<style scoped>\n",
       "    .dataframe tbody tr th:only-of-type {\n",
       "        vertical-align: middle;\n",
       "    }\n",
       "\n",
       "    .dataframe tbody tr th {\n",
       "        vertical-align: top;\n",
       "    }\n",
       "\n",
       "    .dataframe thead th {\n",
       "        text-align: right;\n",
       "    }\n",
       "</style>\n",
       "<table border=\"1\" class=\"dataframe\">\n",
       "  <thead>\n",
       "    <tr style=\"text-align: right;\">\n",
       "      <th></th>\n",
       "      <th>index</th>\n",
       "      <th>Chapter</th>\n",
       "      <th>Sentence index</th>\n",
       "      <th>Sentence</th>\n",
       "      <th>Cities1</th>\n",
       "      <th>Cities2</th>\n",
       "      <th>Cleaning</th>\n",
       "    </tr>\n",
       "  </thead>\n",
       "  <tbody>\n",
       "    <tr>\n",
       "      <th>0</th>\n",
       "      <td>4</td>\n",
       "      <td>1</td>\n",
       "      <td>5</td>\n",
       "      <td>He was never seen on ’Change, nor at the Bank,...</td>\n",
       "      <td>Temple</td>\n",
       "      <td>London</td>\n",
       "      <td>[never, seen, chang, bank, counting-room, citi...</td>\n",
       "    </tr>\n",
       "    <tr>\n",
       "      <th>1</th>\n",
       "      <td>4</td>\n",
       "      <td>1</td>\n",
       "      <td>5</td>\n",
       "      <td>He was never seen on ’Change, nor at the Bank,...</td>\n",
       "      <td>Lincoln</td>\n",
       "      <td>London</td>\n",
       "      <td>[never, seen, chang, bank, counting-room, citi...</td>\n",
       "    </tr>\n",
       "    <tr>\n",
       "      <th>2</th>\n",
       "      <td>23</td>\n",
       "      <td>1</td>\n",
       "      <td>24</td>\n",
       "      <td>It was at least certain that Phileas Fogg had ...</td>\n",
       "      <td>London</td>\n",
       "      <td>London</td>\n",
       "      <td>[least, certain, philea, fogg, absent, london,...</td>\n",
       "    </tr>\n",
       "    <tr>\n",
       "      <th>6</th>\n",
       "      <td>49</td>\n",
       "      <td>1</td>\n",
       "      <td>50</td>\n",
       "      <td>Then I got to be a professor of gymnastics, so...</td>\n",
       "      <td>Paris</td>\n",
       "      <td>Paris</td>\n",
       "      <td>[got, professor, gymnast, make, better, use, t...</td>\n",
       "    </tr>\n",
       "    <tr>\n",
       "      <th>12</th>\n",
       "      <td>62</td>\n",
       "      <td>2</td>\n",
       "      <td>1</td>\n",
       "      <td>“Faith,” muttered Passepartout, somewhat flurr...</td>\n",
       "      <td>London</td>\n",
       "      <td>London</td>\n",
       "      <td>[faith, mutter, passepartout, somewhat, flurri...</td>\n",
       "    </tr>\n",
       "    <tr>\n",
       "      <th>...</th>\n",
       "      <td>...</td>\n",
       "      <td>...</td>\n",
       "      <td>...</td>\n",
       "      <td>...</td>\n",
       "      <td>...</td>\n",
       "      <td>...</td>\n",
       "      <td>...</td>\n",
       "    </tr>\n",
       "    <tr>\n",
       "      <th>1444</th>\n",
       "      <td>2777</td>\n",
       "      <td>37</td>\n",
       "      <td>26</td>\n",
       "      <td>In other words, while Phileas Fogg, going east...</td>\n",
       "      <td>London</td>\n",
       "      <td>London</td>\n",
       "      <td>[word, philea, fogg, go, eastward, saw, sun, p...</td>\n",
       "    </tr>\n",
       "    <tr>\n",
       "      <th>1445</th>\n",
       "      <td>2779</td>\n",
       "      <td>37</td>\n",
       "      <td>28</td>\n",
       "      <td>And Passepartout’s famous family watch, which ...</td>\n",
       "      <td>London</td>\n",
       "      <td>London</td>\n",
       "      <td>[passepartout, famou, famili, watch, alway, ke...</td>\n",
       "    </tr>\n",
       "    <tr>\n",
       "      <th>1446</th>\n",
       "      <td>2787</td>\n",
       "      <td>37</td>\n",
       "      <td>36</td>\n",
       "      <td>If you had not suggested our marriage, my serv...</td>\n",
       "      <td>Wilson</td>\n",
       "      <td>None</td>\n",
       "      <td>[suggest, marriag, servant, would, gone, rever...</td>\n",
       "    </tr>\n",
       "    <tr>\n",
       "      <th>1447</th>\n",
       "      <td>2793</td>\n",
       "      <td>37</td>\n",
       "      <td>42</td>\n",
       "      <td>Why, I’ve just this instant found out—”  “What...</td>\n",
       "      <td>None</td>\n",
       "      <td>India</td>\n",
       "      <td>[instant, found, might, made, tour, world, sev...</td>\n",
       "    </tr>\n",
       "    <tr>\n",
       "      <th>1448</th>\n",
       "      <td>2794</td>\n",
       "      <td>37</td>\n",
       "      <td>43</td>\n",
       "      <td>But if I had not crossed India, I should not h...</td>\n",
       "      <td>None</td>\n",
       "      <td>India</td>\n",
       "      <td>[cross, india, save, aouda, would, wife, fogg,...</td>\n",
       "    </tr>\n",
       "  </tbody>\n",
       "</table>\n",
       "<p>1184 rows × 7 columns</p>\n",
       "</div>"
      ],
      "text/plain": [
       "      index  Chapter  Sentence index  \\\n",
       "0         4        1               5   \n",
       "1         4        1               5   \n",
       "2        23        1              24   \n",
       "6        49        1              50   \n",
       "12       62        2               1   \n",
       "...     ...      ...             ...   \n",
       "1444   2777       37              26   \n",
       "1445   2779       37              28   \n",
       "1446   2787       37              36   \n",
       "1447   2793       37              42   \n",
       "1448   2794       37              43   \n",
       "\n",
       "                                               Sentence  Cities1 Cities2  \\\n",
       "0     He was never seen on ’Change, nor at the Bank,...   Temple  London   \n",
       "1     He was never seen on ’Change, nor at the Bank,...  Lincoln  London   \n",
       "2     It was at least certain that Phileas Fogg had ...   London  London   \n",
       "6     Then I got to be a professor of gymnastics, so...    Paris   Paris   \n",
       "12    “Faith,” muttered Passepartout, somewhat flurr...   London  London   \n",
       "...                                                 ...      ...     ...   \n",
       "1444  In other words, while Phileas Fogg, going east...   London  London   \n",
       "1445  And Passepartout’s famous family watch, which ...   London  London   \n",
       "1446  If you had not suggested our marriage, my serv...   Wilson    None   \n",
       "1447  Why, I’ve just this instant found out—”  “What...     None   India   \n",
       "1448  But if I had not crossed India, I should not h...     None   India   \n",
       "\n",
       "                                               Cleaning  \n",
       "0     [never, seen, chang, bank, counting-room, citi...  \n",
       "1     [never, seen, chang, bank, counting-room, citi...  \n",
       "2     [least, certain, philea, fogg, absent, london,...  \n",
       "6     [got, professor, gymnast, make, better, use, t...  \n",
       "12    [faith, mutter, passepartout, somewhat, flurri...  \n",
       "...                                                 ...  \n",
       "1444  [word, philea, fogg, go, eastward, saw, sun, p...  \n",
       "1445  [passepartout, famou, famili, watch, alway, ke...  \n",
       "1446  [suggest, marriag, servant, would, gone, rever...  \n",
       "1447  [instant, found, might, made, tour, world, sev...  \n",
       "1448  [cross, india, save, aouda, would, wife, fogg,...  \n",
       "\n",
       "[1184 rows x 7 columns]"
      ]
     },
     "execution_count": 32,
     "metadata": {},
     "output_type": "execute_result"
    }
   ],
   "source": [
    "df"
   ]
  },
  {
   "cell_type": "markdown",
   "metadata": {},
   "source": [
    "## Words connected to travelling"
   ]
  },
  {
   "cell_type": "code",
   "execution_count": 33,
   "metadata": {},
   "outputs": [],
   "source": [
    "synonyms = ['arrive', 'travel', 'depart', 'leave', 'movement', 'move', 'trip', \n",
    "            'navigation', 'ride', 'drive', 'embark',\n",
    "            'walk', 'disembark', 'reach', 'stop']\n",
    "\n",
    "synonyms = cleaning_comments(synonyms)"
   ]
  },
  {
   "cell_type": "code",
   "execution_count": 34,
   "metadata": {},
   "outputs": [],
   "source": [
    "def find_words(lista):\n",
    "    res = [word for word in lista if word in synonyms]  \n",
    "    if res == []:\n",
    "        return None\n",
    "    else:\n",
    "        return set(res)"
   ]
  },
  {
   "cell_type": "code",
   "execution_count": 35,
   "metadata": {},
   "outputs": [
    {
     "name": "stderr",
     "output_type": "stream",
     "text": [
      "c:\\users\\dariu\\appdata\\local\\programs\\python\\python37\\lib\\site-packages\\ipykernel_launcher.py:1: SettingWithCopyWarning: \n",
      "A value is trying to be set on a copy of a slice from a DataFrame.\n",
      "Try using .loc[row_indexer,col_indexer] = value instead\n",
      "\n",
      "See the caveats in the documentation: https://pandas.pydata.org/pandas-docs/stable/user_guide/indexing.html#returning-a-view-versus-a-copy\n",
      "  \"\"\"Entry point for launching an IPython kernel.\n"
     ]
    }
   ],
   "source": [
    "df['Words'] = df.apply(lambda row: find_words(row.Cleaning), axis=1)"
   ]
  },
  {
   "cell_type": "code",
   "execution_count": 36,
   "metadata": {},
   "outputs": [
    {
     "data": {
      "text/html": [
       "<div>\n",
       "<style scoped>\n",
       "    .dataframe tbody tr th:only-of-type {\n",
       "        vertical-align: middle;\n",
       "    }\n",
       "\n",
       "    .dataframe tbody tr th {\n",
       "        vertical-align: top;\n",
       "    }\n",
       "\n",
       "    .dataframe thead th {\n",
       "        text-align: right;\n",
       "    }\n",
       "</style>\n",
       "<table border=\"1\" class=\"dataframe\">\n",
       "  <thead>\n",
       "    <tr style=\"text-align: right;\">\n",
       "      <th></th>\n",
       "      <th>index</th>\n",
       "      <th>Chapter</th>\n",
       "      <th>Sentence index</th>\n",
       "      <th>Sentence</th>\n",
       "      <th>Cities1</th>\n",
       "      <th>Cities2</th>\n",
       "      <th>Cleaning</th>\n",
       "      <th>Words</th>\n",
       "    </tr>\n",
       "  </thead>\n",
       "  <tbody>\n",
       "    <tr>\n",
       "      <th>48</th>\n",
       "      <td>131</td>\n",
       "      <td>3</td>\n",
       "      <td>28</td>\n",
       "      <td>Detectives were also charged with narrowly wat...</td>\n",
       "      <td>London</td>\n",
       "      <td>London</td>\n",
       "      <td>[detect, also, charg, narrowli, watch, arriv, ...</td>\n",
       "      <td>{arriv}</td>\n",
       "    </tr>\n",
       "    <tr>\n",
       "      <th>175</th>\n",
       "      <td>247</td>\n",
       "      <td>5</td>\n",
       "      <td>14</td>\n",
       "      <td>He might, perhaps, reckon on the arrival of tr...</td>\n",
       "      <td>None</td>\n",
       "      <td>India</td>\n",
       "      <td>[might, perhap, reckon, arriv, train, design, ...</td>\n",
       "      <td>{arriv}</td>\n",
       "    </tr>\n",
       "    <tr>\n",
       "      <th>205</th>\n",
       "      <td>274</td>\n",
       "      <td>6</td>\n",
       "      <td>7</td>\n",
       "      <td>This was Fix, one of the detectives who had be...</td>\n",
       "      <td>Suez</td>\n",
       "      <td>None</td>\n",
       "      <td>[fix, one, detect, dispatch, england, search, ...</td>\n",
       "      <td>{arriv}</td>\n",
       "    </tr>\n",
       "    <tr>\n",
       "      <th>206</th>\n",
       "      <td>274</td>\n",
       "      <td>6</td>\n",
       "      <td>7</td>\n",
       "      <td>This was Fix, one of the detectives who had be...</td>\n",
       "      <td>Suez</td>\n",
       "      <td>London</td>\n",
       "      <td>[fix, one, detect, dispatch, england, search, ...</td>\n",
       "      <td>{arriv}</td>\n",
       "    </tr>\n",
       "    <tr>\n",
       "      <th>207</th>\n",
       "      <td>274</td>\n",
       "      <td>6</td>\n",
       "      <td>7</td>\n",
       "      <td>This was Fix, one of the detectives who had be...</td>\n",
       "      <td>London</td>\n",
       "      <td>None</td>\n",
       "      <td>[fix, one, detect, dispatch, england, search, ...</td>\n",
       "      <td>{arriv}</td>\n",
       "    </tr>\n",
       "    <tr>\n",
       "      <th>...</th>\n",
       "      <td>...</td>\n",
       "      <td>...</td>\n",
       "      <td>...</td>\n",
       "      <td>...</td>\n",
       "      <td>...</td>\n",
       "      <td>...</td>\n",
       "      <td>...</td>\n",
       "      <td>...</td>\n",
       "    </tr>\n",
       "    <tr>\n",
       "      <th>1438</th>\n",
       "      <td>2722</td>\n",
       "      <td>36</td>\n",
       "      <td>25</td>\n",
       "      <td>When the clock indicated twenty minutes past e...</td>\n",
       "      <td>Liverpool</td>\n",
       "      <td>Liverpool</td>\n",
       "      <td>[clock, indic, twenti, minut, past, eight, and...</td>\n",
       "      <td>{arriv}</td>\n",
       "    </tr>\n",
       "    <tr>\n",
       "      <th>1439</th>\n",
       "      <td>2729</td>\n",
       "      <td>36</td>\n",
       "      <td>32</td>\n",
       "      <td>You know, besides, that the ‘China’—the only s...</td>\n",
       "      <td>New York</td>\n",
       "      <td>New York</td>\n",
       "      <td>[know, besid, china, steamer, could, taken, ne...</td>\n",
       "      <td>{arriv}</td>\n",
       "    </tr>\n",
       "    <tr>\n",
       "      <th>1441</th>\n",
       "      <td>2753</td>\n",
       "      <td>37</td>\n",
       "      <td>2</td>\n",
       "      <td>The reader will remember that at five minutes ...</td>\n",
       "      <td>London</td>\n",
       "      <td>London</td>\n",
       "      <td>[reader, rememb, five, minut, past, eight, eve...</td>\n",
       "      <td>{travel, arriv}</td>\n",
       "    </tr>\n",
       "    <tr>\n",
       "      <th>1442</th>\n",
       "      <td>2753</td>\n",
       "      <td>37</td>\n",
       "      <td>2</td>\n",
       "      <td>The reader will remember that at five minutes ...</td>\n",
       "      <td>Wilson</td>\n",
       "      <td>London</td>\n",
       "      <td>[reader, rememb, five, minut, past, eight, eve...</td>\n",
       "      <td>{travel, arriv}</td>\n",
       "    </tr>\n",
       "    <tr>\n",
       "      <th>1443</th>\n",
       "      <td>2772</td>\n",
       "      <td>37</td>\n",
       "      <td>21</td>\n",
       "      <td>How came he to think that he had arrived in Lo...</td>\n",
       "      <td>London</td>\n",
       "      <td>London</td>\n",
       "      <td>[came, think, arriv, london, saturday, twenty-...</td>\n",
       "      <td>{arriv}</td>\n",
       "    </tr>\n",
       "  </tbody>\n",
       "</table>\n",
       "<p>411 rows × 8 columns</p>\n",
       "</div>"
      ],
      "text/plain": [
       "      index  Chapter  Sentence index  \\\n",
       "48      131        3              28   \n",
       "175     247        5              14   \n",
       "205     274        6               7   \n",
       "206     274        6               7   \n",
       "207     274        6               7   \n",
       "...     ...      ...             ...   \n",
       "1438   2722       36              25   \n",
       "1439   2729       36              32   \n",
       "1441   2753       37               2   \n",
       "1442   2753       37               2   \n",
       "1443   2772       37              21   \n",
       "\n",
       "                                               Sentence    Cities1    Cities2  \\\n",
       "48    Detectives were also charged with narrowly wat...     London     London   \n",
       "175   He might, perhaps, reckon on the arrival of tr...       None      India   \n",
       "205   This was Fix, one of the detectives who had be...       Suez       None   \n",
       "206   This was Fix, one of the detectives who had be...       Suez     London   \n",
       "207   This was Fix, one of the detectives who had be...     London       None   \n",
       "...                                                 ...        ...        ...   \n",
       "1438  When the clock indicated twenty minutes past e...  Liverpool  Liverpool   \n",
       "1439  You know, besides, that the ‘China’—the only s...   New York   New York   \n",
       "1441  The reader will remember that at five minutes ...     London     London   \n",
       "1442  The reader will remember that at five minutes ...     Wilson     London   \n",
       "1443  How came he to think that he had arrived in Lo...     London     London   \n",
       "\n",
       "                                               Cleaning            Words  \n",
       "48    [detect, also, charg, narrowli, watch, arriv, ...          {arriv}  \n",
       "175   [might, perhap, reckon, arriv, train, design, ...          {arriv}  \n",
       "205   [fix, one, detect, dispatch, england, search, ...          {arriv}  \n",
       "206   [fix, one, detect, dispatch, england, search, ...          {arriv}  \n",
       "207   [fix, one, detect, dispatch, england, search, ...          {arriv}  \n",
       "...                                                 ...              ...  \n",
       "1438  [clock, indic, twenti, minut, past, eight, and...          {arriv}  \n",
       "1439  [know, besid, china, steamer, could, taken, ne...          {arriv}  \n",
       "1441  [reader, rememb, five, minut, past, eight, eve...  {travel, arriv}  \n",
       "1442  [reader, rememb, five, minut, past, eight, eve...  {travel, arriv}  \n",
       "1443  [came, think, arriv, london, saturday, twenty-...          {arriv}  \n",
       "\n",
       "[411 rows x 8 columns]"
      ]
     },
     "execution_count": 36,
     "metadata": {},
     "output_type": "execute_result"
    }
   ],
   "source": [
    "df[~df['Words'].isnull()]"
   ]
  },
  {
   "cell_type": "markdown",
   "metadata": {},
   "source": [
    "## Removing continents"
   ]
  },
  {
   "cell_type": "code",
   "execution_count": 37,
   "metadata": {},
   "outputs": [],
   "source": [
    "continents = []\n",
    "geocache = gc.get_continents()\n",
    "for continent in geocache:\n",
    "    continents.append((geocache[continent]['toponymName']))"
   ]
  },
  {
   "cell_type": "code",
   "execution_count": 38,
   "metadata": {},
   "outputs": [],
   "source": [
    "df = df[~df['Cities1'].isin(continents)]\n",
    "df = df[~df['Cities2'].isin(continents)]"
   ]
  },
  {
   "cell_type": "markdown",
   "metadata": {},
   "source": [
    "## Creating ordered list of cities"
   ]
  },
  {
   "cell_type": "code",
   "execution_count": 39,
   "metadata": {},
   "outputs": [],
   "source": [
    "df = df[df['Chapter'] != 37]"
   ]
  },
  {
   "cell_type": "code",
   "execution_count": 40,
   "metadata": {},
   "outputs": [],
   "source": [
    "ordered_cities = ['London']\n",
    "for i in range(len(df[~df['Words'].isnull()]['Cities1'])):\n",
    "    if df[~df['Words'].isnull()]['Cities1'].iloc[i] not in ordered_cities:\n",
    "        ordered_cities.append(df[~df['Words'].isnull()]['Cities1'].iloc[i])\n",
    "    if df[~df['Words'].isnull()]['Cities2'].iloc[i] not in ordered_cities:\n",
    "        ordered_cities.append(df[~df['Words'].isnull()]['Cities2'].iloc[i])\n",
    "        \n",
    "ordered_cities.remove(None)"
   ]
  },
  {
   "cell_type": "code",
   "execution_count": 41,
   "metadata": {},
   "outputs": [],
   "source": [
    "for dest in ordered_cities:\n",
    "    alternatenames = gc.get_cities_by_name(dest)\n",
    "    if len(alternatenames) > 0:\n",
    "        alternatenames = gc.get_cities_by_name(dest)[0][list(gc.get_cities_by_name(dest)[0].keys())[0]]['alternatenames'] \n",
    "    try:\n",
    "        gc.get_countries_by_names()[dest]\n",
    "        if len(alternatenames) > 0:\n",
    "            alternatenames = gc.get_cities_by_name(dest)[0][list(gc.get_cities_by_name(dest)[0].keys())[0]]['alternatenames'] \n",
    "        if dest in alternatenames:\n",
    "            pass\n",
    "        else:\n",
    "            ordered_cities.remove(dest)\n",
    "    except KeyError:\n",
    "        pass"
   ]
  },
  {
   "cell_type": "code",
   "execution_count": 42,
   "metadata": {},
   "outputs": [],
   "source": [
    "ordered_cities_2 = []\n",
    "for city in ordered_cities:\n",
    "    if ' '.join(chapters).count(city) > 2:\n",
    "        ordered_cities_2.append(city)\n",
    "        \n",
    "ordered_cities = ordered_cities_2"
   ]
  },
  {
   "cell_type": "code",
   "execution_count": 43,
   "metadata": {},
   "outputs": [
    {
     "data": {
      "text/plain": [
       "['London',\n",
       " 'Suez',\n",
       " 'Brindisi',\n",
       " 'Paris',\n",
       " 'Bombay',\n",
       " 'Calcutta',\n",
       " 'Singapore',\n",
       " 'Hong Kong',\n",
       " 'Yokohama',\n",
       " 'San Francisco',\n",
       " 'New York',\n",
       " 'Aden',\n",
       " 'Allahabad',\n",
       " 'Nagasaki',\n",
       " 'Shanghai',\n",
       " 'Union',\n",
       " 'Omaha',\n",
       " 'Salt Lake City',\n",
       " 'Sacramento',\n",
       " 'Salt Lake',\n",
       " 'Ogden',\n",
       " 'Missouri',\n",
       " 'Kearney',\n",
       " 'Liverpool',\n",
       " 'Chicago',\n",
       " 'Hudson',\n",
       " 'Queenstown',\n",
       " 'Dublin']"
      ]
     },
     "execution_count": 43,
     "metadata": {},
     "output_type": "execute_result"
    }
   ],
   "source": [
    "ordered_cities"
   ]
  },
  {
   "cell_type": "code",
   "execution_count": 44,
   "metadata": {},
   "outputs": [
    {
     "data": {
      "text/plain": [
       "28"
      ]
     },
     "execution_count": 44,
     "metadata": {},
     "output_type": "execute_result"
    }
   ],
   "source": [
    "len(ordered_cities)"
   ]
  },
  {
   "cell_type": "markdown",
   "metadata": {},
   "source": [
    "## 'Missouri' and 'Hudson' are rivers, we need to remove them"
   ]
  },
  {
   "cell_type": "code",
   "execution_count": 45,
   "metadata": {},
   "outputs": [],
   "source": [
    "rivers = []\n",
    "for city in ordered_cities:\n",
    "    values = wn.synsets(city)\n",
    "    for i in range(len(values)):\n",
    "        if 'river' in values[i].definition()[:25]:\n",
    "            rivers.append(city)\n",
    "\n",
    "for item in rivers:\n",
    "    ordered_cities.remove(item)"
   ]
  },
  {
   "cell_type": "markdown",
   "metadata": {},
   "source": [
    "## Adding longitude and latitude by all cities from ordered list"
   ]
  },
  {
   "cell_type": "code",
   "execution_count": 46,
   "metadata": {},
   "outputs": [],
   "source": [
    "destinations = []\n",
    "for row in ordered_cities:\n",
    "    results = gc.search_cities(row, case_sensitive=False)\n",
    "    if row == 'Queenstown':\n",
    "        destinations.append([-8.29924, 51.85237, 'Cobh (Queenstown)'])  \n",
    "    elif len(results) > 1:\n",
    "        place = results[np.argmax([i['population'] for i in results])]\n",
    "        destinations.append([place['longitude'], place['latitude'], row])\n",
    "    else:\n",
    "        destinations.append([results[0]['longitude'], results[0]['latitude'], row])"
   ]
  },
  {
   "cell_type": "code",
   "execution_count": 47,
   "metadata": {
    "scrolled": false
   },
   "outputs": [
    {
     "data": {
      "text/plain": [
       "[[-0.12574, 51.50853, 'London'],\n",
       " [32.52627, 29.97371, 'Suez'],\n",
       " [17.93607, 40.63215, 'Brindisi'],\n",
       " [2.3488, 48.85341, 'Paris'],\n",
       " [72.88261, 19.07283, 'Bombay'],\n",
       " [88.36304, 22.56263, 'Calcutta'],\n",
       " [103.85007, 1.28967, 'Singapore'],\n",
       " [114.17469, 22.27832, 'Hong Kong'],\n",
       " [139.65, 35.43333, 'Yokohama'],\n",
       " [-122.41942, 37.77493, 'San Francisco'],\n",
       " [-74.00597, 40.71427, 'New York'],\n",
       " [45.03667, 12.77944, 'Aden'],\n",
       " [81.84322, 25.44478, 'Allahabad'],\n",
       " [129.88333, 32.75, 'Nagasaki'],\n",
       " [121.45806, 31.22222, 'Shanghai'],\n",
       " [-74.2632, 40.6976, 'Union'],\n",
       " [-95.94043, 41.25626, 'Omaha'],\n",
       " [-111.89105, 40.76078, 'Salt Lake City'],\n",
       " [-121.4944, 38.58157, 'Sacramento'],\n",
       " [-111.89105, 40.76078, 'Salt Lake'],\n",
       " [-111.97383, 41.223, 'Ogden'],\n",
       " [-74.14542, 40.76843, 'Kearney'],\n",
       " [-2.97794, 53.41058, 'Liverpool'],\n",
       " [-87.65005, 41.85003, 'Chicago'],\n",
       " [-8.29924, 51.85237, 'Cobh (Queenstown)'],\n",
       " [-6.24889, 53.33306, 'Dublin']]"
      ]
     },
     "execution_count": 47,
     "metadata": {},
     "output_type": "execute_result"
    }
   ],
   "source": [
    "destinations"
   ]
  },
  {
   "cell_type": "markdown",
   "metadata": {},
   "source": [
    "## Sorting all locations and find connections between them"
   ]
  },
  {
   "cell_type": "code",
   "execution_count": 48,
   "metadata": {},
   "outputs": [],
   "source": [
    "destinations.sort()"
   ]
  },
  {
   "cell_type": "code",
   "execution_count": 49,
   "metadata": {
    "scrolled": true
   },
   "outputs": [],
   "source": [
    "to_delete = []\n",
    "for i in range(len(destinations)):\n",
    "    distances = []\n",
    "    for j in range(len(destinations)):\n",
    "        if i<j:\n",
    "            if ((destinations[i][0] - destinations[j][0])**2 + (destinations[i][1] - destinations[j][1])**2)**(1/2) < 0.1:\n",
    "                to_delete.append(destinations[i])\n",
    "    \n",
    "    \n",
    "for i in range(len(to_delete)):\n",
    "    destinations.remove(to_delete[i])"
   ]
  },
  {
   "cell_type": "code",
   "execution_count": 50,
   "metadata": {},
   "outputs": [],
   "source": [
    "destinations.sort()"
   ]
  },
  {
   "cell_type": "markdown",
   "metadata": {},
   "source": [
    "## Final cities and map"
   ]
  },
  {
   "cell_type": "code",
   "execution_count": 56,
   "metadata": {},
   "outputs": [
    {
     "data": {
      "text/plain": [
       "[[-122.41942, 37.77493, 'San Francisco'],\n",
       " [-121.4944, 38.58157, 'Sacramento'],\n",
       " [-111.97383, 41.223, 'Ogden'],\n",
       " [-111.89105, 40.76078, 'Salt Lake City'],\n",
       " [-95.94043, 41.25626, 'Omaha'],\n",
       " [-87.65005, 41.85003, 'Chicago'],\n",
       " [-74.2632, 40.6976, 'Union'],\n",
       " [-74.14542, 40.76843, 'Kearney'],\n",
       " [-74.00597, 40.71427, 'New York'],\n",
       " [-8.29924, 51.85237, 'Cobh (Queenstown)'],\n",
       " [-6.24889, 53.33306, 'Dublin'],\n",
       " [-2.97794, 53.41058, 'Liverpool'],\n",
       " [-0.12574, 51.50853, 'London'],\n",
       " [2.3488, 48.85341, 'Paris'],\n",
       " [17.93607, 40.63215, 'Brindisi'],\n",
       " [32.52627, 29.97371, 'Suez'],\n",
       " [45.03667, 12.77944, 'Aden'],\n",
       " [72.88261, 19.07283, 'Bombay'],\n",
       " [81.84322, 25.44478, 'Allahabad'],\n",
       " [88.36304, 22.56263, 'Calcutta'],\n",
       " [103.85007, 1.28967, 'Singapore'],\n",
       " [114.17469, 22.27832, 'Hong Kong'],\n",
       " [121.45806, 31.22222, 'Shanghai'],\n",
       " [129.88333, 32.75, 'Nagasaki'],\n",
       " [139.65, 35.43333, 'Yokohama']]"
      ]
     },
     "execution_count": 56,
     "metadata": {},
     "output_type": "execute_result"
    }
   ],
   "source": [
    "destinations"
   ]
  },
  {
   "cell_type": "code",
   "execution_count": 53,
   "metadata": {
    "scrolled": false
   },
   "outputs": [
    {
     "data": {
      "text/html": [
       "<div style=\"width:100%;\"><div style=\"position:relative;width:100%;height:0;padding-bottom:60%;\"><span style=\"color:#565656\">Make this Notebook Trusted to load map: File -> Trust Notebook</span><iframe src=\"about:blank\" style=\"position:absolute;width:100%;height:100%;left:0;top:0;border:none !important;\" data-html=PCFET0NUWVBFIGh0bWw+CjxoZWFkPiAgICAKICAgIDxtZXRhIGh0dHAtZXF1aXY9ImNvbnRlbnQtdHlwZSIgY29udGVudD0idGV4dC9odG1sOyBjaGFyc2V0PVVURi04IiAvPgogICAgCiAgICAgICAgPHNjcmlwdD4KICAgICAgICAgICAgTF9OT19UT1VDSCA9IGZhbHNlOwogICAgICAgICAgICBMX0RJU0FCTEVfM0QgPSBmYWxzZTsKICAgICAgICA8L3NjcmlwdD4KICAgIAogICAgPHNjcmlwdCBzcmM9Imh0dHBzOi8vY2RuLmpzZGVsaXZyLm5ldC9ucG0vbGVhZmxldEAxLjYuMC9kaXN0L2xlYWZsZXQuanMiPjwvc2NyaXB0PgogICAgPHNjcmlwdCBzcmM9Imh0dHBzOi8vY29kZS5qcXVlcnkuY29tL2pxdWVyeS0xLjEyLjQubWluLmpzIj48L3NjcmlwdD4KICAgIDxzY3JpcHQgc3JjPSJodHRwczovL21heGNkbi5ib290c3RyYXBjZG4uY29tL2Jvb3RzdHJhcC8zLjIuMC9qcy9ib290c3RyYXAubWluLmpzIj48L3NjcmlwdD4KICAgIDxzY3JpcHQgc3JjPSJodHRwczovL2NkbmpzLmNsb3VkZmxhcmUuY29tL2FqYXgvbGlicy9MZWFmbGV0LmF3ZXNvbWUtbWFya2Vycy8yLjAuMi9sZWFmbGV0LmF3ZXNvbWUtbWFya2Vycy5qcyI+PC9zY3JpcHQ+CiAgICA8bGluayByZWw9InN0eWxlc2hlZXQiIGhyZWY9Imh0dHBzOi8vY2RuLmpzZGVsaXZyLm5ldC9ucG0vbGVhZmxldEAxLjYuMC9kaXN0L2xlYWZsZXQuY3NzIi8+CiAgICA8bGluayByZWw9InN0eWxlc2hlZXQiIGhyZWY9Imh0dHBzOi8vbWF4Y2RuLmJvb3RzdHJhcGNkbi5jb20vYm9vdHN0cmFwLzMuMi4wL2Nzcy9ib290c3RyYXAubWluLmNzcyIvPgogICAgPGxpbmsgcmVsPSJzdHlsZXNoZWV0IiBocmVmPSJodHRwczovL21heGNkbi5ib290c3RyYXBjZG4uY29tL2Jvb3RzdHJhcC8zLjIuMC9jc3MvYm9vdHN0cmFwLXRoZW1lLm1pbi5jc3MiLz4KICAgIDxsaW5rIHJlbD0ic3R5bGVzaGVldCIgaHJlZj0iaHR0cHM6Ly9tYXhjZG4uYm9vdHN0cmFwY2RuLmNvbS9mb250LWF3ZXNvbWUvNC42LjMvY3NzL2ZvbnQtYXdlc29tZS5taW4uY3NzIi8+CiAgICA8bGluayByZWw9InN0eWxlc2hlZXQiIGhyZWY9Imh0dHBzOi8vY2RuanMuY2xvdWRmbGFyZS5jb20vYWpheC9saWJzL0xlYWZsZXQuYXdlc29tZS1tYXJrZXJzLzIuMC4yL2xlYWZsZXQuYXdlc29tZS1tYXJrZXJzLmNzcyIvPgogICAgPGxpbmsgcmVsPSJzdHlsZXNoZWV0IiBocmVmPSJodHRwczovL3Jhd2Nkbi5naXRoYWNrLmNvbS9weXRob24tdmlzdWFsaXphdGlvbi9mb2xpdW0vbWFzdGVyL2ZvbGl1bS90ZW1wbGF0ZXMvbGVhZmxldC5hd2Vzb21lLnJvdGF0ZS5jc3MiLz4KICAgIDxzdHlsZT5odG1sLCBib2R5IHt3aWR0aDogMTAwJTtoZWlnaHQ6IDEwMCU7bWFyZ2luOiAwO3BhZGRpbmc6IDA7fTwvc3R5bGU+CiAgICA8c3R5bGU+I21hcCB7cG9zaXRpb246YWJzb2x1dGU7dG9wOjA7Ym90dG9tOjA7cmlnaHQ6MDtsZWZ0OjA7fTwvc3R5bGU+CiAgICAKICAgICAgICAgICAgPG1ldGEgbmFtZT0idmlld3BvcnQiIGNvbnRlbnQ9IndpZHRoPWRldmljZS13aWR0aCwKICAgICAgICAgICAgICAgIGluaXRpYWwtc2NhbGU9MS4wLCBtYXhpbXVtLXNjYWxlPTEuMCwgdXNlci1zY2FsYWJsZT1ubyIgLz4KICAgICAgICAgICAgPHN0eWxlPgogICAgICAgICAgICAgICAgI21hcF82ZWQwM2RlMDU0NmQ0NGIyODE2ZDQ3NWUwOTYyNzMyMSB7CiAgICAgICAgICAgICAgICAgICAgcG9zaXRpb246IHJlbGF0aXZlOwogICAgICAgICAgICAgICAgICAgIHdpZHRoOiAxMDAuMCU7CiAgICAgICAgICAgICAgICAgICAgaGVpZ2h0OiAxMDAuMCU7CiAgICAgICAgICAgICAgICAgICAgbGVmdDogMC4wJTsKICAgICAgICAgICAgICAgICAgICB0b3A6IDAuMCU7CiAgICAgICAgICAgICAgICB9CiAgICAgICAgICAgIDwvc3R5bGU+CiAgICAgICAgCjwvaGVhZD4KPGJvZHk+ICAgIAogICAgCiAgICAgICAgICAgIDxkaXYgY2xhc3M9ImZvbGl1bS1tYXAiIGlkPSJtYXBfNmVkMDNkZTA1NDZkNDRiMjgxNmQ0NzVlMDk2MjczMjEiID48L2Rpdj4KICAgICAgICAKPC9ib2R5Pgo8c2NyaXB0PiAgICAKICAgIAogICAgICAgICAgICB2YXIgbWFwXzZlZDAzZGUwNTQ2ZDQ0YjI4MTZkNDc1ZTA5NjI3MzIxID0gTC5tYXAoCiAgICAgICAgICAgICAgICAibWFwXzZlZDAzZGUwNTQ2ZDQ0YjI4MTZkNDc1ZTA5NjI3MzIxIiwKICAgICAgICAgICAgICAgIHsKICAgICAgICAgICAgICAgICAgICBjZW50ZXI6IFswLjAsIDAuMF0sCiAgICAgICAgICAgICAgICAgICAgY3JzOiBMLkNSUy5FUFNHMzg1NywKICAgICAgICAgICAgICAgICAgICB6b29tOiAyLAogICAgICAgICAgICAgICAgICAgIHpvb21Db250cm9sOiB0cnVlLAogICAgICAgICAgICAgICAgICAgIHByZWZlckNhbnZhczogZmFsc2UsCiAgICAgICAgICAgICAgICB9CiAgICAgICAgICAgICk7CgogICAgICAgICAgICAKCiAgICAgICAgCiAgICAKICAgICAgICAgICAgdmFyIHRpbGVfbGF5ZXJfZjYzNDYyNDczMDU0NGJjNGFhMmMzNjM4OWM3ZDdiMzkgPSBMLnRpbGVMYXllcigKICAgICAgICAgICAgICAgICJodHRwczovL3tzfS50aWxlLm9wZW5zdHJlZXRtYXAub3JnL3t6fS97eH0ve3l9LnBuZyIsCiAgICAgICAgICAgICAgICB7ImF0dHJpYnV0aW9uIjogIkRhdGEgYnkgXHUwMDI2Y29weTsgXHUwMDNjYSBocmVmPVwiaHR0cDovL29wZW5zdHJlZXRtYXAub3JnXCJcdTAwM2VPcGVuU3RyZWV0TWFwXHUwMDNjL2FcdTAwM2UsIHVuZGVyIFx1MDAzY2EgaHJlZj1cImh0dHA6Ly93d3cub3BlbnN0cmVldG1hcC5vcmcvY29weXJpZ2h0XCJcdTAwM2VPRGJMXHUwMDNjL2FcdTAwM2UuIiwgImRldGVjdFJldGluYSI6IGZhbHNlLCAibWF4TmF0aXZlWm9vbSI6IDE4LCAibWF4Wm9vbSI6IDE4LCAibWluWm9vbSI6IDAsICJub1dyYXAiOiBmYWxzZSwgIm9wYWNpdHkiOiAxLCAic3ViZG9tYWlucyI6ICJhYmMiLCAidG1zIjogZmFsc2V9CiAgICAgICAgICAgICkuYWRkVG8obWFwXzZlZDAzZGUwNTQ2ZDQ0YjI4MTZkNDc1ZTA5NjI3MzIxKTsKICAgICAgICAKICAgIAogICAgICAgICAgICB2YXIgcG9seV9saW5lX2U5NjExYmI4YTM5MjQ0NmM4ZTU3MGExYWZhZWMzMjIwID0gTC5wb2x5bGluZSgKICAgICAgICAgICAgICAgIFtbMzcuNzc0OTMsIC0xMjIuNDE5NDJdLCBbMzguNTgxNTcsIC0xMjEuNDk0NF0sIFs0MS4yMjMsIC0xMTEuOTczODNdLCBbNDAuNzYwNzgsIC0xMTEuODkxMDVdLCBbNDEuMjU2MjYsIC05NS45NDA0M10sIFs0MS44NTAwMywgLTg3LjY1MDA1XSwgWzQwLjY5NzYsIC03NC4yNjMyXSwgWzQwLjc2ODQzLCAtNzQuMTQ1NDJdLCBbNDAuNzE0MjcsIC03NC4wMDU5N10sIFs1MS44NTIzNywgLTguMjk5MjRdLCBbNTMuMzMzMDYsIC02LjI0ODg5XSwgWzUzLjQxMDU4LCAtMi45Nzc5NF0sIFs1MS41MDg1MywgLTAuMTI1NzRdLCBbNDguODUzNDEsIDIuMzQ4OF0sIFs0MC42MzIxNSwgMTcuOTM2MDddLCBbMjkuOTczNzEsIDMyLjUyNjI3XSwgWzEyLjc3OTQ0LCA0NS4wMzY2N10sIFsxOS4wNzI4MywgNzIuODgyNjFdLCBbMjUuNDQ0NzgsIDgxLjg0MzIyXSwgWzIyLjU2MjYzLCA4OC4zNjMwNF0sIFsxLjI4OTY3LCAxMDMuODUwMDddLCBbMjIuMjc4MzIsIDExNC4xNzQ2OV0sIFszMS4yMjIyMiwgMTIxLjQ1ODA2XSwgWzMyLjc1LCAxMjkuODgzMzNdLCBbMzUuNDMzMzMsIDEzOS42NV1dLAogICAgICAgICAgICAgICAgeyJidWJibGluZ01vdXNlRXZlbnRzIjogdHJ1ZSwgImNvbG9yIjogImJsdWUiLCAiZGFzaEFycmF5IjogbnVsbCwgImRhc2hPZmZzZXQiOiBudWxsLCAiZmlsbCI6IGZhbHNlLCAiZmlsbENvbG9yIjogImJsdWUiLCAiZmlsbE9wYWNpdHkiOiAwLjIsICJmaWxsUnVsZSI6ICJldmVub2RkIiwgImxpbmVDYXAiOiAicm91bmQiLCAibGluZUpvaW4iOiAicm91bmQiLCAibm9DbGlwIjogZmFsc2UsICJvcGFjaXR5IjogMC42LCAic21vb3RoRmFjdG9yIjogMS4wLCAic3Ryb2tlIjogdHJ1ZSwgIndlaWdodCI6IDh9CiAgICAgICAgICAgICkuYWRkVG8obWFwXzZlZDAzZGUwNTQ2ZDQ0YjI4MTZkNDc1ZTA5NjI3MzIxKTsKICAgICAgICAKICAgIAogICAgICAgICAgICB2YXIgbWFya2VyXzc3NGIxZDVjYTdhOTQwZDBiNDlmMmI4OTY2ZjI2NmExID0gTC5tYXJrZXIoCiAgICAgICAgICAgICAgICBbMzcuNzc0OTMsIC0xMjIuNDE5NDJdLAogICAgICAgICAgICAgICAge30KICAgICAgICAgICAgKS5hZGRUbyhtYXBfNmVkMDNkZTA1NDZkNDRiMjgxNmQ0NzVlMDk2MjczMjEpOwogICAgICAgIAogICAgCiAgICAgICAgICAgIHZhciBpY29uXzU5ZTY1NWM4NjFkMjQxZjA4MDI4ZTNmMDQ2NTZkN2VmID0gTC5Bd2Vzb21lTWFya2Vycy5pY29uKAogICAgICAgICAgICAgICAgeyJleHRyYUNsYXNzZXMiOiAiZmEtcm90YXRlLTAiLCAiaWNvbiI6ICJmYXMgZmEtYm9sdCIsICJpY29uQ29sb3IiOiAid2hpdGUiLCAibWFya2VyQ29sb3IiOiAib3JhbmdlIiwgInByZWZpeCI6ICJmYSJ9CiAgICAgICAgICAgICk7CiAgICAgICAgICAgIG1hcmtlcl83NzRiMWQ1Y2E3YTk0MGQwYjQ5ZjJiODk2NmYyNjZhMS5zZXRJY29uKGljb25fNTllNjU1Yzg2MWQyNDFmMDgwMjhlM2YwNDY1NmQ3ZWYpOwogICAgICAgIAogICAgCiAgICAgICAgICAgIHZhciBtYXJrZXJfMzljNTBiNDU4ZDc0NGUzMTkzZDFhYzRjYWIyMzhmZjQgPSBMLm1hcmtlcigKICAgICAgICAgICAgICAgIFszOC41ODE1NywgLTEyMS40OTQ0XSwKICAgICAgICAgICAgICAgIHt9CiAgICAgICAgICAgICkuYWRkVG8obWFwXzZlZDAzZGUwNTQ2ZDQ0YjI4MTZkNDc1ZTA5NjI3MzIxKTsKICAgICAgICAKICAgIAogICAgICAgICAgICB2YXIgaWNvbl8xYjkzNmVjZGJkOTc0YzU1YTdiMjFkZmQzMzI5M2JmOSA9IEwuQXdlc29tZU1hcmtlcnMuaWNvbigKICAgICAgICAgICAgICAgIHsiZXh0cmFDbGFzc2VzIjogImZhLXJvdGF0ZS0wIiwgImljb24iOiAiZmFzIGZhLWJvbHQiLCAiaWNvbkNvbG9yIjogIndoaXRlIiwgIm1hcmtlckNvbG9yIjogIm9yYW5nZSIsICJwcmVmaXgiOiAiZmEifQogICAgICAgICAgICApOwogICAgICAgICAgICBtYXJrZXJfMzljNTBiNDU4ZDc0NGUzMTkzZDFhYzRjYWIyMzhmZjQuc2V0SWNvbihpY29uXzFiOTM2ZWNkYmQ5NzRjNTVhN2IyMWRmZDMzMjkzYmY5KTsKICAgICAgICAKICAgIAogICAgICAgICAgICB2YXIgbWFya2VyXzE2NjNhM2RjOWYyNzQ1MjA5MDEwMDExYTBjYzY1YWYwID0gTC5tYXJrZXIoCiAgICAgICAgICAgICAgICBbNDEuMjIzLCAtMTExLjk3MzgzXSwKICAgICAgICAgICAgICAgIHt9CiAgICAgICAgICAgICkuYWRkVG8obWFwXzZlZDAzZGUwNTQ2ZDQ0YjI4MTZkNDc1ZTA5NjI3MzIxKTsKICAgICAgICAKICAgIAogICAgICAgICAgICB2YXIgaWNvbl84NDZlMThiMTA0Yzc0MjgyYjgyYjEyZDJiMmRlMTZlOSA9IEwuQXdlc29tZU1hcmtlcnMuaWNvbigKICAgICAgICAgICAgICAgIHsiZXh0cmFDbGFzc2VzIjogImZhLXJvdGF0ZS0wIiwgImljb24iOiAiZmFzIGZhLWJvbHQiLCAiaWNvbkNvbG9yIjogIndoaXRlIiwgIm1hcmtlckNvbG9yIjogIm9yYW5nZSIsICJwcmVmaXgiOiAiZmEifQogICAgICAgICAgICApOwogICAgICAgICAgICBtYXJrZXJfMTY2M2EzZGM5ZjI3NDUyMDkwMTAwMTFhMGNjNjVhZjAuc2V0SWNvbihpY29uXzg0NmUxOGIxMDRjNzQyODJiODJiMTJkMmIyZGUxNmU5KTsKICAgICAgICAKICAgIAogICAgICAgICAgICB2YXIgbWFya2VyX2MyZjk1NzA4MGM2MjQ2NTBiZWUzODVhMzhkZjhlNDY3ID0gTC5tYXJrZXIoCiAgICAgICAgICAgICAgICBbNDAuNzYwNzgsIC0xMTEuODkxMDVdLAogICAgICAgICAgICAgICAge30KICAgICAgICAgICAgKS5hZGRUbyhtYXBfNmVkMDNkZTA1NDZkNDRiMjgxNmQ0NzVlMDk2MjczMjEpOwogICAgICAgIAogICAgCiAgICAgICAgICAgIHZhciBpY29uXzRhNjFkYjdjZjBlMjQ5MWE5ZDdlMDIwNGU1YzM3ZGZiID0gTC5Bd2Vzb21lTWFya2Vycy5pY29uKAogICAgICAgICAgICAgICAgeyJleHRyYUNsYXNzZXMiOiAiZmEtcm90YXRlLTAiLCAiaWNvbiI6ICJmYXMgZmEtYm9sdCIsICJpY29uQ29sb3IiOiAid2hpdGUiLCAibWFya2VyQ29sb3IiOiAib3JhbmdlIiwgInByZWZpeCI6ICJmYSJ9CiAgICAgICAgICAgICk7CiAgICAgICAgICAgIG1hcmtlcl9jMmY5NTcwODBjNjI0NjUwYmVlMzg1YTM4ZGY4ZTQ2Ny5zZXRJY29uKGljb25fNGE2MWRiN2NmMGUyNDkxYTlkN2UwMjA0ZTVjMzdkZmIpOwogICAgICAgIAogICAgCiAgICAgICAgICAgIHZhciBtYXJrZXJfNjE3NzgwOWJlZTVmNGIxM2E0ODc4ZmU0ZWM4NTMyZGQgPSBMLm1hcmtlcigKICAgICAgICAgICAgICAgIFs0MS4yNTYyNiwgLTk1Ljk0MDQzXSwKICAgICAgICAgICAgICAgIHt9CiAgICAgICAgICAgICkuYWRkVG8obWFwXzZlZDAzZGUwNTQ2ZDQ0YjI4MTZkNDc1ZTA5NjI3MzIxKTsKICAgICAgICAKICAgIAogICAgICAgICAgICB2YXIgaWNvbl84Mjk1ZmZkZDhjMzc0NDYzYjlmNmEyMmNiNzk5N2VhZCA9IEwuQXdlc29tZU1hcmtlcnMuaWNvbigKICAgICAgICAgICAgICAgIHsiZXh0cmFDbGFzc2VzIjogImZhLXJvdGF0ZS0wIiwgImljb24iOiAiZmFzIGZhLWJvbHQiLCAiaWNvbkNvbG9yIjogIndoaXRlIiwgIm1hcmtlckNvbG9yIjogIm9yYW5nZSIsICJwcmVmaXgiOiAiZmEifQogICAgICAgICAgICApOwogICAgICAgICAgICBtYXJrZXJfNjE3NzgwOWJlZTVmNGIxM2E0ODc4ZmU0ZWM4NTMyZGQuc2V0SWNvbihpY29uXzgyOTVmZmRkOGMzNzQ0NjNiOWY2YTIyY2I3OTk3ZWFkKTsKICAgICAgICAKICAgIAogICAgICAgICAgICB2YXIgbWFya2VyXzllZTNhYmJkODY0ZTRjMjNhZGE3Y2Y4MzUzOGExY2ZjID0gTC5tYXJrZXIoCiAgICAgICAgICAgICAgICBbNDEuODUwMDMsIC04Ny42NTAwNV0sCiAgICAgICAgICAgICAgICB7fQogICAgICAgICAgICApLmFkZFRvKG1hcF82ZWQwM2RlMDU0NmQ0NGIyODE2ZDQ3NWUwOTYyNzMyMSk7CiAgICAgICAgCiAgICAKICAgICAgICAgICAgdmFyIGljb25fMGEwMTUyMTM2Y2UzNGYwZTg0ODM1YmQ2ZDRjZDBjYzkgPSBMLkF3ZXNvbWVNYXJrZXJzLmljb24oCiAgICAgICAgICAgICAgICB7ImV4dHJhQ2xhc3NlcyI6ICJmYS1yb3RhdGUtMCIsICJpY29uIjogImZhcyBmYS1ib2x0IiwgImljb25Db2xvciI6ICJ3aGl0ZSIsICJtYXJrZXJDb2xvciI6ICJvcmFuZ2UiLCAicHJlZml4IjogImZhIn0KICAgICAgICAgICAgKTsKICAgICAgICAgICAgbWFya2VyXzllZTNhYmJkODY0ZTRjMjNhZGE3Y2Y4MzUzOGExY2ZjLnNldEljb24oaWNvbl8wYTAxNTIxMzZjZTM0ZjBlODQ4MzViZDZkNGNkMGNjOSk7CiAgICAgICAgCiAgICAKICAgICAgICAgICAgdmFyIG1hcmtlcl80NDE4YmFhYjhiMjM0YjI4OGRjMGRjMDM3YmEyMjU2ZCA9IEwubWFya2VyKAogICAgICAgICAgICAgICAgWzQwLjY5NzYsIC03NC4yNjMyXSwKICAgICAgICAgICAgICAgIHt9CiAgICAgICAgICAgICkuYWRkVG8obWFwXzZlZDAzZGUwNTQ2ZDQ0YjI4MTZkNDc1ZTA5NjI3MzIxKTsKICAgICAgICAKICAgIAogICAgICAgICAgICB2YXIgaWNvbl9kMDMwYmViZjVhNGI0NzkxYTA5YjliY2VlMDJkMWY2ZCA9IEwuQXdlc29tZU1hcmtlcnMuaWNvbigKICAgICAgICAgICAgICAgIHsiZXh0cmFDbGFzc2VzIjogImZhLXJvdGF0ZS0wIiwgImljb24iOiAiZmFzIGZhLWJvbHQiLCAiaWNvbkNvbG9yIjogIndoaXRlIiwgIm1hcmtlckNvbG9yIjogIm9yYW5nZSIsICJwcmVmaXgiOiAiZmEifQogICAgICAgICAgICApOwogICAgICAgICAgICBtYXJrZXJfNDQxOGJhYWI4YjIzNGIyODhkYzBkYzAzN2JhMjI1NmQuc2V0SWNvbihpY29uX2QwMzBiZWJmNWE0YjQ3OTFhMDliOWJjZWUwMmQxZjZkKTsKICAgICAgICAKICAgIAogICAgICAgICAgICB2YXIgbWFya2VyXzVlZDRmYmViYmQyNDRhZDdiNDNkY2Y0ZTlkNTllYWVkID0gTC5tYXJrZXIoCiAgICAgICAgICAgICAgICBbNDAuNzY4NDMsIC03NC4xNDU0Ml0sCiAgICAgICAgICAgICAgICB7fQogICAgICAgICAgICApLmFkZFRvKG1hcF82ZWQwM2RlMDU0NmQ0NGIyODE2ZDQ3NWUwOTYyNzMyMSk7CiAgICAgICAgCiAgICAKICAgICAgICAgICAgdmFyIGljb25fMDUwMDM5MTc5MjUyNGVkZDk2MWNkN2E4OWY2MDQ0MjQgPSBMLkF3ZXNvbWVNYXJrZXJzLmljb24oCiAgICAgICAgICAgICAgICB7ImV4dHJhQ2xhc3NlcyI6ICJmYS1yb3RhdGUtMCIsICJpY29uIjogImZhcyBmYS1ib2x0IiwgImljb25Db2xvciI6ICJ3aGl0ZSIsICJtYXJrZXJDb2xvciI6ICJvcmFuZ2UiLCAicHJlZml4IjogImZhIn0KICAgICAgICAgICAgKTsKICAgICAgICAgICAgbWFya2VyXzVlZDRmYmViYmQyNDRhZDdiNDNkY2Y0ZTlkNTllYWVkLnNldEljb24oaWNvbl8wNTAwMzkxNzkyNTI0ZWRkOTYxY2Q3YTg5ZjYwNDQyNCk7CiAgICAgICAgCiAgICAKICAgICAgICAgICAgdmFyIG1hcmtlcl81ODlmNWFhMjJiYTQ0MmM3YmU5Yjc1MmU0Zjg0YWE4OCA9IEwubWFya2VyKAogICAgICAgICAgICAgICAgWzQwLjcxNDI3LCAtNzQuMDA1OTddLAogICAgICAgICAgICAgICAge30KICAgICAgICAgICAgKS5hZGRUbyhtYXBfNmVkMDNkZTA1NDZkNDRiMjgxNmQ0NzVlMDk2MjczMjEpOwogICAgICAgIAogICAgCiAgICAgICAgICAgIHZhciBpY29uX2IwNjhmYTgyZjA2YzRiMDE5NzE5NmYxN2Q5YzM0ZmRlID0gTC5Bd2Vzb21lTWFya2Vycy5pY29uKAogICAgICAgICAgICAgICAgeyJleHRyYUNsYXNzZXMiOiAiZmEtcm90YXRlLTAiLCAiaWNvbiI6ICJmYXMgZmEtYm9sdCIsICJpY29uQ29sb3IiOiAid2hpdGUiLCAibWFya2VyQ29sb3IiOiAib3JhbmdlIiwgInByZWZpeCI6ICJmYSJ9CiAgICAgICAgICAgICk7CiAgICAgICAgICAgIG1hcmtlcl81ODlmNWFhMjJiYTQ0MmM3YmU5Yjc1MmU0Zjg0YWE4OC5zZXRJY29uKGljb25fYjA2OGZhODJmMDZjNGIwMTk3MTk2ZjE3ZDljMzRmZGUpOwogICAgICAgIAogICAgCiAgICAgICAgICAgIHZhciBtYXJrZXJfZWE4MmNjMDYzMzhlNDM1MWJmODA1MWM1NjQwZjM1ZTYgPSBMLm1hcmtlcigKICAgICAgICAgICAgICAgIFs1MS44NTIzNywgLTguMjk5MjRdLAogICAgICAgICAgICAgICAge30KICAgICAgICAgICAgKS5hZGRUbyhtYXBfNmVkMDNkZTA1NDZkNDRiMjgxNmQ0NzVlMDk2MjczMjEpOwogICAgICAgIAogICAgCiAgICAgICAgICAgIHZhciBpY29uXzk5MTkxNmIzZjU3MDRiY2Q5MWIwOTQyYzgwNTJkNzA4ID0gTC5Bd2Vzb21lTWFya2Vycy5pY29uKAogICAgICAgICAgICAgICAgeyJleHRyYUNsYXNzZXMiOiAiZmEtcm90YXRlLTAiLCAiaWNvbiI6ICJmYXMgZmEtYm9sdCIsICJpY29uQ29sb3IiOiAid2hpdGUiLCAibWFya2VyQ29sb3IiOiAib3JhbmdlIiwgInByZWZpeCI6ICJmYSJ9CiAgICAgICAgICAgICk7CiAgICAgICAgICAgIG1hcmtlcl9lYTgyY2MwNjMzOGU0MzUxYmY4MDUxYzU2NDBmMzVlNi5zZXRJY29uKGljb25fOTkxOTE2YjNmNTcwNGJjZDkxYjA5NDJjODA1MmQ3MDgpOwogICAgICAgIAogICAgCiAgICAgICAgICAgIHZhciBtYXJrZXJfOGViZmI5NDE3M2Y3NDNhNGExMDgxMTNjOTZlMDM4M2MgPSBMLm1hcmtlcigKICAgICAgICAgICAgICAgIFs1My4zMzMwNiwgLTYuMjQ4ODldLAogICAgICAgICAgICAgICAge30KICAgICAgICAgICAgKS5hZGRUbyhtYXBfNmVkMDNkZTA1NDZkNDRiMjgxNmQ0NzVlMDk2MjczMjEpOwogICAgICAgIAogICAgCiAgICAgICAgICAgIHZhciBpY29uX2U0MzZjYmU1OGIxMDQzYmE5NjUxMGY2YWY5YWUzYTA3ID0gTC5Bd2Vzb21lTWFya2Vycy5pY29uKAogICAgICAgICAgICAgICAgeyJleHRyYUNsYXNzZXMiOiAiZmEtcm90YXRlLTAiLCAiaWNvbiI6ICJmYXMgZmEtYm9sdCIsICJpY29uQ29sb3IiOiAid2hpdGUiLCAibWFya2VyQ29sb3IiOiAib3JhbmdlIiwgInByZWZpeCI6ICJmYSJ9CiAgICAgICAgICAgICk7CiAgICAgICAgICAgIG1hcmtlcl84ZWJmYjk0MTczZjc0M2E0YTEwODExM2M5NmUwMzgzYy5zZXRJY29uKGljb25fZTQzNmNiZTU4YjEwNDNiYTk2NTEwZjZhZjlhZTNhMDcpOwogICAgICAgIAogICAgCiAgICAgICAgICAgIHZhciBtYXJrZXJfYWIwMjI2NDlhZDYwNDM1NTlkZWYzMTU1YjFhYzgzZjggPSBMLm1hcmtlcigKICAgICAgICAgICAgICAgIFs1My40MTA1OCwgLTIuOTc3OTRdLAogICAgICAgICAgICAgICAge30KICAgICAgICAgICAgKS5hZGRUbyhtYXBfNmVkMDNkZTA1NDZkNDRiMjgxNmQ0NzVlMDk2MjczMjEpOwogICAgICAgIAogICAgCiAgICAgICAgICAgIHZhciBpY29uXzcxZDcyNmVjMzNiYzQ4MzRiNWVjMDdlYjM0OWY0OWQyID0gTC5Bd2Vzb21lTWFya2Vycy5pY29uKAogICAgICAgICAgICAgICAgeyJleHRyYUNsYXNzZXMiOiAiZmEtcm90YXRlLTAiLCAiaWNvbiI6ICJmYXMgZmEtYm9sdCIsICJpY29uQ29sb3IiOiAid2hpdGUiLCAibWFya2VyQ29sb3IiOiAib3JhbmdlIiwgInByZWZpeCI6ICJmYSJ9CiAgICAgICAgICAgICk7CiAgICAgICAgICAgIG1hcmtlcl9hYjAyMjY0OWFkNjA0MzU1OWRlZjMxNTViMWFjODNmOC5zZXRJY29uKGljb25fNzFkNzI2ZWMzM2JjNDgzNGI1ZWMwN2ViMzQ5ZjQ5ZDIpOwogICAgICAgIAogICAgCiAgICAgICAgICAgIHZhciBtYXJrZXJfZjNmODYyOGM4NjhiNDFmNzk2YmVhZGJiMzA5NmFjMWUgPSBMLm1hcmtlcigKICAgICAgICAgICAgICAgIFs1MS41MDg1MywgLTAuMTI1NzRdLAogICAgICAgICAgICAgICAge30KICAgICAgICAgICAgKS5hZGRUbyhtYXBfNmVkMDNkZTA1NDZkNDRiMjgxNmQ0NzVlMDk2MjczMjEpOwogICAgICAgIAogICAgCiAgICAgICAgICAgIHZhciBpY29uXzkyYzg2Y2RlOWJlNTQwNjNiYTFkMGU3NWVhYmY3YTVmID0gTC5Bd2Vzb21lTWFya2Vycy5pY29uKAogICAgICAgICAgICAgICAgeyJleHRyYUNsYXNzZXMiOiAiZmEtcm90YXRlLTAiLCAiaWNvbiI6ICJmYXMgZmEtYm9sdCIsICJpY29uQ29sb3IiOiAid2hpdGUiLCAibWFya2VyQ29sb3IiOiAib3JhbmdlIiwgInByZWZpeCI6ICJmYSJ9CiAgICAgICAgICAgICk7CiAgICAgICAgICAgIG1hcmtlcl9mM2Y4NjI4Yzg2OGI0MWY3OTZiZWFkYmIzMDk2YWMxZS5zZXRJY29uKGljb25fOTJjODZjZGU5YmU1NDA2M2JhMWQwZTc1ZWFiZjdhNWYpOwogICAgICAgIAogICAgCiAgICAgICAgICAgIHZhciBtYXJrZXJfY2M0YWIxMmZiMDhhNDZjN2FhYmEyOTNlNGY3YWM5MzAgPSBMLm1hcmtlcigKICAgICAgICAgICAgICAgIFs0OC44NTM0MSwgMi4zNDg4XSwKICAgICAgICAgICAgICAgIHt9CiAgICAgICAgICAgICkuYWRkVG8obWFwXzZlZDAzZGUwNTQ2ZDQ0YjI4MTZkNDc1ZTA5NjI3MzIxKTsKICAgICAgICAKICAgIAogICAgICAgICAgICB2YXIgaWNvbl85ODFjY2I2NGI2M2M0NzEwOGY5YTc4MmEyYjc4YmU5ZSA9IEwuQXdlc29tZU1hcmtlcnMuaWNvbigKICAgICAgICAgICAgICAgIHsiZXh0cmFDbGFzc2VzIjogImZhLXJvdGF0ZS0wIiwgImljb24iOiAiZmFzIGZhLWJvbHQiLCAiaWNvbkNvbG9yIjogIndoaXRlIiwgIm1hcmtlckNvbG9yIjogIm9yYW5nZSIsICJwcmVmaXgiOiAiZmEifQogICAgICAgICAgICApOwogICAgICAgICAgICBtYXJrZXJfY2M0YWIxMmZiMDhhNDZjN2FhYmEyOTNlNGY3YWM5MzAuc2V0SWNvbihpY29uXzk4MWNjYjY0YjYzYzQ3MTA4ZjlhNzgyYTJiNzhiZTllKTsKICAgICAgICAKICAgIAogICAgICAgICAgICB2YXIgbWFya2VyX2NmOGE0OGIyYWYyNDQ1MDVhYTRiMGFiM2Q3ZTk5MWRkID0gTC5tYXJrZXIoCiAgICAgICAgICAgICAgICBbNDAuNjMyMTUsIDE3LjkzNjA3XSwKICAgICAgICAgICAgICAgIHt9CiAgICAgICAgICAgICkuYWRkVG8obWFwXzZlZDAzZGUwNTQ2ZDQ0YjI4MTZkNDc1ZTA5NjI3MzIxKTsKICAgICAgICAKICAgIAogICAgICAgICAgICB2YXIgaWNvbl82NDdiYmYxMjRkYjY0YTI3OGYyMjc0OGQ4ZTRjMmEyOSA9IEwuQXdlc29tZU1hcmtlcnMuaWNvbigKICAgICAgICAgICAgICAgIHsiZXh0cmFDbGFzc2VzIjogImZhLXJvdGF0ZS0wIiwgImljb24iOiAiZmFzIGZhLWJvbHQiLCAiaWNvbkNvbG9yIjogIndoaXRlIiwgIm1hcmtlckNvbG9yIjogIm9yYW5nZSIsICJwcmVmaXgiOiAiZmEifQogICAgICAgICAgICApOwogICAgICAgICAgICBtYXJrZXJfY2Y4YTQ4YjJhZjI0NDUwNWFhNGIwYWIzZDdlOTkxZGQuc2V0SWNvbihpY29uXzY0N2JiZjEyNGRiNjRhMjc4ZjIyNzQ4ZDhlNGMyYTI5KTsKICAgICAgICAKICAgIAogICAgICAgICAgICB2YXIgbWFya2VyX2U3Yzk3ZGM2N2Q2MzQ5MzA4N2M1YjNjMjY3ODUxNjY2ID0gTC5tYXJrZXIoCiAgICAgICAgICAgICAgICBbMjkuOTczNzEsIDMyLjUyNjI3XSwKICAgICAgICAgICAgICAgIHt9CiAgICAgICAgICAgICkuYWRkVG8obWFwXzZlZDAzZGUwNTQ2ZDQ0YjI4MTZkNDc1ZTA5NjI3MzIxKTsKICAgICAgICAKICAgIAogICAgICAgICAgICB2YXIgaWNvbl84Y2RmYjFiZTk5YTg0NTc3YjkzZjAzZjUyMWJiNTFmYyA9IEwuQXdlc29tZU1hcmtlcnMuaWNvbigKICAgICAgICAgICAgICAgIHsiZXh0cmFDbGFzc2VzIjogImZhLXJvdGF0ZS0wIiwgImljb24iOiAiZmFzIGZhLWJvbHQiLCAiaWNvbkNvbG9yIjogIndoaXRlIiwgIm1hcmtlckNvbG9yIjogIm9yYW5nZSIsICJwcmVmaXgiOiAiZmEifQogICAgICAgICAgICApOwogICAgICAgICAgICBtYXJrZXJfZTdjOTdkYzY3ZDYzNDkzMDg3YzViM2MyNjc4NTE2NjYuc2V0SWNvbihpY29uXzhjZGZiMWJlOTlhODQ1NzdiOTNmMDNmNTIxYmI1MWZjKTsKICAgICAgICAKICAgIAogICAgICAgICAgICB2YXIgbWFya2VyXzAwYjQ5NDU5NzY5MDRjYWE5YzY5M2EwYzQ5YzY1YmZkID0gTC5tYXJrZXIoCiAgICAgICAgICAgICAgICBbMTIuNzc5NDQsIDQ1LjAzNjY3XSwKICAgICAgICAgICAgICAgIHt9CiAgICAgICAgICAgICkuYWRkVG8obWFwXzZlZDAzZGUwNTQ2ZDQ0YjI4MTZkNDc1ZTA5NjI3MzIxKTsKICAgICAgICAKICAgIAogICAgICAgICAgICB2YXIgaWNvbl8xM2FlNTZkODJhMGQ0ODNlYTVjZGEzM2IwYzcyMjQ1ZCA9IEwuQXdlc29tZU1hcmtlcnMuaWNvbigKICAgICAgICAgICAgICAgIHsiZXh0cmFDbGFzc2VzIjogImZhLXJvdGF0ZS0wIiwgImljb24iOiAiZmFzIGZhLWJvbHQiLCAiaWNvbkNvbG9yIjogIndoaXRlIiwgIm1hcmtlckNvbG9yIjogIm9yYW5nZSIsICJwcmVmaXgiOiAiZmEifQogICAgICAgICAgICApOwogICAgICAgICAgICBtYXJrZXJfMDBiNDk0NTk3NjkwNGNhYTljNjkzYTBjNDljNjViZmQuc2V0SWNvbihpY29uXzEzYWU1NmQ4MmEwZDQ4M2VhNWNkYTMzYjBjNzIyNDVkKTsKICAgICAgICAKICAgIAogICAgICAgICAgICB2YXIgbWFya2VyXzljNTQ3ZjE2MDhjNTRmZWE5ZTJkNTQxZWE0NzRlNmRkID0gTC5tYXJrZXIoCiAgICAgICAgICAgICAgICBbMTkuMDcyODMsIDcyLjg4MjYxXSwKICAgICAgICAgICAgICAgIHt9CiAgICAgICAgICAgICkuYWRkVG8obWFwXzZlZDAzZGUwNTQ2ZDQ0YjI4MTZkNDc1ZTA5NjI3MzIxKTsKICAgICAgICAKICAgIAogICAgICAgICAgICB2YXIgaWNvbl9lZTkyNDJkMTVmYTI0OTliOTJhYTVmMDMyOWYxNTZhYyA9IEwuQXdlc29tZU1hcmtlcnMuaWNvbigKICAgICAgICAgICAgICAgIHsiZXh0cmFDbGFzc2VzIjogImZhLXJvdGF0ZS0wIiwgImljb24iOiAiZmFzIGZhLWJvbHQiLCAiaWNvbkNvbG9yIjogIndoaXRlIiwgIm1hcmtlckNvbG9yIjogIm9yYW5nZSIsICJwcmVmaXgiOiAiZmEifQogICAgICAgICAgICApOwogICAgICAgICAgICBtYXJrZXJfOWM1NDdmMTYwOGM1NGZlYTllMmQ1NDFlYTQ3NGU2ZGQuc2V0SWNvbihpY29uX2VlOTI0MmQxNWZhMjQ5OWI5MmFhNWYwMzI5ZjE1NmFjKTsKICAgICAgICAKICAgIAogICAgICAgICAgICB2YXIgbWFya2VyXzU4YTRjNTFjODM2ZDQ4MmM4ZmM1YjE3YzM3ZjAwN2ZhID0gTC5tYXJrZXIoCiAgICAgICAgICAgICAgICBbMjUuNDQ0NzgsIDgxLjg0MzIyXSwKICAgICAgICAgICAgICAgIHt9CiAgICAgICAgICAgICkuYWRkVG8obWFwXzZlZDAzZGUwNTQ2ZDQ0YjI4MTZkNDc1ZTA5NjI3MzIxKTsKICAgICAgICAKICAgIAogICAgICAgICAgICB2YXIgaWNvbl8wY2U1ZjlhNTY3YjM0YWE5ODA5NTIyYjE1OTkwNjBlOCA9IEwuQXdlc29tZU1hcmtlcnMuaWNvbigKICAgICAgICAgICAgICAgIHsiZXh0cmFDbGFzc2VzIjogImZhLXJvdGF0ZS0wIiwgImljb24iOiAiZmFzIGZhLWJvbHQiLCAiaWNvbkNvbG9yIjogIndoaXRlIiwgIm1hcmtlckNvbG9yIjogIm9yYW5nZSIsICJwcmVmaXgiOiAiZmEifQogICAgICAgICAgICApOwogICAgICAgICAgICBtYXJrZXJfNThhNGM1MWM4MzZkNDgyYzhmYzViMTdjMzdmMDA3ZmEuc2V0SWNvbihpY29uXzBjZTVmOWE1NjdiMzRhYTk4MDk1MjJiMTU5OTA2MGU4KTsKICAgICAgICAKICAgIAogICAgICAgICAgICB2YXIgbWFya2VyX2Q5ODRhYzFiMzBkMDRjNGU4ODQzZDRlMDBiNGFmYWY4ID0gTC5tYXJrZXIoCiAgICAgICAgICAgICAgICBbMjIuNTYyNjMsIDg4LjM2MzA0XSwKICAgICAgICAgICAgICAgIHt9CiAgICAgICAgICAgICkuYWRkVG8obWFwXzZlZDAzZGUwNTQ2ZDQ0YjI4MTZkNDc1ZTA5NjI3MzIxKTsKICAgICAgICAKICAgIAogICAgICAgICAgICB2YXIgaWNvbl83ODM0NGMxODg0OGY0MDdlOTIzNTVlNmRkMmM5MGVjNyA9IEwuQXdlc29tZU1hcmtlcnMuaWNvbigKICAgICAgICAgICAgICAgIHsiZXh0cmFDbGFzc2VzIjogImZhLXJvdGF0ZS0wIiwgImljb24iOiAiZmFzIGZhLWJvbHQiLCAiaWNvbkNvbG9yIjogIndoaXRlIiwgIm1hcmtlckNvbG9yIjogIm9yYW5nZSIsICJwcmVmaXgiOiAiZmEifQogICAgICAgICAgICApOwogICAgICAgICAgICBtYXJrZXJfZDk4NGFjMWIzMGQwNGM0ZTg4NDNkNGUwMGI0YWZhZjguc2V0SWNvbihpY29uXzc4MzQ0YzE4ODQ4ZjQwN2U5MjM1NWU2ZGQyYzkwZWM3KTsKICAgICAgICAKICAgIAogICAgICAgICAgICB2YXIgbWFya2VyXzY0MWYxNDZlMjE1ODQ4YWM4ZWQ2ZmJjYTkzOWQ5ZGM2ID0gTC5tYXJrZXIoCiAgICAgICAgICAgICAgICBbMS4yODk2NywgMTAzLjg1MDA3XSwKICAgICAgICAgICAgICAgIHt9CiAgICAgICAgICAgICkuYWRkVG8obWFwXzZlZDAzZGUwNTQ2ZDQ0YjI4MTZkNDc1ZTA5NjI3MzIxKTsKICAgICAgICAKICAgIAogICAgICAgICAgICB2YXIgaWNvbl82MDdiZTMxYjUzODc0ZWVlYmMxZDkxMGZhMDNlN2QzMyA9IEwuQXdlc29tZU1hcmtlcnMuaWNvbigKICAgICAgICAgICAgICAgIHsiZXh0cmFDbGFzc2VzIjogImZhLXJvdGF0ZS0wIiwgImljb24iOiAiZmFzIGZhLWJvbHQiLCAiaWNvbkNvbG9yIjogIndoaXRlIiwgIm1hcmtlckNvbG9yIjogIm9yYW5nZSIsICJwcmVmaXgiOiAiZmEifQogICAgICAgICAgICApOwogICAgICAgICAgICBtYXJrZXJfNjQxZjE0NmUyMTU4NDhhYzhlZDZmYmNhOTM5ZDlkYzYuc2V0SWNvbihpY29uXzYwN2JlMzFiNTM4NzRlZWViYzFkOTEwZmEwM2U3ZDMzKTsKICAgICAgICAKICAgIAogICAgICAgICAgICB2YXIgbWFya2VyXzY4ZGYxMzA1MTJlZDQ0MmE4NzY4MjNjYTMwMzFjMjI2ID0gTC5tYXJrZXIoCiAgICAgICAgICAgICAgICBbMjIuMjc4MzIsIDExNC4xNzQ2OV0sCiAgICAgICAgICAgICAgICB7fQogICAgICAgICAgICApLmFkZFRvKG1hcF82ZWQwM2RlMDU0NmQ0NGIyODE2ZDQ3NWUwOTYyNzMyMSk7CiAgICAgICAgCiAgICAKICAgICAgICAgICAgdmFyIGljb25fYzM5YzJmMWIxNzg5NDllNjk4NTBlM2Q1MTY2YjVmMWMgPSBMLkF3ZXNvbWVNYXJrZXJzLmljb24oCiAgICAgICAgICAgICAgICB7ImV4dHJhQ2xhc3NlcyI6ICJmYS1yb3RhdGUtMCIsICJpY29uIjogImZhcyBmYS1ib2x0IiwgImljb25Db2xvciI6ICJ3aGl0ZSIsICJtYXJrZXJDb2xvciI6ICJvcmFuZ2UiLCAicHJlZml4IjogImZhIn0KICAgICAgICAgICAgKTsKICAgICAgICAgICAgbWFya2VyXzY4ZGYxMzA1MTJlZDQ0MmE4NzY4MjNjYTMwMzFjMjI2LnNldEljb24oaWNvbl9jMzljMmYxYjE3ODk0OWU2OTg1MGUzZDUxNjZiNWYxYyk7CiAgICAgICAgCiAgICAKICAgICAgICAgICAgdmFyIG1hcmtlcl9lMmMyNDllNmQ3NzA0NWIzODI3OTAzMjU4NWIwOGQxZCA9IEwubWFya2VyKAogICAgICAgICAgICAgICAgWzMxLjIyMjIyLCAxMjEuNDU4MDZdLAogICAgICAgICAgICAgICAge30KICAgICAgICAgICAgKS5hZGRUbyhtYXBfNmVkMDNkZTA1NDZkNDRiMjgxNmQ0NzVlMDk2MjczMjEpOwogICAgICAgIAogICAgCiAgICAgICAgICAgIHZhciBpY29uX2JhMjg4MTdjY2JjYjRjYzE5NDAxMmU2NDhhYzAzNzg4ID0gTC5Bd2Vzb21lTWFya2Vycy5pY29uKAogICAgICAgICAgICAgICAgeyJleHRyYUNsYXNzZXMiOiAiZmEtcm90YXRlLTAiLCAiaWNvbiI6ICJmYXMgZmEtYm9sdCIsICJpY29uQ29sb3IiOiAid2hpdGUiLCAibWFya2VyQ29sb3IiOiAib3JhbmdlIiwgInByZWZpeCI6ICJmYSJ9CiAgICAgICAgICAgICk7CiAgICAgICAgICAgIG1hcmtlcl9lMmMyNDllNmQ3NzA0NWIzODI3OTAzMjU4NWIwOGQxZC5zZXRJY29uKGljb25fYmEyODgxN2NjYmNiNGNjMTk0MDEyZTY0OGFjMDM3ODgpOwogICAgICAgIAogICAgCiAgICAgICAgICAgIHZhciBtYXJrZXJfMzliZTNlOTA1MDM0NDBjN2I4MjM0MTgzZDI4ODA2ZTUgPSBMLm1hcmtlcigKICAgICAgICAgICAgICAgIFszMi43NSwgMTI5Ljg4MzMzXSwKICAgICAgICAgICAgICAgIHt9CiAgICAgICAgICAgICkuYWRkVG8obWFwXzZlZDAzZGUwNTQ2ZDQ0YjI4MTZkNDc1ZTA5NjI3MzIxKTsKICAgICAgICAKICAgIAogICAgICAgICAgICB2YXIgaWNvbl9jZTE4YmM0ZWYyMzc0MzJlOTY0OTYwNjY0YTc2ZWQwOCA9IEwuQXdlc29tZU1hcmtlcnMuaWNvbigKICAgICAgICAgICAgICAgIHsiZXh0cmFDbGFzc2VzIjogImZhLXJvdGF0ZS0wIiwgImljb24iOiAiZmFzIGZhLWJvbHQiLCAiaWNvbkNvbG9yIjogIndoaXRlIiwgIm1hcmtlckNvbG9yIjogIm9yYW5nZSIsICJwcmVmaXgiOiAiZmEifQogICAgICAgICAgICApOwogICAgICAgICAgICBtYXJrZXJfMzliZTNlOTA1MDM0NDBjN2I4MjM0MTgzZDI4ODA2ZTUuc2V0SWNvbihpY29uX2NlMThiYzRlZjIzNzQzMmU5NjQ5NjA2NjRhNzZlZDA4KTsKICAgICAgICAKICAgIAogICAgICAgICAgICB2YXIgbWFya2VyXzA4MTMyYzVlYjllMzRjMDU5MTM1NzdhMGFmZmYyNzEwID0gTC5tYXJrZXIoCiAgICAgICAgICAgICAgICBbMzUuNDMzMzMsIDEzOS42NV0sCiAgICAgICAgICAgICAgICB7fQogICAgICAgICAgICApLmFkZFRvKG1hcF82ZWQwM2RlMDU0NmQ0NGIyODE2ZDQ3NWUwOTYyNzMyMSk7CiAgICAgICAgCiAgICAKICAgICAgICAgICAgdmFyIGljb25fMTU2NGFlMDhlMTdiNDg0NzhmNTBmMjRmNTUwODc3MjMgPSBMLkF3ZXNvbWVNYXJrZXJzLmljb24oCiAgICAgICAgICAgICAgICB7ImV4dHJhQ2xhc3NlcyI6ICJmYS1yb3RhdGUtMCIsICJpY29uIjogImZhcyBmYS1ib2x0IiwgImljb25Db2xvciI6ICJ3aGl0ZSIsICJtYXJrZXJDb2xvciI6ICJvcmFuZ2UiLCAicHJlZml4IjogImZhIn0KICAgICAgICAgICAgKTsKICAgICAgICAgICAgbWFya2VyXzA4MTMyYzVlYjllMzRjMDU5MTM1NzdhMGFmZmYyNzEwLnNldEljb24oaWNvbl8xNTY0YWUwOGUxN2I0ODQ3OGY1MGYyNGY1NTA4NzcyMyk7CiAgICAgICAgCjwvc2NyaXB0Pg== onload=\"this.contentDocument.open();this.contentDocument.write(atob(this.getAttribute('data-html')));this.contentDocument.close();\" allowfullscreen webkitallowfullscreen mozallowfullscreen></iframe></div></div>"
      ],
      "text/plain": [
       "<folium.folium.Map at 0x2abfb83b148>"
      ]
     },
     "execution_count": 53,
     "metadata": {},
     "output_type": "execute_result"
    }
   ],
   "source": [
    "get_map([(k[1], k[0]) for k in destinations], polylines=True)"
   ]
  },
  {
   "cell_type": "code",
   "execution_count": 54,
   "metadata": {},
   "outputs": [
    {
     "data": {
      "text/plain": [
       "[(-122.41942, 37.77493),\n",
       " (-121.4944, 38.58157),\n",
       " (-111.97383, 41.223),\n",
       " (-111.89105, 40.76078),\n",
       " (-95.94043, 41.25626),\n",
       " (-87.65005, 41.85003),\n",
       " (-74.2632, 40.6976),\n",
       " (-74.14542, 40.76843),\n",
       " (-74.00597, 40.71427),\n",
       " (-8.29924, 51.85237),\n",
       " (-6.24889, 53.33306),\n",
       " (-2.97794, 53.41058),\n",
       " (-0.12574, 51.50853),\n",
       " (2.3488, 48.85341),\n",
       " (17.93607, 40.63215),\n",
       " (32.52627, 29.97371),\n",
       " (45.03667, 12.77944),\n",
       " (72.88261, 19.07283),\n",
       " (81.84322, 25.44478),\n",
       " (88.36304, 22.56263),\n",
       " (103.85007, 1.28967),\n",
       " (114.17469, 22.27832),\n",
       " (121.45806, 31.22222),\n",
       " (129.88333, 32.75),\n",
       " (139.65, 35.43333)]"
      ]
     },
     "execution_count": 54,
     "metadata": {},
     "output_type": "execute_result"
    }
   ],
   "source": [
    "[(k[0], k[1]) for k in destinations]"
   ]
  }
 ],
 "metadata": {
  "kernelspec": {
   "display_name": "Python 3",
   "language": "python",
   "name": "python3"
  },
  "language_info": {
   "codemirror_mode": {
    "name": "ipython",
    "version": 3
   },
   "file_extension": ".py",
   "mimetype": "text/x-python",
   "name": "python",
   "nbconvert_exporter": "python",
   "pygments_lexer": "ipython3",
   "version": "3.7.4"
  }
 },
 "nbformat": 4,
 "nbformat_minor": 4
}
